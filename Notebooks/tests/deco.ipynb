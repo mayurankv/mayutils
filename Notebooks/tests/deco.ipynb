{
 "cells": [
  {
   "cell_type": "code",
   "execution_count": null,
   "id": "eb6f1fa6",
   "metadata": {},
   "outputs": [
    {
     "data": {
      "text/html": [
       "<pre style=\"white-space:pre;overflow-x:auto;line-height:normal;font-family:Menlo,'DejaVu Sans Mono',consolas,'Courier New',monospace\"></pre>\n"
      ],
      "text/plain": []
     },
     "metadata": {},
     "output_type": "display_data"
    },
    {
     "data": {
      "text/html": [
       "<style>\n",
       "            .cell-output-ipywidget-background {\n",
       "                background-color: transparent !important;\n",
       "            }\n",
       "            .jp-OutputArea-output {\n",
       "                background-color: transparent;\n",
       "            }\n",
       "            .updatemenu-button > rect.updatemenu-item-rect[style*=\"fill: rgb(244, 250, 255)\"],\n",
       "            .updatemenu-header > rect.updatemenu-item-rect[style*=\"fill: rgb(244, 250, 255)\"],\n",
       "            .updatemenu-dropdown-button > rect.updatemenu-item-rect[style*=\"fill: rgb(244, 250, 255)\"] {\n",
       "                fill: rgba(80, 103, 132, 0.4) !important;\n",
       "            }\n",
       "            .updatemenu-button:hover > rect.updatemenu-item-rect[style*=\"fill: rgb(244, 250, 255)\"],\n",
       "            .updatemenu-header:hover > rect.updatemenu-item-rect[style*=\"fill: rgb(244, 250, 255)\"],\n",
       "            .updatemenu-dropdown-button:hover > rect.updatemenu-item-rect[style*=\"fill: rgb(244, 250, 255)\"] {\n",
       "                fill: rgba(80, 103, 132, 0.6) !important;\n",
       "            }\n",
       "        </style>"
      ],
      "text/plain": [
       "\u001b[1m<\u001b[0m\u001b[1;95mIPython.core.display.HTML\u001b[0m\u001b[39m object\u001b[0m\u001b[1m>\u001b[0m"
      ]
     },
     "metadata": {},
     "output_type": "display_data"
    }
   ],
   "source": [
    "from mayutils.objects.classes import adopt_super_methods\n",
    "\n",
    "\n",
    "class Base:\n",
    "    def foo(self, x):\n",
    "        print(f\"Base.foo({x})\")\n",
    "        print(\"working\")\n",
    "\n",
    "    def bar(self, y):\n",
    "        print(f\"Base.bar({y})\")\n",
    "        print(\"working\")\n",
    "\n",
    "\n",
    "@adopt_super_methods\n",
    "class Sub(Base):\n",
    "    pass\n"
   ]
  },
  {
   "cell_type": "code",
   "execution_count": 3,
   "id": "dd659f8a",
   "metadata": {},
   "outputs": [
    {
     "data": {
      "text/html": [
       "<pre style=\"white-space:pre;overflow-x:auto;line-height:normal;font-family:Menlo,'DejaVu Sans Mono',consolas,'Courier New',monospace\"></pre>\n"
      ],
      "text/plain": []
     },
     "metadata": {},
     "output_type": "display_data"
    },
    {
     "data": {
      "text/html": [
       "<style>\n",
       "            .cell-output-ipywidget-background {\n",
       "                background-color: transparent !important;\n",
       "            }\n",
       "            .jp-OutputArea-output {\n",
       "                background-color: transparent;\n",
       "            }\n",
       "            .updatemenu-button > rect.updatemenu-item-rect[style*=\"fill: rgb(244, 250, 255)\"],\n",
       "            .updatemenu-header > rect.updatemenu-item-rect[style*=\"fill: rgb(244, 250, 255)\"],\n",
       "            .updatemenu-dropdown-button > rect.updatemenu-item-rect[style*=\"fill: rgb(244, 250, 255)\"] {\n",
       "                fill: rgba(80, 103, 132, 0.4) !important;\n",
       "            }\n",
       "            .updatemenu-button:hover > rect.updatemenu-item-rect[style*=\"fill: rgb(244, 250, 255)\"],\n",
       "            .updatemenu-header:hover > rect.updatemenu-item-rect[style*=\"fill: rgb(244, 250, 255)\"],\n",
       "            .updatemenu-dropdown-button:hover > rect.updatemenu-item-rect[style*=\"fill: rgb(244, 250, 255)\"] {\n",
       "                fill: rgba(80, 103, 132, 0.6) !important;\n",
       "            }\n",
       "        </style>"
      ],
      "text/plain": [
       "\u001b[1m<\u001b[0m\u001b[1;95mIPython.core.display.HTML\u001b[0m\u001b[39m object\u001b[0m\u001b[1m>\u001b[0m"
      ]
     },
     "metadata": {},
     "output_type": "display_data"
    },
    {
     "data": {
      "application/vnd.plotly.v1+json": {
       "config": {
        "plotlyServerURL": "https://plot.ly"
       },
       "data": [],
       "layout": {
        "shapes": [
         {
          "type": "line",
          "x0": 0,
          "x1": 1,
          "xref": "x domain",
          "y0": 1,
          "y1": 1,
          "yref": "y"
         }
        ],
        "template": {
         "data": {
          "bar": [
           {
            "error_x": {
             "color": "#f2f5fa"
            },
            "error_y": {
             "color": "#f2f5fa"
            },
            "marker": {
             "line": {
              "color": "rgba(0,0,0,0)",
              "width": 0.5
             },
             "pattern": {
              "fillmode": "overlay",
              "size": 10,
              "solidity": 0.2
             }
            },
            "type": "bar"
           }
          ],
          "barpolar": [
           {
            "marker": {
             "line": {
              "color": "rgba(0,0,0,0)",
              "width": 0.5
             },
             "pattern": {
              "fillmode": "overlay",
              "size": 10,
              "solidity": 0.2
             }
            },
            "type": "barpolar"
           }
          ],
          "carpet": [
           {
            "aaxis": {
             "endlinecolor": "#A2B1C6",
             "gridcolor": "#506784",
             "linecolor": "#506784",
             "minorgridcolor": "#506784",
             "startlinecolor": "#A2B1C6"
            },
            "baxis": {
             "endlinecolor": "#A2B1C6",
             "gridcolor": "#506784",
             "linecolor": "#506784",
             "minorgridcolor": "#506784",
             "startlinecolor": "#A2B1C6"
            },
            "type": "carpet"
           }
          ],
          "choropleth": [
           {
            "colorbar": {
             "outlinewidth": 0,
             "ticks": ""
            },
            "type": "choropleth"
           }
          ],
          "contour": [
           {
            "colorbar": {
             "outlinewidth": 0,
             "ticks": ""
            },
            "colorscale": [
             [
              0,
              "#0d0887"
             ],
             [
              0.1111111111111111,
              "#46039f"
             ],
             [
              0.2222222222222222,
              "#7201a8"
             ],
             [
              0.3333333333333333,
              "#9c179e"
             ],
             [
              0.4444444444444444,
              "#bd3786"
             ],
             [
              0.5555555555555556,
              "#d8576b"
             ],
             [
              0.6666666666666666,
              "#ed7953"
             ],
             [
              0.7777777777777778,
              "#fb9f3a"
             ],
             [
              0.8888888888888888,
              "#fdca26"
             ],
             [
              1,
              "#f0f921"
             ]
            ],
            "type": "contour"
           }
          ],
          "contourcarpet": [
           {
            "colorbar": {
             "outlinewidth": 0,
             "ticks": ""
            },
            "type": "contourcarpet"
           }
          ],
          "heatmap": [
           {
            "colorbar": {
             "outlinewidth": 0,
             "ticks": ""
            },
            "colorscale": [
             [
              0,
              "#0d0887"
             ],
             [
              0.1111111111111111,
              "#46039f"
             ],
             [
              0.2222222222222222,
              "#7201a8"
             ],
             [
              0.3333333333333333,
              "#9c179e"
             ],
             [
              0.4444444444444444,
              "#bd3786"
             ],
             [
              0.5555555555555556,
              "#d8576b"
             ],
             [
              0.6666666666666666,
              "#ed7953"
             ],
             [
              0.7777777777777778,
              "#fb9f3a"
             ],
             [
              0.8888888888888888,
              "#fdca26"
             ],
             [
              1,
              "#f0f921"
             ]
            ],
            "hoverongaps": false,
            "texttemplate": "%{z}",
            "type": "heatmap"
           }
          ],
          "heatmapgl": [
           {
            "colorbar": {
             "outlinewidth": 0,
             "ticks": ""
            },
            "colorscale": [
             [
              0,
              "#0d0887"
             ],
             [
              0.1111111111111111,
              "#46039f"
             ],
             [
              0.2222222222222222,
              "#7201a8"
             ],
             [
              0.3333333333333333,
              "#9c179e"
             ],
             [
              0.4444444444444444,
              "#bd3786"
             ],
             [
              0.5555555555555556,
              "#d8576b"
             ],
             [
              0.6666666666666666,
              "#ed7953"
             ],
             [
              0.7777777777777778,
              "#fb9f3a"
             ],
             [
              0.8888888888888888,
              "#fdca26"
             ],
             [
              1,
              "#f0f921"
             ]
            ],
            "type": "heatmapgl"
           }
          ],
          "histogram": [
           {
            "histnorm": "probability density",
            "marker": {
             "line": {
              "width": 1
             },
             "opacity": 0.4,
             "pattern": {
              "fillmode": "overlay",
              "size": 10,
              "solidity": 0.2
             }
            },
            "type": "histogram"
           }
          ],
          "histogram2d": [
           {
            "colorbar": {
             "outlinewidth": 0,
             "ticks": ""
            },
            "colorscale": [
             [
              0,
              "#0d0887"
             ],
             [
              0.1111111111111111,
              "#46039f"
             ],
             [
              0.2222222222222222,
              "#7201a8"
             ],
             [
              0.3333333333333333,
              "#9c179e"
             ],
             [
              0.4444444444444444,
              "#bd3786"
             ],
             [
              0.5555555555555556,
              "#d8576b"
             ],
             [
              0.6666666666666666,
              "#ed7953"
             ],
             [
              0.7777777777777778,
              "#fb9f3a"
             ],
             [
              0.8888888888888888,
              "#fdca26"
             ],
             [
              1,
              "#f0f921"
             ]
            ],
            "type": "histogram2d"
           }
          ],
          "histogram2dcontour": [
           {
            "colorbar": {
             "outlinewidth": 0,
             "ticks": ""
            },
            "colorscale": [
             [
              0,
              "#0d0887"
             ],
             [
              0.1111111111111111,
              "#46039f"
             ],
             [
              0.2222222222222222,
              "#7201a8"
             ],
             [
              0.3333333333333333,
              "#9c179e"
             ],
             [
              0.4444444444444444,
              "#bd3786"
             ],
             [
              0.5555555555555556,
              "#d8576b"
             ],
             [
              0.6666666666666666,
              "#ed7953"
             ],
             [
              0.7777777777777778,
              "#fb9f3a"
             ],
             [
              0.8888888888888888,
              "#fdca26"
             ],
             [
              1,
              "#f0f921"
             ]
            ],
            "type": "histogram2dcontour"
           }
          ],
          "mesh3d": [
           {
            "colorbar": {
             "outlinewidth": 0,
             "ticks": ""
            },
            "type": "mesh3d"
           }
          ],
          "parcoords": [
           {
            "line": {
             "colorbar": {
              "outlinewidth": 0,
              "ticks": ""
             }
            },
            "type": "parcoords"
           }
          ],
          "pie": [
           {
            "automargin": true,
            "type": "pie"
           }
          ],
          "scatter": [
           {
            "hovertemplate": "<b>%{fullData.name}</b><br>x: %{x}<br>y: %{y}<extra></extra>",
            "marker": {
             "line": {
              "color": "#283442"
             },
             "size": 4
            },
            "type": "scatter"
           }
          ],
          "scatter3d": [
           {
            "line": {
             "colorbar": {
              "outlinewidth": 0,
              "ticks": ""
             }
            },
            "marker": {
             "colorbar": {
              "outlinewidth": 0,
              "ticks": ""
             }
            },
            "type": "scatter3d"
           }
          ],
          "scattercarpet": [
           {
            "marker": {
             "colorbar": {
              "outlinewidth": 0,
              "ticks": ""
             }
            },
            "type": "scattercarpet"
           }
          ],
          "scattergeo": [
           {
            "marker": {
             "colorbar": {
              "outlinewidth": 0,
              "ticks": ""
             }
            },
            "type": "scattergeo"
           }
          ],
          "scattergl": [
           {
            "marker": {
             "line": {
              "color": "#283442"
             }
            },
            "type": "scattergl"
           }
          ],
          "scattermapbox": [
           {
            "marker": {
             "colorbar": {
              "outlinewidth": 0,
              "ticks": ""
             }
            },
            "type": "scattermapbox"
           }
          ],
          "scatterpolar": [
           {
            "marker": {
             "colorbar": {
              "outlinewidth": 0,
              "ticks": ""
             }
            },
            "type": "scatterpolar"
           }
          ],
          "scatterpolargl": [
           {
            "marker": {
             "colorbar": {
              "outlinewidth": 0,
              "ticks": ""
             }
            },
            "type": "scatterpolargl"
           }
          ],
          "scatterternary": [
           {
            "marker": {
             "colorbar": {
              "outlinewidth": 0,
              "ticks": ""
             }
            },
            "type": "scatterternary"
           }
          ],
          "surface": [
           {
            "colorbar": {
             "outlinewidth": 0,
             "ticks": ""
            },
            "colorscale": [
             [
              0,
              "#0d0887"
             ],
             [
              0.1111111111111111,
              "#46039f"
             ],
             [
              0.2222222222222222,
              "#7201a8"
             ],
             [
              0.3333333333333333,
              "#9c179e"
             ],
             [
              0.4444444444444444,
              "#bd3786"
             ],
             [
              0.5555555555555556,
              "#d8576b"
             ],
             [
              0.6666666666666666,
              "#ed7953"
             ],
             [
              0.7777777777777778,
              "#fb9f3a"
             ],
             [
              0.8888888888888888,
              "#fdca26"
             ],
             [
              1,
              "#f0f921"
             ]
            ],
            "type": "surface"
           }
          ],
          "table": [
           {
            "cells": {
             "fill": {
              "color": "#506784"
             },
             "line": {
              "color": "rgba(0,0,0,0)"
             }
            },
            "header": {
             "fill": {
              "color": "#2a3f5f"
             },
             "line": {
              "color": "rgba(0,0,0,0)"
             }
            },
            "type": "table"
           }
          ]
         },
         "layout": {
          "annotationdefaults": {
           "arrowcolor": "#f2f5fa",
           "arrowhead": 0,
           "arrowwidth": 0.5,
           "font": {
            "size": 10
           }
          },
          "autotypenumbers": "strict",
          "barmode": "overlay",
          "boxmode": "group",
          "coloraxis": {
           "colorbar": {
            "outlinewidth": 0,
            "ticks": ""
           }
          },
          "colorscale": {
           "diverging": [
            [
             0,
             "#8e0152"
            ],
            [
             0.1,
             "#c51b7d"
            ],
            [
             0.2,
             "#de77ae"
            ],
            [
             0.3,
             "#f1b6da"
            ],
            [
             0.4,
             "#fde0ef"
            ],
            [
             0.5,
             "#f7f7f7"
            ],
            [
             0.6,
             "#e6f5d0"
            ],
            [
             0.7,
             "#b8e186"
            ],
            [
             0.8,
             "#7fbc41"
            ],
            [
             0.9,
             "#4d9221"
            ],
            [
             1,
             "#276419"
            ]
           ],
           "sequential": [
            [
             0,
             "#0d0887"
            ],
            [
             0.1111111111111111,
             "#46039f"
            ],
            [
             0.2222222222222222,
             "#7201a8"
            ],
            [
             0.3333333333333333,
             "#9c179e"
            ],
            [
             0.4444444444444444,
             "#bd3786"
            ],
            [
             0.5555555555555556,
             "#d8576b"
            ],
            [
             0.6666666666666666,
             "#ed7953"
            ],
            [
             0.7777777777777778,
             "#fb9f3a"
            ],
            [
             0.8888888888888888,
             "#fdca26"
            ],
            [
             1,
             "#f0f921"
            ]
           ],
           "sequentialminus": [
            [
             0,
             "#0d0887"
            ],
            [
             0.1111111111111111,
             "#46039f"
            ],
            [
             0.2222222222222222,
             "#7201a8"
            ],
            [
             0.3333333333333333,
             "#9c179e"
            ],
            [
             0.4444444444444444,
             "#bd3786"
            ],
            [
             0.5555555555555556,
             "#d8576b"
            ],
            [
             0.6666666666666666,
             "#ed7953"
            ],
            [
             0.7777777777777778,
             "#fb9f3a"
            ],
            [
             0.8888888888888888,
             "#fdca26"
            ],
            [
             1,
             "#f0f921"
            ]
           ]
          },
          "colorway": [
           "#636efa",
           "#00cc96",
           "#FECB52",
           "#FF85FF",
           "#C592FD",
           "#19d3f3",
           "#3BDB5F",
           "#FFBD8E",
           "#FF97FF",
           "#ab63fa",
           "#30D5DB",
           "#B6E880",
           "#FFA15A",
           "#FF6692",
           "#9299FD",
           "#73DBB6",
           "#FFE989",
           "#FFCCFF",
           "#EF553B"
          ],
          "font": {
           "color": "#f2f5fa",
           "family": "\"SF Pro Rounded\", \"Mona Sans\", \"CMU Serif\", \"Monaspace Neon\", \"Open Sans\", verdana, arial, sans-serif",
           "weight": 200
          },
          "geo": {
           "bgcolor": "rgba(0,0,0,0)",
           "lakecolor": "rgba(0,0,0,0)",
           "landcolor": "rgba(0,0,0,0)",
           "showlakes": true,
           "showland": true,
           "subunitcolor": "#506784"
          },
          "hoverlabel": {
           "align": "left"
          },
          "hovermode": "closest",
          "legend": {
           "font": {
            "size": 10
           },
           "grouptitlefont": {
            "size": 12,
            "weight": 200
           },
           "itemsizing": "trace",
           "itemwidth": 30,
           "orientation": "h",
           "y": 1,
           "yanchor": "bottom",
           "yref": "paper"
          },
          "mapbox": {
           "style": "dark"
          },
          "margin": {
           "b": 50,
           "l": 50,
           "t": 75
          },
          "modebar": {
           "add": [],
           "bgcolor": "rgba(0,0,0,0)",
           "remove": [
            "zoomin",
            "zoomout",
            "lasso",
            "autoscale",
            "select"
           ]
          },
          "paper_bgcolor": "rgba(0,0,0,0)",
          "plot_bgcolor": "rgba(0,0,0,0)",
          "polar": {
           "angularaxis": {
            "gridcolor": "#506784",
            "linecolor": "#506784",
            "ticks": ""
           },
           "bgcolor": "rgba(0,0,0,0)",
           "radialaxis": {
            "gridcolor": "#506784",
            "linecolor": "#506784",
            "ticks": ""
           }
          },
          "scene": {
           "aspectmode": "auto",
           "bgcolor": "rgba(0,0,0,0)",
           "xaxis": {
            "backgroundcolor": "rgba(0,0,0,0)",
            "gridcolor": "#506784",
            "gridwidth": 2,
            "linecolor": "#506784",
            "mirror": true,
            "showbackground": true,
            "showline": true,
            "showspikes": false,
            "ticks": "",
            "zeroline": true,
            "zerolinecolor": "#C8D4E3"
           },
           "yaxis": {
            "backgroundcolor": "rgba(0,0,0,0)",
            "gridcolor": "#506784",
            "gridwidth": 2,
            "linecolor": "#506784",
            "mirror": true,
            "showbackground": true,
            "showline": true,
            "showspikes": false,
            "ticks": "",
            "zeroline": true,
            "zerolinecolor": "#C8D4E3"
           },
           "zaxis": {
            "backgroundcolor": "rgba(0,0,0,0)",
            "gridcolor": "#506784",
            "gridwidth": 2,
            "linecolor": "#506784",
            "mirror": true,
            "showbackground": true,
            "showline": true,
            "ticks": "",
            "zeroline": true,
            "zerolinecolor": "#C8D4E3"
           }
          },
          "shapedefaults": {
           "line": {
            "color": "#f2f5fa"
           }
          },
          "showlegend": true,
          "sliderdefaults": {
           "bgcolor": "#C8D4E3",
           "bordercolor": "rgba(0,0,0,0)",
           "borderwidth": 1,
           "tickwidth": 0
          },
          "ternary": {
           "aaxis": {
            "gridcolor": "#506784",
            "linecolor": "#506784",
            "ticks": ""
           },
           "baxis": {
            "gridcolor": "#506784",
            "linecolor": "#506784",
            "ticks": ""
           },
           "bgcolor": "rgba(0,0,0,0)",
           "caxis": {
            "gridcolor": "#506784",
            "linecolor": "#506784",
            "ticks": ""
           }
          },
          "title": {
           "font": {
            "size": 28
           },
           "pad": {
            "b": 40
           },
           "x": 0.5,
           "y": 1,
           "yanchor": "bottom",
           "yref": "paper"
          },
          "updatemenudefaults": {
           "bgcolor": "rgba(33, 67, 96, 0.4)",
           "bordercolor": "rgba(0,0,0,0)",
           "borderwidth": 0,
           "buttons": [
            {
             "args": [
              "type",
              "mesh3d"
             ],
             "label": "3D Bar",
             "method": "restyle",
             "name": "bar3d"
            }
           ],
           "direction": "left",
           "font": {
            "size": 11,
            "weight": 200
           },
           "showactive": true,
           "type": "buttons",
           "x": 1,
           "xanchor": "right",
           "yanchor": "bottom"
          },
          "xaxis": {
           "gridcolor": "#283442",
           "gridwidth": 2,
           "linecolor": "#506784",
           "minor": {
            "gridcolor": "rgba(40, 52, 66, 0.4)",
            "showgrid": true
           },
           "mirror": true,
           "showgrid": true,
           "showline": true,
           "tickfont": {
            "size": 12
           },
           "ticklabelmode": "period",
           "title": {
            "font": {
             "size": 16
            },
            "standoff": 10
           },
           "zeroline": true,
           "zerolinecolor": "#283442",
           "zerolinewidth": 2
          },
          "yaxis": {
           "gridcolor": "#283442",
           "gridwidth": 2,
           "linecolor": "#506784",
           "minor": {
            "gridcolor": "rgba(40, 52, 66, 0.4)",
            "showgrid": true
           },
           "mirror": true,
           "showgrid": true,
           "showline": true,
           "tickfont": {
            "size": 12
           },
           "ticklabelmode": "period",
           "title": {
            "font": {
             "size": 16
            },
            "standoff": 10
           },
           "zeroline": true,
           "zerolinecolor": "#283442",
           "zerolinewidth": 2
          }
         }
        }
       }
      }
     },
     "metadata": {},
     "output_type": "display_data"
    }
   ],
   "source": [
    "from mayutils.visualisation.graphs import Plot\n",
    "\n",
    "Plot.empty(\n",
    "    description=\"\",\n",
    ").add_hline(y=1)\n"
   ]
  },
  {
   "cell_type": "code",
   "execution_count": 2,
   "id": "ed7e4f46",
   "metadata": {},
   "outputs": [
    {
     "data": {
      "text/html": [
       "<pre style=\"white-space:pre;overflow-x:auto;line-height:normal;font-family:Menlo,'DejaVu Sans Mono',consolas,'Courier New',monospace\"></pre>\n"
      ],
      "text/plain": []
     },
     "metadata": {},
     "output_type": "display_data"
    },
    {
     "data": {
      "text/html": [
       "<style>\n",
       "            .cell-output-ipywidget-background {\n",
       "                background-color: transparent !important;\n",
       "            }\n",
       "            .jp-OutputArea-output {\n",
       "                background-color: transparent;\n",
       "            }\n",
       "            .updatemenu-button > rect.updatemenu-item-rect[style*=\"fill: rgb(244, 250, 255)\"],\n",
       "            .updatemenu-header > rect.updatemenu-item-rect[style*=\"fill: rgb(244, 250, 255)\"],\n",
       "            .updatemenu-dropdown-button > rect.updatemenu-item-rect[style*=\"fill: rgb(244, 250, 255)\"] {\n",
       "                fill: rgba(80, 103, 132, 0.4) !important;\n",
       "            }\n",
       "            .updatemenu-button:hover > rect.updatemenu-item-rect[style*=\"fill: rgb(244, 250, 255)\"],\n",
       "            .updatemenu-header:hover > rect.updatemenu-item-rect[style*=\"fill: rgb(244, 250, 255)\"],\n",
       "            .updatemenu-dropdown-button:hover > rect.updatemenu-item-rect[style*=\"fill: rgb(244, 250, 255)\"] {\n",
       "                fill: rgba(80, 103, 132, 0.6) !important;\n",
       "            }\n",
       "        </style>"
      ],
      "text/plain": [
       "\u001b[1m<\u001b[0m\u001b[1;95mIPython.core.display.HTML\u001b[0m\u001b[39m object\u001b[0m\u001b[1m>\u001b[0m"
      ]
     },
     "metadata": {},
     "output_type": "display_data"
    },
    {
     "data": {
      "text/html": [
       "<pre style=\"white-space:pre;overflow-x:auto;line-height:normal;font-family:Menlo,'DejaVu Sans Mono',consolas,'Courier New',monospace\"><span style=\"color: #800080; text-decoration-color: #800080; font-weight: bold\">Base.foo</span><span style=\"font-weight: bold\">(</span><span style=\"color: #008080; text-decoration-color: #008080; font-weight: bold\">1</span><span style=\"font-weight: bold\">)</span>\n",
       "</pre>\n"
      ],
      "text/plain": [
       "\u001b[1;35mBase.foo\u001b[0m\u001b[1m(\u001b[0m\u001b[1;36m1\u001b[0m\u001b[1m)\u001b[0m\n"
      ]
     },
     "metadata": {},
     "output_type": "display_data"
    },
    {
     "data": {
      "text/html": [
       "<pre style=\"white-space:pre;overflow-x:auto;line-height:normal;font-family:Menlo,'DejaVu Sans Mono',consolas,'Courier New',monospace\"><span style=\"color: #800080; text-decoration-color: #800080; font-weight: bold\">Base.bar</span><span style=\"font-weight: bold\">(</span><span style=\"color: #008080; text-decoration-color: #008080; font-weight: bold\">2</span><span style=\"font-weight: bold\">)</span>\n",
       "</pre>\n"
      ],
      "text/plain": [
       "\u001b[1;35mBase.bar\u001b[0m\u001b[1m(\u001b[0m\u001b[1;36m2\u001b[0m\u001b[1m)\u001b[0m\n"
      ]
     },
     "metadata": {},
     "output_type": "display_data"
    }
   ],
   "source": [
    "obj = Sub().foo(1).bar(2)\n"
   ]
  }
 ],
 "metadata": {
  "kernelspec": {
   "display_name": ".venv",
   "language": "python",
   "name": "python3"
  },
  "language_info": {
   "codemirror_mode": {
    "name": "ipython",
    "version": 3
   },
   "file_extension": ".py",
   "mimetype": "text/x-python",
   "name": "python",
   "nbconvert_exporter": "python",
   "pygments_lexer": "ipython3",
   "version": "3.12.10"
  }
 },
 "nbformat": 4,
 "nbformat_minor": 5
}
