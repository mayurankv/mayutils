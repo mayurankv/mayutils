{
 "cells": [
  {
   "cell_type": "code",
   "execution_count": 4,
   "id": "024a999d",
   "metadata": {},
   "outputs": [
    {
     "data": {
      "text/html": [
       "<pre style=\"white-space:pre;overflow-x:auto;line-height:normal;font-family:Menlo,'DejaVu Sans Mono',consolas,'Courier New',monospace\"></pre>\n"
      ],
      "text/plain": []
     },
     "metadata": {},
     "output_type": "display_data"
    },
    {
     "data": {
      "text/html": [
       "<style>\n",
       "            .cell-output-ipywidget-background {\n",
       "                background-color: transparent !important;\n",
       "            }\n",
       "            .jp-OutputArea-output {\n",
       "                background-color: transparent;\n",
       "            }\n",
       "            .updatemenu-button > rect.updatemenu-item-rect[style*=\"fill: rgb(244, 250, 255)\"],\n",
       "            .updatemenu-header > rect.updatemenu-item-rect[style*=\"fill: rgb(244, 250, 255)\"],\n",
       "            .updatemenu-dropdown-button > rect.updatemenu-item-rect[style*=\"fill: rgb(244, 250, 255)\"] {\n",
       "                fill: rgba(80, 103, 132, 0.4) !important;\n",
       "            }\n",
       "            .updatemenu-button:hover > rect.updatemenu-item-rect[style*=\"fill: rgb(244, 250, 255)\"],\n",
       "            .updatemenu-header:hover > rect.updatemenu-item-rect[style*=\"fill: rgb(244, 250, 255)\"],\n",
       "            .updatemenu-dropdown-button:hover > rect.updatemenu-item-rect[style*=\"fill: rgb(244, 250, 255)\"] {\n",
       "                fill: rgba(80, 103, 132, 0.6) !important;\n",
       "            }\n",
       "        </style>"
      ],
      "text/plain": [
       "\u001b[1m<\u001b[0m\u001b[1;95mIPython.core.display.HTML\u001b[0m\u001b[39m object\u001b[0m\u001b[1m>\u001b[0m"
      ]
     },
     "metadata": {},
     "output_type": "display_data"
    },
    {
     "data": {
      "text/html": [
       "<pre style=\"white-space:pre;overflow-x:auto;line-height:normal;font-family:Menlo,'DejaVu Sans Mono',consolas,'Courier New',monospace\"><span style=\"color: #800080; text-decoration-color: #800080; font-weight: bold\">Colour</span><span style=\"font-weight: bold\">(</span><span style=\"color: #808000; text-decoration-color: #808000\">r</span>=<span style=\"color: #008080; text-decoration-color: #008080; font-weight: bold\">255</span>, <span style=\"color: #808000; text-decoration-color: #808000\">g</span>=<span style=\"color: #008080; text-decoration-color: #008080; font-weight: bold\">0</span>, <span style=\"color: #808000; text-decoration-color: #808000\">b</span>=<span style=\"color: #008080; text-decoration-color: #008080; font-weight: bold\">0</span>, <span style=\"color: #808000; text-decoration-color: #808000\">a</span>=<span style=\"color: #008080; text-decoration-color: #008080; font-weight: bold\">1.0</span><span style=\"font-weight: bold\">)</span>\n",
       "</pre>\n"
      ],
      "text/plain": [
       "\u001b[1;35mColour\u001b[0m\u001b[1m(\u001b[0m\u001b[33mr\u001b[0m=\u001b[1;36m255\u001b[0m, \u001b[33mg\u001b[0m=\u001b[1;36m0\u001b[0m, \u001b[33mb\u001b[0m=\u001b[1;36m0\u001b[0m, \u001b[33ma\u001b[0m=\u001b[1;36m1\u001b[0m\u001b[1;36m.0\u001b[0m\u001b[1m)\u001b[0m\n"
      ]
     },
     "metadata": {},
     "output_type": "display_data"
    },
    {
     "data": {
      "text/html": [
       "<pre style=\"white-space:pre;overflow-x:auto;line-height:normal;font-family:Menlo,'DejaVu Sans Mono',consolas,'Courier New',monospace\"></pre>\n"
      ],
      "text/plain": []
     },
     "metadata": {},
     "output_type": "display_data"
    },
    {
     "data": {
      "text/plain": [
       "\u001b[1;35mColour\u001b[0m\u001b[1m(\u001b[0m\u001b[33mr\u001b[0m=\u001b[1;36m255\u001b[0m, \u001b[33mg\u001b[0m=\u001b[1;36m0\u001b[0m, \u001b[33mb\u001b[0m=\u001b[1;36m0\u001b[0m, \u001b[33ma\u001b[0m=\u001b[1;36m1\u001b[0m\u001b[1;36m.0\u001b[0m\u001b[1m)\u001b[0m"
      ]
     },
     "metadata": {},
     "output_type": "display_data"
    },
    {
     "data": {
      "text/html": [
       "<pre style=\"white-space:pre;overflow-x:auto;line-height:normal;font-family:Menlo,'DejaVu Sans Mono',consolas,'Courier New',monospace\"></pre>\n"
      ],
      "text/plain": []
     },
     "metadata": {},
     "output_type": "display_data"
    },
    {
     "data": {
      "text/html": [
       "<div style=\"width:50px;height:50px;background-color:rgba(255, 0, 0, 1.0);\"></div>"
      ],
      "text/plain": [
       "\u001b[1m<\u001b[0m\u001b[1;95mIPython.core.display.HTML\u001b[0m\u001b[39m object\u001b[0m\u001b[1m>\u001b[0m"
      ]
     },
     "metadata": {},
     "output_type": "display_data"
    },
    {
     "data": {
      "text/html": [
       "<pre style=\"white-space:pre;overflow-x:auto;line-height:normal;font-family:Menlo,'DejaVu Sans Mono',consolas,'Courier New',monospace\"></pre>\n"
      ],
      "text/plain": []
     },
     "metadata": {},
     "output_type": "display_data"
    },
    {
     "data": {
      "text/html": [
       "<div style=\"width:50px;height:50px;background-color:rgba(255, 0, 0, 1.0);\"></div><p>rgba(255, 0, 0, 1.0)</p>"
      ],
      "text/plain": [
       "\u001b[1m<\u001b[0m\u001b[1;95mIPython.core.display.HTML\u001b[0m\u001b[39m object\u001b[0m\u001b[1m>\u001b[0m"
      ]
     },
     "execution_count": 4,
     "metadata": {},
     "output_type": "execute_result"
    }
   ],
   "source": [
    "from mayutils.objects.colours import Colour\n",
    "\n",
    "col = Colour.parse(\"red\")\n",
    "\n",
    "print(col)\n",
    "display(col)\n",
    "col.show()\n",
    "col\n",
    "from IPython.display import display, HTML\n",
    "HTML(col.__repr_html__())\n"
   ]
  }
 ],
 "metadata": {
  "kernelspec": {
   "display_name": ".venv",
   "language": "python",
   "name": "python3"
  },
  "language_info": {
   "codemirror_mode": {
    "name": "ipython",
    "version": 3
   },
   "file_extension": ".py",
   "mimetype": "text/x-python",
   "name": "python",
   "nbconvert_exporter": "python",
   "pygments_lexer": "ipython3",
   "version": "3.12.10"
  }
 },
 "nbformat": 4,
 "nbformat_minor": 5
}
