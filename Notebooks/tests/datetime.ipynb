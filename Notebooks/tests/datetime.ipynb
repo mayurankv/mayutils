{
 "cells": [
  {
   "cell_type": "code",
   "execution_count": null,
   "id": "547ff4e8",
   "metadata": {},
   "outputs": [],
   "source": []
  },
  {
   "cell_type": "code",
   "execution_count": null,
   "id": "3da48c65",
   "metadata": {},
   "outputs": [
    {
     "data": {
      "text/html": [
       "<pre style=\"white-space:pre;overflow-x:auto;line-height:normal;font-family:Menlo,'DejaVu Sans Mono',consolas,'Courier New',monospace\"></pre>\n"
      ],
      "text/plain": []
     },
     "metadata": {},
     "output_type": "display_data"
    },
    {
     "data": {
      "text/html": [
       "<style>\n",
       "            .cell-output-ipywidget-background {\n",
       "                background-color: transparent !important;\n",
       "            }\n",
       "            .jp-OutputArea-output {\n",
       "                background-color: transparent;\n",
       "            }\n",
       "            .updatemenu-button > rect.updatemenu-item-rect[style*=\"fill: rgb(244, 250, 255)\"],\n",
       "            .updatemenu-header > rect.updatemenu-item-rect[style*=\"fill: rgb(244, 250, 255)\"],\n",
       "            .updatemenu-dropdown-button > rect.updatemenu-item-rect[style*=\"fill: rgb(244, 250, 255)\"] {\n",
       "                fill: rgba(80, 103, 132, 0.4) !important;\n",
       "            }\n",
       "            .updatemenu-button:hover > rect.updatemenu-item-rect[style*=\"fill: rgb(244, 250, 255)\"],\n",
       "            .updatemenu-header:hover > rect.updatemenu-item-rect[style*=\"fill: rgb(244, 250, 255)\"],\n",
       "            .updatemenu-dropdown-button:hover > rect.updatemenu-item-rect[style*=\"fill: rgb(244, 250, 255)\"] {\n",
       "                fill: rgba(80, 103, 132, 0.6) !important;\n",
       "            }\n",
       "        </style>"
      ],
      "text/plain": [
       "\u001b[1m<\u001b[0m\u001b[1;95mIPython.core.display.HTML\u001b[0m\u001b[39m object\u001b[0m\u001b[1m>\u001b[0m"
      ]
     },
     "metadata": {},
     "output_type": "display_data"
    },
    {
     "data": {
      "text/html": [
       "<pre style=\"white-space:pre;overflow-x:auto;line-height:normal;font-family:Menlo,'DejaVu Sans Mono',consolas,'Courier New',monospace\"><span style=\"color: #ff0000; text-decoration-color: #ff0000\">╭──────────────────────────────────────────────────────────────────────────────────────────────────╮</span>\n",
       "<span style=\"color: #ff0000; text-decoration-color: #ff0000\">│</span> barimport pandas as pd                                                                           <span style=\"color: #ff0000; text-decoration-color: #ff0000\">│</span>\n",
       "<span style=\"color: #ff0000; text-decoration-color: #ff0000\">│</span>           <span style=\"color: #ff0000; text-decoration-color: #ff0000; font-weight: bold\">▲</span>                                                                                      <span style=\"color: #ff0000; text-decoration-color: #ff0000\">│</span>\n",
       "<span style=\"color: #ff0000; text-decoration-color: #ff0000\">╰──────────────────────────────────────────────────────────────────────────────────────────────────╯</span>\n",
       "<span style=\"color: #ff0000; text-decoration-color: #ff0000; font-weight: bold\">SyntaxError: </span>invalid syntax\n",
       "</pre>\n"
      ],
      "text/plain": [
       "\u001b[91m╭──────────────────────────────────────────────────────────────────────────────────────────────────╮\u001b[0m\n",
       "\u001b[91m│\u001b[0m barimport pandas as pd                                                                           \u001b[91m│\u001b[0m\n",
       "\u001b[91m│\u001b[0m           \u001b[1;91m▲\u001b[0m                                                                                      \u001b[91m│\u001b[0m\n",
       "\u001b[91m╰──────────────────────────────────────────────────────────────────────────────────────────────────╯\u001b[0m\n",
       "\u001b[1;91mSyntaxError: \u001b[0minvalid syntax\n"
      ]
     },
     "metadata": {},
     "output_type": "display_data"
    }
   ],
   "source": [
    "import pandas as pd\n",
    "\n",
    "from mayutils.objects.datetime import DateTime, Interval\n",
    "\n",
    "interval = Interval(\n",
    "    start=DateTime.parse(\"2025-02-01\"),\n",
    "    end=\"2025-03-01\",\n",
    ")\n",
    "\n",
    "df = pd.DataFrame(\n",
    "    data=0,\n",
    "    index=pd.date_range(start=\"2025-01-01\", end=\"2025-05-01\"),\n",
    "    columns=[\"A\", \"B\"],\n",
    ")\n",
    "\n",
    "# interval._absolute\n",
    "interval.start\n",
    "interval.end\n",
    "\n",
    "interval.as_slice\n",
    "\n",
    "# slide: slice = (interval.start.simple, interval.end.simple)\n",
    "df.loc[(df.index < interval.end.simple) & (df.index >= interval.start.simple)]"
   ]
  },
  {
   "cell_type": "code",
   "execution_count": null,
   "id": "bb448e8e",
   "metadata": {},
   "outputs": [
    {
     "data": {
      "text/html": [
       "<pre style=\"white-space:pre;overflow-x:auto;line-height:normal;font-family:Menlo,'DejaVu Sans Mono',consolas,'Courier New',monospace\"></pre>\n"
      ],
      "text/plain": []
     },
     "metadata": {},
     "output_type": "display_data"
    },
    {
     "data": {
      "text/html": [
       "<style>\n",
       "            .cell-output-ipywidget-background {\n",
       "                background-color: transparent !important;\n",
       "            }\n",
       "            .jp-OutputArea-output {\n",
       "                background-color: transparent;\n",
       "            }\n",
       "            .updatemenu-button > rect.updatemenu-item-rect[style*=\"fill: rgb(244, 250, 255)\"],\n",
       "            .updatemenu-header > rect.updatemenu-item-rect[style*=\"fill: rgb(244, 250, 255)\"],\n",
       "            .updatemenu-dropdown-button > rect.updatemenu-item-rect[style*=\"fill: rgb(244, 250, 255)\"] {\n",
       "                fill: rgba(80, 103, 132, 0.4) !important;\n",
       "            }\n",
       "            .updatemenu-button:hover > rect.updatemenu-item-rect[style*=\"fill: rgb(244, 250, 255)\"],\n",
       "            .updatemenu-header:hover > rect.updatemenu-item-rect[style*=\"fill: rgb(244, 250, 255)\"],\n",
       "            .updatemenu-dropdown-button:hover > rect.updatemenu-item-rect[style*=\"fill: rgb(244, 250, 255)\"] {\n",
       "                fill: rgba(80, 103, 132, 0.6) !important;\n",
       "            }\n",
       "        </style>"
      ],
      "text/plain": [
       "\u001b[1m<\u001b[0m\u001b[1;95mIPython.core.display.HTML\u001b[0m\u001b[39m object\u001b[0m\u001b[1m>\u001b[0m"
      ]
     },
     "metadata": {},
     "output_type": "display_data"
    },
    {
     "data": {
      "text/html": [
       "<pre style=\"white-space:pre;overflow-x:auto;line-height:normal;font-family:Menlo,'DejaVu Sans Mono',consolas,'Courier New',monospace\"></pre>\n"
      ],
      "text/plain": []
     },
     "metadata": {},
     "output_type": "display_data"
    },
    {
     "data": {
      "text/plain": [
       "\u001b[32m'2025-02-01 00:00:00'\u001b[0m"
      ]
     },
     "execution_count": 5,
     "metadata": {},
     "output_type": "execute_result"
    }
   ],
   "source": [
    "interval.start.to_datetime_string()"
   ]
  },
  {
   "cell_type": "code",
   "execution_count": null,
   "id": "5b05a5ca",
   "metadata": {},
   "outputs": [
    {
     "data": {
      "text/html": [
       "<pre style=\"white-space:pre;overflow-x:auto;line-height:normal;font-family:Menlo,'DejaVu Sans Mono',consolas,'Courier New',monospace\"></pre>\n"
      ],
      "text/plain": []
     },
     "metadata": {},
     "output_type": "display_data"
    },
    {
     "data": {
      "text/html": [
       "<style>\n",
       "            .cell-output-ipywidget-background {\n",
       "                background-color: transparent !important;\n",
       "            }\n",
       "            .jp-OutputArea-output {\n",
       "                background-color: transparent;\n",
       "            }\n",
       "            .updatemenu-button > rect.updatemenu-item-rect[style*=\"fill: rgb(244, 250, 255)\"],\n",
       "            .updatemenu-header > rect.updatemenu-item-rect[style*=\"fill: rgb(244, 250, 255)\"],\n",
       "            .updatemenu-dropdown-button > rect.updatemenu-item-rect[style*=\"fill: rgb(244, 250, 255)\"] {\n",
       "                fill: rgba(80, 103, 132, 0.4) !important;\n",
       "            }\n",
       "            .updatemenu-button:hover > rect.updatemenu-item-rect[style*=\"fill: rgb(244, 250, 255)\"],\n",
       "            .updatemenu-header:hover > rect.updatemenu-item-rect[style*=\"fill: rgb(244, 250, 255)\"],\n",
       "            .updatemenu-dropdown-button:hover > rect.updatemenu-item-rect[style*=\"fill: rgb(244, 250, 255)\"] {\n",
       "                fill: rgba(80, 103, 132, 0.6) !important;\n",
       "            }\n",
       "        </style>"
      ],
      "text/plain": [
       "\u001b[1m<\u001b[0m\u001b[1;95mIPython.core.display.HTML\u001b[0m\u001b[39m object\u001b[0m\u001b[1m>\u001b[0m"
      ]
     },
     "metadata": {},
     "output_type": "display_data"
    },
    {
     "data": {
      "text/html": [
       "<pre style=\"white-space:pre;overflow-x:auto;line-height:normal;font-family:Menlo,'DejaVu Sans Mono',consolas,'Courier New',monospace\"></pre>\n"
      ],
      "text/plain": []
     },
     "metadata": {},
     "output_type": "display_data"
    },
    {
     "data": {
      "text/plain": [
       "\n",
       "\u001b[1m{\u001b[0m\n",
       "    \u001b[32m'_total'\u001b[0m: \u001b[1;36m86400.000016\u001b[0m,\n",
       "    \u001b[32m'_microseconds'\u001b[0m: \u001b[1;36m16\u001b[0m,\n",
       "    \u001b[32m'_seconds'\u001b[0m: \u001b[1;36m0\u001b[0m,\n",
       "    \u001b[32m'_days'\u001b[0m: \u001b[1;36m1\u001b[0m,\n",
       "    \u001b[32m'_remaining_days'\u001b[0m: \u001b[1;36m1\u001b[0m,\n",
       "    \u001b[32m'_weeks'\u001b[0m: \u001b[1;36m0\u001b[0m,\n",
       "    \u001b[32m'_months'\u001b[0m: \u001b[1;36m0\u001b[0m,\n",
       "    \u001b[32m'_years'\u001b[0m: \u001b[1;36m0\u001b[0m,\n",
       "    \u001b[32m'_signature'\u001b[0m: \u001b[1m{\u001b[0m\n",
       "        \u001b[32m'years'\u001b[0m: \u001b[1;36m0\u001b[0m,\n",
       "        \u001b[32m'months'\u001b[0m: \u001b[1;36m0\u001b[0m,\n",
       "        \u001b[32m'weeks'\u001b[0m: \u001b[1;36m0\u001b[0m,\n",
       "        \u001b[32m'days'\u001b[0m: \u001b[1;36m0\u001b[0m,\n",
       "        \u001b[32m'hours'\u001b[0m: \u001b[1;36m0\u001b[0m,\n",
       "        \u001b[32m'minutes'\u001b[0m: \u001b[1;36m0\u001b[0m,\n",
       "        \u001b[32m'seconds'\u001b[0m: \u001b[1;36m86400.000016\u001b[0m,\n",
       "        \u001b[32m'microseconds'\u001b[0m: \u001b[1;36m0\u001b[0m\n",
       "    \u001b[1m}\u001b[0m,\n",
       "    \u001b[32m'_invert'\u001b[0m: \u001b[3;91mFalse\u001b[0m,\n",
       "    \u001b[32m'_absolute'\u001b[0m: \u001b[3;91mFalse\u001b[0m,\n",
       "    \u001b[32m'_start'\u001b[0m: \u001b[1;35mDateTime\u001b[0m\u001b[1m(\u001b[0m\u001b[1;36m2025\u001b[0m, \u001b[1;36m8\u001b[0m, \u001b[1;36m26\u001b[0m, \u001b[1;36m17\u001b[0m, \u001b[1;36m36\u001b[0m, \u001b[1;36m3\u001b[0m, \u001b[1;36m140663\u001b[0m, \u001b[33mtzinfo\u001b[0m=\u001b[1;35mTimezone\u001b[0m\u001b[1m(\u001b[0m\u001b[32m'Europe/London'\u001b[0m\u001b[1m)\u001b[0m\u001b[1m)\u001b[0m,\n",
       "    \u001b[32m'_end'\u001b[0m: \u001b[1;35mDateTime\u001b[0m\u001b[1m(\u001b[0m\u001b[1;36m2025\u001b[0m, \u001b[1;36m8\u001b[0m, \u001b[1;36m27\u001b[0m, \u001b[1;36m17\u001b[0m, \u001b[1;36m36\u001b[0m, \u001b[1;36m3\u001b[0m, \u001b[1;36m140679\u001b[0m, \u001b[33mtzinfo\u001b[0m=\u001b[1;35mTimezone\u001b[0m\u001b[1m(\u001b[0m\u001b[32m'Europe/London'\u001b[0m\u001b[1m)\u001b[0m\u001b[1m)\u001b[0m,\n",
       "    \u001b[32m'_delta'\u001b[0m: \u001b[1;35mPreciseDiff\u001b[0m\u001b[1m(\u001b[0m\u001b[33myears\u001b[0m=\u001b[1;36m0\u001b[0m, \u001b[33mmonths\u001b[0m=\u001b[1;36m0\u001b[0m, \u001b[33mdays\u001b[0m=\u001b[1;36m1\u001b[0m, \u001b[33mhours\u001b[0m=\u001b[1;36m0\u001b[0m, \u001b[33mminutes\u001b[0m=\u001b[1;36m0\u001b[0m, \u001b[33mseconds\u001b[0m=\u001b[1;36m0\u001b[0m, \u001b[33mmicroseconds\u001b[0m=\u001b[1;36m16\u001b[0m, \u001b[33mtotal_days\u001b[0m=\u001b[1;36m1\u001b[0m\u001b[1m)\u001b[0m\n",
       "\u001b[1m}\u001b[0m"
      ]
     },
     "execution_count": 11,
     "metadata": {},
     "output_type": "execute_result"
    }
   ],
   "source": [
    "import pendulum\n",
    "\n",
    "intervals = [\n",
    "    pendulum.interval(\n",
    "        pendulum.now().subtract(days=2),\n",
    "        pendulum.now().subtract(days=3),\n",
    "    ),\n",
    "    pendulum.interval(\n",
    "        pendulum.now().subtract(days=4),\n",
    "        pendulum.now().subtract(days=3),\n",
    "    ),\n",
    "    pendulum.interval(\n",
    "        pendulum.now().subtract(days=55),\n",
    "        pendulum.now().subtract(days=6),\n",
    "    ),\n",
    "]\n",
    "pendulum.interval(\n",
    "    pendulum.now().subtract(days=3),\n",
    "    pendulum.now().subtract(days=2),\n",
    ").__dict__"
   ]
  },
  {
   "cell_type": "code",
   "execution_count": null,
   "id": "7129a5cd",
   "metadata": {},
   "outputs": [
    {
     "name": "stdout",
     "output_type": "stream",
     "text": [
      "2025-08-29 16:09:38.059771+01:00\n"
     ]
    },
    {
     "ename": "TypeError",
     "evalue": "argument 'input': 'DateTime' object cannot be converted to 'PyString'",
     "output_type": "error",
     "traceback": [
      "\u001b[31m---------------------------------------------------------------------------\u001b[39m",
      "\u001b[31mTypeError\u001b[39m                                 Traceback (most recent call last)",
      "\u001b[36mCell\u001b[39m\u001b[36m \u001b[39m\u001b[32mIn[1]\u001b[39m\u001b[32m, line 8\u001b[39m\n\u001b[32m      6\u001b[39m now = pendulum.now()\n\u001b[32m      7\u001b[39m \u001b[38;5;28mprint\u001b[39m(pendulum.parse(now.isoformat()))\n\u001b[32m----> \u001b[39m\u001b[32m8\u001b[39m \u001b[38;5;28mprint\u001b[39m(\u001b[43mpendulum\u001b[49m\u001b[43m.\u001b[49m\u001b[43mparse\u001b[49m\u001b[43m(\u001b[49m\u001b[43mnow\u001b[49m\u001b[43m)\u001b[49m)\n\u001b[32m     10\u001b[39m \u001b[38;5;66;03m# str(pendulum.datetime(2025, 1, 3, 2, 3, 4, tz=\"local\"))\u001b[39;00m\n\u001b[32m     11\u001b[39m \u001b[38;5;66;03m# str(pendulum.datetime(2025, 7, 3, 2, 3, 4, tz=\"local\"))\u001b[39;00m\n\u001b[32m     12\u001b[39m \u001b[38;5;66;03m# period.start\u001b[39;00m\n",
      "\u001b[36mFile \u001b[39m\u001b[32m~/Documents/Pricing/Utilities/mayutils/.venv/lib/python3.13/site-packages/pendulum/parser.py:36\u001b[39m, in \u001b[36mparse\u001b[39m\u001b[34m(text, **options)\u001b[39m\n\u001b[32m     32\u001b[39m \u001b[38;5;28;01mdef\u001b[39;00m\u001b[38;5;250m \u001b[39m\u001b[34mparse\u001b[39m(text: \u001b[38;5;28mstr\u001b[39m, **options: t.Any) -> Date | Time | DateTime | Duration:\n\u001b[32m     33\u001b[39m     \u001b[38;5;66;03m# Use the mock now value if it exists\u001b[39;00m\n\u001b[32m     34\u001b[39m     options[\u001b[33m\"\u001b[39m\u001b[33mnow\u001b[39m\u001b[33m\"\u001b[39m] = options.get(\u001b[33m\"\u001b[39m\u001b[33mnow\u001b[39m\u001b[33m\"\u001b[39m)\n\u001b[32m---> \u001b[39m\u001b[32m36\u001b[39m     \u001b[38;5;28;01mreturn\u001b[39;00m \u001b[43m_parse\u001b[49m\u001b[43m(\u001b[49m\u001b[43mtext\u001b[49m\u001b[43m,\u001b[49m\u001b[43m \u001b[49m\u001b[43m*\u001b[49m\u001b[43m*\u001b[49m\u001b[43moptions\u001b[49m\u001b[43m)\u001b[49m\n",
      "\u001b[36mFile \u001b[39m\u001b[32m~/Documents/Pricing/Utilities/mayutils/.venv/lib/python3.13/site-packages/pendulum/parser.py:51\u001b[39m, in \u001b[36m_parse\u001b[39m\u001b[34m(text, **options)\u001b[39m\n\u001b[32m     48\u001b[39m \u001b[38;5;28;01mif\u001b[39;00m text == \u001b[33m\"\u001b[39m\u001b[33mnow\u001b[39m\u001b[33m\"\u001b[39m:\n\u001b[32m     49\u001b[39m     \u001b[38;5;28;01mreturn\u001b[39;00m pendulum.now()\n\u001b[32m---> \u001b[39m\u001b[32m51\u001b[39m parsed = \u001b[43mbase_parse\u001b[49m\u001b[43m(\u001b[49m\u001b[43mtext\u001b[49m\u001b[43m,\u001b[49m\u001b[43m \u001b[49m\u001b[43m*\u001b[49m\u001b[43m*\u001b[49m\u001b[43moptions\u001b[49m\u001b[43m)\u001b[49m\n\u001b[32m     53\u001b[39m \u001b[38;5;28;01mif\u001b[39;00m \u001b[38;5;28misinstance\u001b[39m(parsed, datetime.datetime):\n\u001b[32m     54\u001b[39m     \u001b[38;5;28;01mreturn\u001b[39;00m pendulum.datetime(\n\u001b[32m     55\u001b[39m         parsed.year,\n\u001b[32m     56\u001b[39m         parsed.month,\n\u001b[32m   (...)\u001b[39m\u001b[32m     62\u001b[39m         tz=parsed.tzinfo \u001b[38;5;129;01mor\u001b[39;00m options.get(\u001b[33m\"\u001b[39m\u001b[33mtz\u001b[39m\u001b[33m\"\u001b[39m, UTC),\n\u001b[32m     63\u001b[39m     )\n",
      "\u001b[36mFile \u001b[39m\u001b[32m~/Documents/Pricing/Utilities/mayutils/.venv/lib/python3.13/site-packages/pendulum/parsing/__init__.py:78\u001b[39m, in \u001b[36mparse\u001b[39m\u001b[34m(text, **options)\u001b[39m\n\u001b[32m     75\u001b[39m _options: \u001b[38;5;28mdict\u001b[39m[\u001b[38;5;28mstr\u001b[39m, Any] = copy.copy(DEFAULT_OPTIONS)\n\u001b[32m     76\u001b[39m _options.update(options)\n\u001b[32m---> \u001b[39m\u001b[32m78\u001b[39m \u001b[38;5;28;01mreturn\u001b[39;00m _normalize(\u001b[43m_parse\u001b[49m\u001b[43m(\u001b[49m\u001b[43mtext\u001b[49m\u001b[43m,\u001b[49m\u001b[43m \u001b[49m\u001b[43m*\u001b[49m\u001b[43m*\u001b[49m\u001b[43m_options\u001b[49m\u001b[43m)\u001b[49m, **_options)\n",
      "\u001b[36mFile \u001b[39m\u001b[32m~/Documents/Pricing/Utilities/mayutils/.venv/lib/python3.13/site-packages/pendulum/parsing/__init__.py:113\u001b[39m, in \u001b[36m_parse\u001b[39m\u001b[34m(text, **options)\u001b[39m\n\u001b[32m    110\u001b[39m \u001b[38;5;28;01mdef\u001b[39;00m\u001b[38;5;250m \u001b[39m\u001b[34m_parse\u001b[39m(text: \u001b[38;5;28mstr\u001b[39m, **options: Any) -> datetime | date | time | _Interval | Duration:\n\u001b[32m    111\u001b[39m     \u001b[38;5;66;03m# Trying to parse ISO8601\u001b[39;00m\n\u001b[32m    112\u001b[39m     \u001b[38;5;28;01mwith\u001b[39;00m contextlib.suppress(\u001b[38;5;167;01mValueError\u001b[39;00m):\n\u001b[32m--> \u001b[39m\u001b[32m113\u001b[39m         \u001b[38;5;28;01mreturn\u001b[39;00m \u001b[43mparse_iso8601\u001b[49m\u001b[43m(\u001b[49m\u001b[43mtext\u001b[49m\u001b[43m)\u001b[49m\n\u001b[32m    115\u001b[39m     \u001b[38;5;28;01mwith\u001b[39;00m contextlib.suppress(\u001b[38;5;167;01mValueError\u001b[39;00m):\n\u001b[32m    116\u001b[39m         \u001b[38;5;28;01mreturn\u001b[39;00m _parse_iso8601_interval(text)\n",
      "\u001b[31mTypeError\u001b[39m: argument 'input': 'DateTime' object cannot be converted to 'PyString'"
     ]
    }
   ],
   "source": [
    "import pendulum\n",
    "\n",
    "dt = pendulum.datetime(2025, 5, 1)\n",
    "\n",
    "dt\n",
    "now = pendulum.now()\n",
    "print(pendulum.parse(now.isoformat()))\n",
    "print(pendulum.parse(now))\n",
    "\n",
    "# str(pendulum.datetime(2025, 1, 3, 2, 3, 4, tz=\"local\"))\n",
    "# str(pendulum.datetime(2025, 7, 3, 2, 3, 4, tz=\"local\"))\n",
    "# period.start"
   ]
  },
  {
   "cell_type": "code",
   "execution_count": null,
   "id": "10a45c6f",
   "metadata": {},
   "outputs": [
    {
     "data": {
      "text/html": [
       "<pre style=\"white-space:pre;overflow-x:auto;line-height:normal;font-family:Menlo,'DejaVu Sans Mono',consolas,'Courier New',monospace\"></pre>\n"
      ],
      "text/plain": []
     },
     "metadata": {},
     "output_type": "display_data"
    },
    {
     "data": {
      "text/html": [
       "<style>\n",
       "            .cell-output-ipywidget-background {\n",
       "                background-color: transparent !important;\n",
       "            }\n",
       "            .jp-OutputArea-output {\n",
       "                background-color: transparent;\n",
       "            }\n",
       "            .updatemenu-button > rect.updatemenu-item-rect[style*=\"fill: rgb(244, 250, 255)\"],\n",
       "            .updatemenu-header > rect.updatemenu-item-rect[style*=\"fill: rgb(244, 250, 255)\"],\n",
       "            .updatemenu-dropdown-button > rect.updatemenu-item-rect[style*=\"fill: rgb(244, 250, 255)\"] {\n",
       "                fill: rgba(80, 103, 132, 0.4) !important;\n",
       "            }\n",
       "            .updatemenu-button:hover > rect.updatemenu-item-rect[style*=\"fill: rgb(244, 250, 255)\"],\n",
       "            .updatemenu-header:hover > rect.updatemenu-item-rect[style*=\"fill: rgb(244, 250, 255)\"],\n",
       "            .updatemenu-dropdown-button:hover > rect.updatemenu-item-rect[style*=\"fill: rgb(244, 250, 255)\"] {\n",
       "                fill: rgba(80, 103, 132, 0.6) !important;\n",
       "            }\n",
       "        </style>"
      ],
      "text/plain": [
       "\u001b[1m<\u001b[0m\u001b[1;95mIPython.core.display.HTML\u001b[0m\u001b[39m object\u001b[0m\u001b[1m>\u001b[0m"
      ]
     },
     "metadata": {},
     "output_type": "display_data"
    },
    {
     "data": {
      "text/html": [
       "<pre style=\"white-space:pre;overflow-x:auto;line-height:normal;font-family:Menlo,'DejaVu Sans Mono',consolas,'Courier New',monospace\">Aug\n",
       "</pre>\n"
      ],
      "text/plain": [
       "Aug\n"
      ]
     },
     "metadata": {},
     "output_type": "display_data"
    },
    {
     "data": {
      "text/html": [
       "<pre style=\"white-space:pre;overflow-x:auto;line-height:normal;font-family:Menlo,'DejaVu Sans Mono',consolas,'Courier New',monospace\">Jul <span style=\"color: #008080; text-decoration-color: #008080; font-weight: bold\">03</span>, <span style=\"color: #008080; text-decoration-color: #008080; font-weight: bold\">2025</span>\n",
       "</pre>\n"
      ],
      "text/plain": [
       "Jul \u001b[1;36m03\u001b[0m, \u001b[1;36m2025\u001b[0m\n"
      ]
     },
     "metadata": {},
     "output_type": "display_data"
    }
   ],
   "source": [
    "print(dt.format(\"MMM\"))\n",
    "print(dt.subtract(months=1).set(day=3).to_formatted_date_string())"
   ]
  },
  {
   "cell_type": "code",
   "execution_count": null,
   "id": "db0767c8",
   "metadata": {},
   "outputs": [
    {
     "data": {
      "text/plain": [
       "<pendulum.testing.traveller.Traveller at 0x111e9aba0>"
      ]
     },
     "execution_count": 2,
     "metadata": {},
     "output_type": "execute_result"
    }
   ],
   "source": [
    "pendulum.travel(1)"
   ]
  }
 ],
 "metadata": {
  "kernelspec": {
   "display_name": ".venv",
   "language": "python",
   "name": "python3"
  },
  "language_info": {
   "codemirror_mode": {
    "name": "ipython",
    "version": 3
   },
   "file_extension": ".py",
   "mimetype": "text/x-python",
   "name": "python",
   "nbconvert_exporter": "python",
   "pygments_lexer": "ipython3",
   "version": "3.13.7"
  }
 },
 "nbformat": 4,
 "nbformat_minor": 5
}
