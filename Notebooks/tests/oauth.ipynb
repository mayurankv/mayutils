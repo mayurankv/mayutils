{
 "cells": [
  {
   "cell_type": "code",
   "execution_count": 11,
   "id": "c0669b3a",
   "metadata": {},
   "outputs": [
    {
     "data": {
      "text/html": [
       "<pre style=\"white-space:pre;overflow-x:auto;line-height:normal;font-family:Menlo,'DejaVu Sans Mono',consolas,'Courier New',monospace\"></pre>\n"
      ],
      "text/plain": []
     },
     "metadata": {},
     "output_type": "display_data"
    },
    {
     "data": {
      "text/html": [
       "<style>\n",
       "            .cell-output-ipywidget-background {\n",
       "                background-color: transparent !important;\n",
       "            }\n",
       "            .jp-OutputArea-output {\n",
       "                background-color: transparent;\n",
       "            }\n",
       "            .updatemenu-button > rect.updatemenu-item-rect[style*=\"fill: rgb(244, 250, 255)\"],\n",
       "            .updatemenu-header > rect.updatemenu-item-rect[style*=\"fill: rgb(244, 250, 255)\"],\n",
       "            .updatemenu-dropdown-button > rect.updatemenu-item-rect[style*=\"fill: rgb(244, 250, 255)\"] {\n",
       "                fill: rgba(80, 103, 132, 0.4) !important;\n",
       "            }\n",
       "            .updatemenu-button:hover > rect.updatemenu-item-rect[style*=\"fill: rgb(244, 250, 255)\"],\n",
       "            .updatemenu-header:hover > rect.updatemenu-item-rect[style*=\"fill: rgb(244, 250, 255)\"],\n",
       "            .updatemenu-dropdown-button:hover > rect.updatemenu-item-rect[style*=\"fill: rgb(244, 250, 255)\"] {\n",
       "                fill: rgba(80, 103, 132, 0.6) !important;\n",
       "            }\n",
       "        </style>"
      ],
      "text/plain": [
       "\u001b[1m<\u001b[0m\u001b[1;95mIPython.core.display.HTML\u001b[0m\u001b[39m object\u001b[0m\u001b[1m>\u001b[0m"
      ]
     },
     "metadata": {},
     "output_type": "display_data"
    }
   ],
   "source": [
    "from mayutils.environment.filesystem import get_root\n",
    "from mayutils.environment.oauth import google_oauth\n",
    "\n",
    "\n",
    "creds = google_oauth(\n",
    "    service_name=\"Test\",\n",
    "    scopes=[\"https://www.googleapis.com/auth/userinfo.profile\"],\n",
    "    credentials_file=get_root() / \".secrets\" / \"credentials.json\",\n",
    ")"
   ]
  },
  {
   "cell_type": "code",
   "execution_count": 2,
   "id": "b14b09dc",
   "metadata": {},
   "outputs": [
    {
     "data": {
      "text/html": [
       "<pre style=\"white-space:pre;overflow-x:auto;line-height:normal;font-family:Menlo,'DejaVu Sans Mono',consolas,'Courier New',monospace\"></pre>\n"
      ],
      "text/plain": []
     },
     "metadata": {},
     "output_type": "display_data"
    },
    {
     "data": {
      "text/html": [
       "<style>\n",
       "            .cell-output-ipywidget-background {\n",
       "                background-color: transparent !important;\n",
       "            }\n",
       "            .jp-OutputArea-output {\n",
       "                background-color: transparent;\n",
       "            }\n",
       "            .updatemenu-button > rect.updatemenu-item-rect[style*=\"fill: rgb(244, 250, 255)\"],\n",
       "            .updatemenu-header > rect.updatemenu-item-rect[style*=\"fill: rgb(244, 250, 255)\"],\n",
       "            .updatemenu-dropdown-button > rect.updatemenu-item-rect[style*=\"fill: rgb(244, 250, 255)\"] {\n",
       "                fill: rgba(80, 103, 132, 0.4) !important;\n",
       "            }\n",
       "            .updatemenu-button:hover > rect.updatemenu-item-rect[style*=\"fill: rgb(244, 250, 255)\"],\n",
       "            .updatemenu-header:hover > rect.updatemenu-item-rect[style*=\"fill: rgb(244, 250, 255)\"],\n",
       "            .updatemenu-dropdown-button:hover > rect.updatemenu-item-rect[style*=\"fill: rgb(244, 250, 255)\"] {\n",
       "                fill: rgba(80, 103, 132, 0.6) !important;\n",
       "            }\n",
       "        </style>"
      ],
      "text/plain": [
       "\u001b[1m<\u001b[0m\u001b[1;95mIPython.core.display.HTML\u001b[0m\u001b[39m object\u001b[0m\u001b[1m>\u001b[0m"
      ]
     },
     "metadata": {},
     "output_type": "display_data"
    },
    {
     "data": {
      "text/html": [
       "<pre style=\"white-space:pre;overflow-x:auto;line-height:normal;font-family:Menlo,'DejaVu Sans Mono',consolas,'Courier New',monospace\"></pre>\n"
      ],
      "text/plain": []
     },
     "metadata": {},
     "output_type": "display_data"
    },
    {
     "data": {
      "text/plain": [
       "\u001b[32m'\u001b[0m\u001b[32m5t46x7tpUy83ulpaan9H2uVfdGkB8hD7J6NnwwZQjPU\u001b[0m\u001b[32m='\u001b[0m"
      ]
     },
     "execution_count": 2,
     "metadata": {},
     "output_type": "execute_result"
    }
   ],
   "source": [
    "from mayutils.environment.oauth import generate_fernet_key\n",
    "\n",
    "\n",
    "generate_fernet_key()"
   ]
  }
 ],
 "metadata": {
  "kernelspec": {
   "display_name": ".venv",
   "language": "python",
   "name": "python3"
  },
  "language_info": {
   "codemirror_mode": {
    "name": "ipython",
    "version": 3
   },
   "file_extension": ".py",
   "mimetype": "text/x-python",
   "name": "python",
   "nbconvert_exporter": "python",
   "pygments_lexer": "ipython3",
   "version": "3.13.7"
  }
 },
 "nbformat": 4,
 "nbformat_minor": 5
}
