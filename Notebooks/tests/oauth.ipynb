{
 "cells": [
  {
   "cell_type": "code",
   "execution_count": 11,
   "id": "c0669b3a",
   "metadata": {},
   "outputs": [
    {
     "data": {
      "text/html": [
       "<pre style=\"white-space:pre;overflow-x:auto;line-height:normal;font-family:Menlo,'DejaVu Sans Mono',consolas,'Courier New',monospace\"></pre>\n"
      ],
      "text/plain": []
     },
     "metadata": {},
     "output_type": "display_data"
    },
    {
     "data": {
      "text/html": [
       "<style>\n",
       "            .cell-output-ipywidget-background {\n",
       "                background-color: transparent !important;\n",
       "            }\n",
       "            .jp-OutputArea-output {\n",
       "                background-color: transparent;\n",
       "            }\n",
       "            .updatemenu-button > rect.updatemenu-item-rect[style*=\"fill: rgb(244, 250, 255)\"],\n",
       "            .updatemenu-header > rect.updatemenu-item-rect[style*=\"fill: rgb(244, 250, 255)\"],\n",
       "            .updatemenu-dropdown-button > rect.updatemenu-item-rect[style*=\"fill: rgb(244, 250, 255)\"] {\n",
       "                fill: rgba(80, 103, 132, 0.4) !important;\n",
       "            }\n",
       "            .updatemenu-button:hover > rect.updatemenu-item-rect[style*=\"fill: rgb(244, 250, 255)\"],\n",
       "            .updatemenu-header:hover > rect.updatemenu-item-rect[style*=\"fill: rgb(244, 250, 255)\"],\n",
       "            .updatemenu-dropdown-button:hover > rect.updatemenu-item-rect[style*=\"fill: rgb(244, 250, 255)\"] {\n",
       "                fill: rgba(80, 103, 132, 0.6) !important;\n",
       "            }\n",
       "        </style>"
      ],
      "text/plain": [
       "\u001b[1m<\u001b[0m\u001b[1;95mIPython.core.display.HTML\u001b[0m\u001b[39m object\u001b[0m\u001b[1m>\u001b[0m"
      ]
     },
     "metadata": {},
     "output_type": "display_data"
    }
   ],
   "source": [
    "from mayutils.environment.filesystem import get_root\n",
    "from mayutils.environment.oauth import google_oauth\n",
    "\n",
    "\n",
    "creds = google_oauth(\n",
    "    service_name=\"Test\",\n",
    "    scopes=[\"https://www.googleapis.com/auth/userinfo.profile\"],\n",
    "    credentials_file=get_root() / \".secrets\" / \"credentials.json\",\n",
    ")\n"
   ]
  },
  {
   "cell_type": "code",
   "execution_count": null,
   "id": "b14b09dc",
   "metadata": {},
   "outputs": [
    {
     "data": {
      "text/html": [
       "<pre style=\"white-space:pre;overflow-x:auto;line-height:normal;font-family:Menlo,'DejaVu Sans Mono',consolas,'Courier New',monospace\"></pre>\n"
      ],
      "text/plain": []
     },
     "metadata": {},
     "output_type": "display_data"
    },
    {
     "data": {
      "text/html": [
       "<style>\n",
       "            .cell-output-ipywidget-background {\n",
       "                background-color: transparent !important;\n",
       "            }\n",
       "            .jp-OutputArea-output {\n",
       "                background-color: transparent;\n",
       "            }\n",
       "            .updatemenu-button > rect.updatemenu-item-rect[style*=\"fill: rgb(244, 250, 255)\"],\n",
       "            .updatemenu-header > rect.updatemenu-item-rect[style*=\"fill: rgb(244, 250, 255)\"],\n",
       "            .updatemenu-dropdown-button > rect.updatemenu-item-rect[style*=\"fill: rgb(244, 250, 255)\"] {\n",
       "                fill: rgba(80, 103, 132, 0.4) !important;\n",
       "            }\n",
       "            .updatemenu-button:hover > rect.updatemenu-item-rect[style*=\"fill: rgb(244, 250, 255)\"],\n",
       "            .updatemenu-header:hover > rect.updatemenu-item-rect[style*=\"fill: rgb(244, 250, 255)\"],\n",
       "            .updatemenu-dropdown-button:hover > rect.updatemenu-item-rect[style*=\"fill: rgb(244, 250, 255)\"] {\n",
       "                fill: rgba(80, 103, 132, 0.6) !important;\n",
       "            }\n",
       "        </style>"
      ],
      "text/plain": [
       "\u001b[1m<\u001b[0m\u001b[1;95mIPython.core.display.HTML\u001b[0m\u001b[39m object\u001b[0m\u001b[1m>\u001b[0m"
      ]
     },
     "metadata": {},
     "output_type": "display_data"
    },
    {
     "data": {
      "text/html": [
       "<pre style=\"white-space:pre;overflow-x:auto;line-height:normal;font-family:Menlo,'DejaVu Sans Mono',consolas,'Courier New',monospace\"><span style=\"color: #800000; text-decoration-color: #800000\">╭─────────────────────────────── </span><span style=\"color: #800000; text-decoration-color: #800000; font-weight: bold\">Traceback </span><span style=\"color: #bf7f7f; text-decoration-color: #bf7f7f; font-weight: bold\">(most recent call last)</span><span style=\"color: #800000; text-decoration-color: #800000\"> ────────────────────────────────╮</span>\n",
       "<span style=\"color: #800000; text-decoration-color: #800000\">│</span> in &lt;module&gt;:1                                                                                    <span style=\"color: #800000; text-decoration-color: #800000\">│</span>\n",
       "<span style=\"color: #800000; text-decoration-color: #800000\">│</span>                                                                                                  <span style=\"color: #800000; text-decoration-color: #800000\">│</span>\n",
       "<span style=\"color: #800000; text-decoration-color: #800000\">│</span> <span style=\"color: #800000; text-decoration-color: #800000\">❱ </span>1 <span style=\"font-weight: bold; text-decoration: underline\">creds.refresh()</span>                                                                              <span style=\"color: #800000; text-decoration-color: #800000\">│</span>\n",
       "<span style=\"color: #800000; text-decoration-color: #800000\">│</span>   <span style=\"color: #7f7f7f; text-decoration-color: #7f7f7f\">2 </span>                                                                                             <span style=\"color: #800000; text-decoration-color: #800000\">│</span>\n",
       "<span style=\"color: #800000; text-decoration-color: #800000\">╰──────────────────────────────────────────────────────────────────────────────────────────────────╯</span>\n",
       "<span style=\"color: #ff0000; text-decoration-color: #ff0000; font-weight: bold\">TypeError: </span><span style=\"color: #800080; text-decoration-color: #800080; font-weight: bold\">Credentials.refresh</span><span style=\"font-weight: bold\">()</span> missing <span style=\"color: #008080; text-decoration-color: #008080; font-weight: bold\">1</span> required positional argument: <span style=\"color: #008000; text-decoration-color: #008000\">'request'</span>\n",
       "</pre>\n"
      ],
      "text/plain": [
       "\u001b[31m╭─\u001b[0m\u001b[31m──────────────────────────────\u001b[0m\u001b[31m \u001b[0m\u001b[1;31mTraceback \u001b[0m\u001b[1;2;31m(most recent call last)\u001b[0m\u001b[31m \u001b[0m\u001b[31m───────────────────────────────\u001b[0m\u001b[31m─╮\u001b[0m\n",
       "\u001b[31m│\u001b[0m in <module>:1                                                                                    \u001b[31m│\u001b[0m\n",
       "\u001b[31m│\u001b[0m                                                                                                  \u001b[31m│\u001b[0m\n",
       "\u001b[31m│\u001b[0m \u001b[31m❱ \u001b[0m1 \u001b[1;4mcreds.refresh()\u001b[0m                                                                              \u001b[31m│\u001b[0m\n",
       "\u001b[31m│\u001b[0m   \u001b[2m2 \u001b[0m                                                                                             \u001b[31m│\u001b[0m\n",
       "\u001b[31m╰──────────────────────────────────────────────────────────────────────────────────────────────────╯\u001b[0m\n",
       "\u001b[1;91mTypeError: \u001b[0m\u001b[1;35mCredentials.refresh\u001b[0m\u001b[1m(\u001b[0m\u001b[1m)\u001b[0m missing \u001b[1;36m1\u001b[0m required positional argument: \u001b[32m'request'\u001b[0m\n"
      ]
     },
     "metadata": {},
     "output_type": "display_data"
    }
   ],
   "source": []
  }
 ],
 "metadata": {
  "kernelspec": {
   "display_name": ".venv",
   "language": "python",
   "name": "python3"
  },
  "language_info": {
   "codemirror_mode": {
    "name": "ipython",
    "version": 3
   },
   "file_extension": ".py",
   "mimetype": "text/x-python",
   "name": "python",
   "nbconvert_exporter": "python",
   "pygments_lexer": "ipython3",
   "version": "3.12.10"
  }
 },
 "nbformat": 4,
 "nbformat_minor": 5
}
