{
 "cells": [
  {
   "cell_type": "code",
   "execution_count": 1,
   "id": "3edd0ba0",
   "metadata": {},
   "outputs": [
    {
     "data": {
      "text/html": [
       "<pre style=\"white-space:pre;overflow-x:auto;line-height:normal;font-family:Menlo,'DejaVu Sans Mono',consolas,'Courier New',monospace\"></pre>\n"
      ],
      "text/plain": []
     },
     "metadata": {},
     "output_type": "display_data"
    },
    {
     "data": {
      "text/html": [
       "<style>\n",
       "            .cell-output-ipywidget-background {\n",
       "                background-color: transparent !important;\n",
       "            }\n",
       "            .jp-OutputArea-output {\n",
       "                background-color: transparent;\n",
       "            }\n",
       "            .updatemenu-button > rect.updatemenu-item-rect[style*=\"fill: rgb(244, 250, 255)\"],\n",
       "            .updatemenu-header > rect.updatemenu-item-rect[style*=\"fill: rgb(244, 250, 255)\"],\n",
       "            .updatemenu-dropdown-button > rect.updatemenu-item-rect[style*=\"fill: rgb(244, 250, 255)\"] {\n",
       "                fill: rgba(80, 103, 132, 0.4) !important;\n",
       "            }\n",
       "            .updatemenu-button:hover > rect.updatemenu-item-rect[style*=\"fill: rgb(244, 250, 255)\"],\n",
       "            .updatemenu-header:hover > rect.updatemenu-item-rect[style*=\"fill: rgb(244, 250, 255)\"],\n",
       "            .updatemenu-dropdown-button:hover > rect.updatemenu-item-rect[style*=\"fill: rgb(244, 250, 255)\"] {\n",
       "                fill: rgba(80, 103, 132, 0.6) !important;\n",
       "            }\n",
       "        </style>"
      ],
      "text/plain": [
       "\u001b[1m<\u001b[0m\u001b[1;95mIPython.core.display.HTML\u001b[0m\u001b[39m object\u001b[0m\u001b[1m>\u001b[0m"
      ]
     },
     "metadata": {},
     "output_type": "display_data"
    },
    {
     "data": {
      "application/vnd.plotly.v1+json": {
       "config": {
        "displayModeBar": "hover",
        "displaylogo": false,
        "plotlyServerURL": "https://plot.ly",
        "showTips": false
       },
       "data": [
        {
         "marker": {
          "line": {
           "width": 0
          },
          "opacity": 0.7
         },
         "mode": "markers",
         "name": "Group A",
         "type": "scatter",
         "x": {
          "bdata": "PbcqX6XEUUB/XwhqjahKQNFD6Lj46EdAUCb72orsSUBRpNJgkotNQOx+cfXblVVAIp7lIzlANUD9YU7w/VIrQDTbp4ji2E1Ah3bMl+GCSkDfIStWHNNHQHpjEu9Tyk5AqWe5JMeiPUCHeWIgTENOQMVrhhExc1BAkj96pjgGS0AwwEq19bdBQFzsmG33bVBAfuVB7GkSUUAx4jlBxpxIQHdcx0kesEBAd4cFNxl8S0B8xbAE1JI9QIuViP102klAZN6ekzgzTUDcnYmqtNdTQLw3Bzr8PFRAK2dYQINbTUBSGgVw90BQQL77Mg2GCE1Ayh2KpsIRQkBYsf80cickQFuvix2e5k5A7bl+3+C7TEAfBB+GSPJKQA3O2dvsTEJAp1AKUH+uQUD2ILNagDhBQDzwcvMFDUxAjUiMSiL8Q0C8QUPic4VNQD0ERnepY0RA/59Qa1FWQkBJ4T+fmFdRQNkynGdKxENA+cuIWP91Q0Dv3HCbXxBQQIaW397WvUlAzn8n82YCRkCXMbt4YY5OQNfLhaXGS0BAyo2+pa0lQUDSuf1XFbE3QEokcjD+tEFAxX+1RLJfSEB23S1emZRNQGhBsHn1olBAhUrSXLOpQEAIdbMzQuVMQBVPfamI8E5AfYwjNKeSREAj57oQuI1LQMhOO7wYnVZALrxoMixKQ0AeJTjUKThQQAT8+NmVM0RAxe3uOQyvS0Bqf4oLygZOQNHKDeoHI0hAs6jJrgD9TEB5TWTCrjhSQNJ8p6U04ElATnAVXmc8SUCNfbUo6C1HQKH9Ii58x1RAS98C1bI1SECLmU1Ha/JKQBCltRZFQVBAs+P5Bf6qPkB1P3znLypAQFXD456hgz5AEvJPu6FVT0AXRp8xdQo/QNyvusA77kdAhFFcR0XeSUBKQ6sHA9xOQDE/OGcw10VAXldQyL5ZQUD5bMe+kxxIQLy+tjbMBUVAwhw6hSlxUUB91wt9rFRFQPmbH9vGo0FAWQmLNRNQRUC4y5EZ7bBPQH8QzZb5cExAuV5AAthaQEB5/vZdcQFGQMNK8Ma9P0tAOwlJJQ1QSUA=",
          "dtype": "f8"
         },
         "y": {
          "bdata": "CsBlPMfGRkBITxlfhFZQQHpJNvJeB0lArudtlDjqS0AJUAm/NMRLQGwTIgjKiFRA6RNBoxRxKEBm1Pyw18cnQOKEnNXgp0ZACsY8jXxkTUCOPK/dXZ5DQJIstzM3IlBAbb89ZjZJNUDhIe19W3xIQAuJG8bFCFNAZDW8Ff7HTUD6n4aLO5M+QE3BrpIcxVJAjvdwD7r5UUDWylYqGqtKQOLirHT6F0ZAvU3nWzZKR0CwtAE/Vxo3QGgQ652KCEZAWOnkPnOlSkBmPw+JPgtYQLMpHOwZ6lJA1d24hEKISUBU3PyrPw9QQMArTwYx+09Adf3sGg5iNEBI42N/bAkXwGlclSOQSlBAYEcsgQU7RUCe2J+Wx/lAQEshy99fM0BAXlH2vGwDREDMJ8w1NqlFQJm6NBziz1RAiqTwOK5fQUCM/SFfadhMQIovcGcZcUtAxXtG69YAQECIo9wdJC1WQCYoB8wF7UdAH+z/X7EsPkAwrAXsHA1SQMrTmD3M5kFAMNH9ukfsSUAqTnMZsMVHQKbLZX5nHzFAU2Gh2dyHREB4Q+2u3hZBQMrfP0qnwERA/sZub5ToSEAoHXqVE0VQQJSKUkrVgE1AVqtcoor+N0C5mCrw5eNEQNFaYah6X09A2T/GcykkS0C+H6mSAQtQQI9DMG3eFlRAcxPJn+NwN0B53Vc3wJFRQI85r6FYxzxA1YWIGpTmRUC3qVkhOtVNQIZVd6UEGlJAJCLqpBsdT0BrxkqRoSFLQOQGV7o/fVFA7lPzTaMBRkBO7WiWk9tKQOOn7AxO2VFAjSUT7MLIR0BNcVRCes1QQIhgpx6COE5Awo748g6ZQ0CwB4AMvGZAQPfE+ZW2nD1AGLubuL6nUUALnhdo7+o7QCRvc3GWmlBAoHnGP6txTkA+GJ8dGqtKQEa4yzFnaEhAQdBxyCuuPED5eOjtKYRIQEwsXtSrmUFAibiElizlUEA5/GiyRuNDQL7AjiD6EEJAjIwUo4m5Q0D57x79+iBRQHABlp9UEkVAXPsU8Yi1M0B2oP1RzdhOQDNi6tXDiktAtqj+4lzdTUA=",
          "dtype": "f8"
         },
         "yaxis": "y"
        },
        {
         "marker": {
          "line": {
           "width": 0
          },
          "opacity": 0.7
         },
         "mode": "markers",
         "name": "Group B",
         "type": "scatter",
         "x": {
          "bdata": "Vbz4a0KqV0A8jXsy+xxRQAThscJbcEtAASXVsPEdV0AxA/yYdMxIQHbAmqf3mVJA+YXFlmmqTUCI94zXe4ZSQHI9jS6y6EZAJVnBD3oXTUDhhLYBQl5QQBjR2pTEp1FAI+5kqMtRTUD4HpeF96dPQH2zC00MekxASKxfSB7jQkB77qStkrdTQFEg4EvKC0VAYB7j0sfBU0Bcasuh3iE7QOFdmsyHrVJAJv6WXfuwUkAsc8VBePBOQJiQMndyE05AMcCxyMd6UUCAwrx/oFROQHI7xOfSNkRAAbrUWavIT0D5JcvZuHlRQIVeIYSJjUlAW144GdfNUUB/J8BwfURTQOrwAasCXD9A/O7m/lj/UEBD8fSPaJNHQM/bP/l1WE1AWNicveWNTUAUFNsqDgxJQFQe5ZQJ5kdA9I+VBNW/TUDmStyhT19HQLkidKaeykRAkKa4G21OTkAhdhQCVuFRQC7Ur/KuklFAlPODWU3xVED6qO7kw4VMQEsuNa1uvFJAg/9jL0PtR0BvGlYsc5NFQHifWvLRREVAaJS7XdQsTkA38QXS3RdPQC78FN9V21FApzz2agDMTkDMMKpY521RQKOC4LwKX09AGWMzzDv1UkC+2DmEyXlKQOPAlT+IulBAKXbc7SzeQkDXxGKHY8VTQK0IjqPFPlFAbXkJ+B85PkBAFRldy2FLQF8SzbcY0VJADq0PpEyLSkDL5vwD4TxEQES6fF3AnExAIRNnJZ2PUkAbLokQG55JQFtVPcnW1kRA1maRVRtrVkD5iwbh1VpAQDtIo2ZWJFJAnnmfC8OoSkDhHTpveXpRQA5EuDx9pUVAvrbdoZxTU0BdI/24iQ5WQMYleiju4lNAXXXEZaRTUEDMQff+HGpIQJrgDBqGK1VAmXE06OFWOkBo9ksjQDtOQOsMd+dJk1BAdsPUZ0FNRUB7/UmXls9TQENomZHNNEZAdI7o5nLeV0BPIGplYlpIQHbKalc2F0hA4Z4kie7WSECfKfg8785MQC2Vmg6oSEZAUQdXoFfDT0CU6UTNVWpSQJx+USI+wVFAsYwjtuCJUEA=",
          "dtype": "f8"
         },
         "y": {
          "bdata": "Tf6ZwJ2qVUDV5VjYm29RQNiTNyV67EdAxuwNcX0sUkCdhFJuigJOQIpUbx5EY1VAPZWHVsrlRkCsqlgiQ3hRQKZy+Ef0MEpAE3tfRU10SkCuoH2MzQhUQJ1pDgsrf1JADAmjN+syU0DZrPWBh75NQMJdT6SzFEpAiLAet02vQkD80OMS259OQMDRz5zmF01AUhJ1Sx0/UECSZqKePDM/QD3g+duaXVNA5vdq8NAuUkBiGNGQ/mdPQOCTwVmv4UFAP2HrqEhpUkD6uE3sMyxIQF7SDmTHT0pAs7cef0NLTUB5mpMBTP1VQNRzvcViQ09A2E1nHNYNU0DLa16NiktQQLbLLoSUAD9ACgoJivl3UEBS47721FRIQNhHRfn5L1BAPO7YIjHGS0ANhRikEuxRQEPFrOoTKkpACtUdi86zUED8xnQuLQxFQJxM3196a0RAptDnR51qSEDyYbuayV5VQJqavhJ6kVVAAo2ysTCUVkARP1jj22ZIQExs+3lLYE5AkAtzrjShRkAK74SnM0tGQLBQgY8Hb0dAhB2kKqqURkAzgMZw6yVQQDA8kfEe+1NA8Tinpaa5VEB1PcoQGOhLQDoMq6xVj0VAvaVgeXBrSEAeOsr9+QJBQAXmatcLYlBAy7hL6N7jPEDP9ayt+J5WQIC7KTncR1FAa0QSzftEOkDzvhgLKdxGQPAFgBWnFFFAJgyrbHsCSEBr3UvB9FxEQLp0ykH0ckNAIxUpICzVUUCkGBnvA/JCQGCVL02v/ENA+Rwwiv+HU0DxlAhqmeg9QLDM2OYvaExAGgWfK+tTR0BXVCRbFHlTQFAEkPELWURA1dkULTAHVED64ACLnAhWQFh4rzKCjlFAI34e10GhUEAqaaOU0wlKQKUokz5shldAaMD1VlnSNkBtsG4xve9QQIxyiWivulJAznTi5e4yQUBWguBStV1VQKXutqaXfElAJJXtwzF8WkAQIFvWyYpHQN5gDupmZEBASF7NQPllTECeAOCeoMdJQFVleWMJ1EVAiFCabRD/UUCxrlEbpqhSQLuN5aDIR09AYvyeviFEUUA=",
          "dtype": "f8"
         },
         "yaxis": "y"
        },
        {
         "marker": {
          "line": {
           "width": 0
          },
          "opacity": 0.7
         },
         "mode": "markers",
         "name": "Group C",
         "type": "scatter",
         "x": {
          "bdata": "pR03CG1ZSUC0vf8pXUdYQPbIVonYdlRAOwWVBlHKTkAJES5wygpMQD/m4CBY31NA5qtFtYx+TEAexe5vqjlLQBW3aE/ieVVA7+DUD1f7UUCUcY3heIRWQJDGQRx15kJADcK4qKj8R0B+0Adw+xVKQPYJVniD+VhAE3VETyRORkAvRy8kVElUQDysQdHtMFFApntndUXmU0Cbw/zlTmVUQPE7k/BivlJAFUdvV2Z4UEDLZEKpOLlTQHWQhIDzCExAg20tYQNRUkAJWwQ52qxRQJo0qGWellBAiJLuLCIcSUDtrXaWB6NKQLhbg9341VJAEI5oOBWFT0DQvFItwB5RQC7+CdDbB1NA8xWSuSaZU0BsuFfd/3pQQFjYCcdMN1RAQeqpcGlPUkAvk+fvdhVQQC/bpA++3VFAgDygQPR1TUBYQe8KUbVbQMEs+clEQkpAg5OSTvNbT0CeUGsuUxlRQI0J/+lcdUtAIHhZ7jtQVEA5EmNsnNZGQCEGOMJPmVRAjHpueBjuUkCqYwlo6YpIQJpisxnEuVZAXTJgPtGkUUBSBe0beUxPQCEleVCVQFBAeff32CazUUDEPNmtlsBXQL8CfJazKVNAHYIulCcpSUDRW7MZgeVNQFLf/QKTlVZAt6+BBzxpUEAsu3hXwGJXQMxz+a8PBEtAUuopYOumUECmI2Nvae1TQAtEW3DXZFZAq+G0C4kxTkCY8H9V/4lEQJB4I1n1zVFA5wdnosmqUkB2du76LhdTQApkG4MxZk1AVXfzOpFNUUAlVlWBfWdRQBYAK7ih71FAqqn8v6L8UEDmn1XM0K9XQHDKDi6vxElAIFp67s2ZS0CRd420UiJWQCs4peviCE1AeE+zNt7QS0CorqygHWFUQFe5K9mt/1VAkI1orDfFU0AEvr0PG0NWQG8gPIM4zkxA8vEc1k98U0A310nLmY1QQGIEp2vzS0pAngR0QlH0UECfLM2L3hNUQGb2DMp0qldAKH26/tkcSUDyKRMxEYJRQP6MetCLSlBAxXm6u4zzTEDUcR/lRl9TQH/QEwSqvEFAgLlYBV/aWEA=",
          "dtype": "f8"
         },
         "y": {
          "bdata": "c1qM0wx5RkDMI7uOsgZZQEhnWuSj+VBAn/mxpjP+SEAa18ISQf1IQMYhuM37XlRA29ncf+65TEAP7lKCSeBOQEisky+l6VBAtf2ugHsPT0APAH959p5VQA8Om2Tz0jlAutACof3ESUC6EqL/AbRJQMIA7nc+xlpAQ+aHN/igQ0BfSzlybB5XQDJVNUQUQktAhVysy7byVkAf7QfNd15TQCgZe/HH8VJAwT52/QLsUEDrUU2HjhdSQIDhaVNM+kdAsMDXMq74U0DIs/322+hQQCLgU2R3T1NAz24yvnufRkCo9nszjYhPQG7RtAujKk9AnvmKPvQKTUBGA2Y1zHRSQNrPbSFNI1VA1olK1ZFIVkDMRNt+IppHQCVX2EUyJ1NA90aHmufcUUBo1EQK0IpJQMAWxS2ZRlhAHScw3/fwSEBcwIXDV4heQDBLjUIkqUdAyTa5MWmcUUB3B7eLczZQQDms90xPYElAgXuXNgMNUkBIUqljP0RFQFJRqFZZ1lNA9NvX2i+OUUA7Lnx4fHhBQODHG5G9cVBAmgpVIMA3T0CZusuntvBVQIUWggRFiVBA2ZDNCP/BUUD82gDwT7dXQCxv/y8VHlZAZ8uctfmcRkAng83tEchOQLqY6Na9HVdAo+BbT8/rU0BKmxYNcItWQH24AZ1th1BA2IawsB2dRkDaOdNe5xhUQD8KdKTGwlZAuSc3vKWSTECEJ7CJwB85QNPmSb7GNVZA5huaek2BTEB2GKRgVJtVQLAsAHEgaEZAeMV25GbvUUCoJz4wyL9UQNfoBxjjCVBAskMy/maHTkCN1DD2XkpbQKUeTv2tYEdADIHgqb33TEBZshH483tZQA7Yoxe8QFBAnQG3H8IoTEClaS+NadtTQFUd7YNtZ1ZAFpCUNxMJT0C92EXJaDVZQMwR39MMk1JArghsnbmBUkCeOxV5p0xSQGyWjjaw8ElAUsL2V7cGT0AKmTLpYxNXQBpQJRtk2FpAEkU/tt7yTUCxZII94yVYQPqGsjRvsUlAQOA39i24UEAhlZXQHsBTQL9MMTNR0D5AH1CXE6vXVUA=",
          "dtype": "f8"
         },
         "yaxis": "y"
        },
        {
         "name": "Foobar",
         "type": "scatter",
         "x": [
          0,
          100
         ],
         "y": [
          1,
          0
         ],
         "yaxis": "y2"
        },
        {
         "name": "Foobar",
         "type": "scatter",
         "x": [
          0,
          100
         ],
         "y": [
          1,
          0
         ],
         "yaxis": "y3"
        },
        {
         "name": "Foobar",
         "type": "scatter",
         "x": [
          0,
          100
         ],
         "y": [
          1,
          0
         ],
         "yaxis": "y4"
        },
        {
         "name": "Foobar",
         "type": "scatter",
         "x": [
          0,
          100
         ],
         "y": [
          1,
          0
         ],
         "yaxis": "y4"
        },
        {
         "name": "Foobar",
         "type": "scatter",
         "x": [
          0,
          100
         ],
         "y": [
          1,
          0
         ],
         "yaxis": "y4"
        },
        {
         "legendgroup": "foobar",
         "name": "Foobar",
         "type": "scatter",
         "x": [
          0,
          100
         ],
         "y": [
          1,
          0
         ],
         "yaxis": "y4"
        },
        {
         "legendgroup": "foobar",
         "name": "Foobar",
         "type": "scatter",
         "x": [
          0,
          100
         ],
         "y": [
          1,
          0
         ],
         "yaxis": "y4"
        },
        {
         "legendgroup": "foobar",
         "legendgrouptitle": {
          "text": "Foo Bar"
         },
         "name": "Foobar",
         "type": "scatter",
         "x": [
          0,
          100
         ],
         "y": [
          1,
          0
         ],
         "yaxis": "y4"
        }
       ],
       "layout": {
        "annotations": [
         {
          "font": {
           "size": 16
          },
          "showarrow": false,
          "text": "Y Axis 2",
          "textangle": 90,
          "x": 0.8,
          "xanchor": "left",
          "xref": "paper",
          "xshift": 30,
          "y": 0.5,
          "yanchor": "middle",
          "yref": "paper"
         },
         {
          "font": {
           "size": 16
          },
          "showarrow": false,
          "text": "Y Axis 3",
          "textangle": 90,
          "x": 0.9,
          "xanchor": "left",
          "xref": "paper",
          "xshift": 30,
          "y": 0.5,
          "yanchor": "middle",
          "yref": "paper"
         },
         {
          "font": {
           "size": 16
          },
          "showarrow": false,
          "text": "Y Axis 4",
          "textangle": 90,
          "x": 1,
          "xanchor": "left",
          "xref": "paper",
          "xshift": 30,
          "y": 0.5,
          "yanchor": "middle",
          "yref": "paper"
         }
        ],
        "margin": {
         "t": 195
        },
        "template": {
         "data": {
          "bar": [
           {
            "error_x": {
             "color": "#f2f5fa"
            },
            "error_y": {
             "color": "#f2f5fa"
            },
            "marker": {
             "line": {
              "color": "rgba(0,0,0,0)",
              "width": 0.5
             },
             "pattern": {
              "fillmode": "overlay",
              "size": 10,
              "solidity": 0.2
             }
            },
            "type": "bar"
           }
          ],
          "barpolar": [
           {
            "marker": {
             "line": {
              "color": "rgba(0,0,0,0)",
              "width": 0.5
             },
             "pattern": {
              "fillmode": "overlay",
              "size": 10,
              "solidity": 0.2
             }
            },
            "type": "barpolar"
           }
          ],
          "carpet": [
           {
            "aaxis": {
             "endlinecolor": "#A2B1C6",
             "gridcolor": "#506784",
             "linecolor": "#506784",
             "minorgridcolor": "#506784",
             "startlinecolor": "#A2B1C6"
            },
            "baxis": {
             "endlinecolor": "#A2B1C6",
             "gridcolor": "#506784",
             "linecolor": "#506784",
             "minorgridcolor": "#506784",
             "startlinecolor": "#A2B1C6"
            },
            "type": "carpet"
           }
          ],
          "choropleth": [
           {
            "colorbar": {
             "outlinewidth": 0,
             "ticks": ""
            },
            "type": "choropleth"
           }
          ],
          "contour": [
           {
            "colorbar": {
             "outlinewidth": 0,
             "ticks": ""
            },
            "colorscale": [
             [
              0,
              "#0d0887"
             ],
             [
              0.1111111111111111,
              "#46039f"
             ],
             [
              0.2222222222222222,
              "#7201a8"
             ],
             [
              0.3333333333333333,
              "#9c179e"
             ],
             [
              0.4444444444444444,
              "#bd3786"
             ],
             [
              0.5555555555555556,
              "#d8576b"
             ],
             [
              0.6666666666666666,
              "#ed7953"
             ],
             [
              0.7777777777777778,
              "#fb9f3a"
             ],
             [
              0.8888888888888888,
              "#fdca26"
             ],
             [
              1,
              "#f0f921"
             ]
            ],
            "type": "contour"
           }
          ],
          "contourcarpet": [
           {
            "colorbar": {
             "outlinewidth": 0,
             "ticks": ""
            },
            "type": "contourcarpet"
           }
          ],
          "heatmap": [
           {
            "colorbar": {
             "outlinewidth": 0,
             "ticks": ""
            },
            "colorscale": [
             [
              0,
              "#0d0887"
             ],
             [
              0.1111111111111111,
              "#46039f"
             ],
             [
              0.2222222222222222,
              "#7201a8"
             ],
             [
              0.3333333333333333,
              "#9c179e"
             ],
             [
              0.4444444444444444,
              "#bd3786"
             ],
             [
              0.5555555555555556,
              "#d8576b"
             ],
             [
              0.6666666666666666,
              "#ed7953"
             ],
             [
              0.7777777777777778,
              "#fb9f3a"
             ],
             [
              0.8888888888888888,
              "#fdca26"
             ],
             [
              1,
              "#f0f921"
             ]
            ],
            "hoverongaps": false,
            "texttemplate": "%{z}",
            "type": "heatmap"
           }
          ],
          "histogram": [
           {
            "histnorm": "probability density",
            "marker": {
             "line": {
              "width": 1
             },
             "opacity": 0.4,
             "pattern": {
              "fillmode": "overlay",
              "size": 10,
              "solidity": 0.2
             }
            },
            "type": "histogram"
           }
          ],
          "histogram2d": [
           {
            "colorbar": {
             "outlinewidth": 0,
             "ticks": ""
            },
            "colorscale": [
             [
              0,
              "#0d0887"
             ],
             [
              0.1111111111111111,
              "#46039f"
             ],
             [
              0.2222222222222222,
              "#7201a8"
             ],
             [
              0.3333333333333333,
              "#9c179e"
             ],
             [
              0.4444444444444444,
              "#bd3786"
             ],
             [
              0.5555555555555556,
              "#d8576b"
             ],
             [
              0.6666666666666666,
              "#ed7953"
             ],
             [
              0.7777777777777778,
              "#fb9f3a"
             ],
             [
              0.8888888888888888,
              "#fdca26"
             ],
             [
              1,
              "#f0f921"
             ]
            ],
            "type": "histogram2d"
           }
          ],
          "histogram2dcontour": [
           {
            "colorbar": {
             "outlinewidth": 0,
             "ticks": ""
            },
            "colorscale": [
             [
              0,
              "#0d0887"
             ],
             [
              0.1111111111111111,
              "#46039f"
             ],
             [
              0.2222222222222222,
              "#7201a8"
             ],
             [
              0.3333333333333333,
              "#9c179e"
             ],
             [
              0.4444444444444444,
              "#bd3786"
             ],
             [
              0.5555555555555556,
              "#d8576b"
             ],
             [
              0.6666666666666666,
              "#ed7953"
             ],
             [
              0.7777777777777778,
              "#fb9f3a"
             ],
             [
              0.8888888888888888,
              "#fdca26"
             ],
             [
              1,
              "#f0f921"
             ]
            ],
            "type": "histogram2dcontour"
           }
          ],
          "mesh3d": [
           {
            "colorbar": {
             "outlinewidth": 0,
             "ticks": ""
            },
            "type": "mesh3d"
           }
          ],
          "parcoords": [
           {
            "line": {
             "colorbar": {
              "outlinewidth": 0,
              "ticks": ""
             }
            },
            "type": "parcoords"
           }
          ],
          "pie": [
           {
            "automargin": true,
            "type": "pie"
           }
          ],
          "scatter": [
           {
            "hovertemplate": "<b>%{fullData.name}</b><br>x: %{x}<br>y: %{y}<extra></extra>",
            "marker": {
             "line": {
              "color": "#283442"
             },
             "size": 4
            },
            "type": "scatter"
           }
          ],
          "scatter3d": [
           {
            "line": {
             "colorbar": {
              "outlinewidth": 0,
              "ticks": ""
             }
            },
            "marker": {
             "colorbar": {
              "outlinewidth": 0,
              "ticks": ""
             }
            },
            "type": "scatter3d"
           }
          ],
          "scattercarpet": [
           {
            "marker": {
             "colorbar": {
              "outlinewidth": 0,
              "ticks": ""
             }
            },
            "type": "scattercarpet"
           }
          ],
          "scattergeo": [
           {
            "marker": {
             "colorbar": {
              "outlinewidth": 0,
              "ticks": ""
             }
            },
            "type": "scattergeo"
           }
          ],
          "scattergl": [
           {
            "marker": {
             "line": {
              "color": "#283442"
             }
            },
            "type": "scattergl"
           }
          ],
          "scattermapbox": [
           {
            "marker": {
             "colorbar": {
              "outlinewidth": 0,
              "ticks": ""
             }
            },
            "type": "scattermapbox"
           }
          ],
          "scatterpolar": [
           {
            "marker": {
             "colorbar": {
              "outlinewidth": 0,
              "ticks": ""
             }
            },
            "type": "scatterpolar"
           }
          ],
          "scatterpolargl": [
           {
            "marker": {
             "colorbar": {
              "outlinewidth": 0,
              "ticks": ""
             }
            },
            "type": "scatterpolargl"
           }
          ],
          "scatterternary": [
           {
            "marker": {
             "colorbar": {
              "outlinewidth": 0,
              "ticks": ""
             }
            },
            "type": "scatterternary"
           }
          ],
          "surface": [
           {
            "colorbar": {
             "outlinewidth": 0,
             "ticks": ""
            },
            "colorscale": [
             [
              0,
              "#0d0887"
             ],
             [
              0.1111111111111111,
              "#46039f"
             ],
             [
              0.2222222222222222,
              "#7201a8"
             ],
             [
              0.3333333333333333,
              "#9c179e"
             ],
             [
              0.4444444444444444,
              "#bd3786"
             ],
             [
              0.5555555555555556,
              "#d8576b"
             ],
             [
              0.6666666666666666,
              "#ed7953"
             ],
             [
              0.7777777777777778,
              "#fb9f3a"
             ],
             [
              0.8888888888888888,
              "#fdca26"
             ],
             [
              1,
              "#f0f921"
             ]
            ],
            "type": "surface"
           }
          ],
          "table": [
           {
            "cells": {
             "fill": {
              "color": "#506784"
             },
             "line": {
              "color": "rgba(0,0,0,0)"
             }
            },
            "header": {
             "fill": {
              "color": "#2a3f5f"
             },
             "line": {
              "color": "rgba(0,0,0,0)"
             }
            },
            "type": "table"
           }
          ]
         },
         "layout": {
          "annotationdefaults": {
           "arrowcolor": "#f2f5fa",
           "arrowhead": 0,
           "arrowwidth": 0.5,
           "font": {
            "size": 10
           }
          },
          "autotypenumbers": "strict",
          "barmode": "overlay",
          "boxmode": "group",
          "coloraxis": {
           "colorbar": {
            "outlinewidth": 0,
            "ticks": ""
           }
          },
          "colorscale": {
           "diverging": [
            [
             0,
             "#8e0152"
            ],
            [
             0.1,
             "#c51b7d"
            ],
            [
             0.2,
             "#de77ae"
            ],
            [
             0.3,
             "#f1b6da"
            ],
            [
             0.4,
             "#fde0ef"
            ],
            [
             0.5,
             "#f7f7f7"
            ],
            [
             0.6,
             "#e6f5d0"
            ],
            [
             0.7,
             "#b8e186"
            ],
            [
             0.8,
             "#7fbc41"
            ],
            [
             0.9,
             "#4d9221"
            ],
            [
             1,
             "#276419"
            ]
           ],
           "sequential": [
            [
             0,
             "#0d0887"
            ],
            [
             0.1111111111111111,
             "#46039f"
            ],
            [
             0.2222222222222222,
             "#7201a8"
            ],
            [
             0.3333333333333333,
             "#9c179e"
            ],
            [
             0.4444444444444444,
             "#bd3786"
            ],
            [
             0.5555555555555556,
             "#d8576b"
            ],
            [
             0.6666666666666666,
             "#ed7953"
            ],
            [
             0.7777777777777778,
             "#fb9f3a"
            ],
            [
             0.8888888888888888,
             "#fdca26"
            ],
            [
             1,
             "#f0f921"
            ]
           ],
           "sequentialminus": [
            [
             0,
             "#0d0887"
            ],
            [
             0.1111111111111111,
             "#46039f"
            ],
            [
             0.2222222222222222,
             "#7201a8"
            ],
            [
             0.3333333333333333,
             "#9c179e"
            ],
            [
             0.4444444444444444,
             "#bd3786"
            ],
            [
             0.5555555555555556,
             "#d8576b"
            ],
            [
             0.6666666666666666,
             "#ed7953"
            ],
            [
             0.7777777777777778,
             "#fb9f3a"
            ],
            [
             0.8888888888888888,
             "#fdca26"
            ],
            [
             1,
             "#f0f921"
            ]
           ]
          },
          "colorway": [
           "#ab63fa",
           "#30D5DB",
           "#B6E880",
           "#FF9C12",
           "#FF6692",
           "#9299FD",
           "#73DBB6",
           "#FFE989",
           "#FFA15A",
           "#FF85FF",
           "#DEBFFF",
           "#636efa",
           "#00cc96",
           "#FECB52",
           "#CF4915",
           "#FF97FF",
           "#C592FD",
           "#19d3f3",
           "#3BDB5F",
           "#FFBD8E",
           "#EF553B",
           "#FFCCFF"
          ],
          "font": {
           "color": "#f2f5fa",
           "family": "\"SF Pro Rounded\", \"Mona Sans\", \"CMU Serif\", \"Monaspace Neon\", \"Open Sans\", verdana, arial, sans-serif",
           "weight": 200
          },
          "geo": {
           "bgcolor": "rgba(0,0,0,0)",
           "lakecolor": "rgba(0,0,0,0)",
           "landcolor": "rgba(0,0,0,0)",
           "showlakes": true,
           "showland": true,
           "subunitcolor": "#506784"
          },
          "hoverlabel": {
           "align": "left"
          },
          "hovermode": "closest",
          "legend": {
           "bgcolor": "rgba(0,0,0,0)",
           "font": {
            "size": 10
           },
           "grouptitlefont": {
            "size": 12,
            "weight": 200
           },
           "itemsizing": "trace",
           "itemwidth": 30,
           "orientation": "h",
           "y": 1,
           "yanchor": "bottom",
           "yref": "paper"
          },
          "mapbox": {
           "style": "dark"
          },
          "margin": {
           "b": 50,
           "l": 50,
           "r": 10,
           "t": 75
          },
          "modebar": {
           "add": [],
           "bgcolor": "rgba(0,0,0,0)",
           "remove": [
            "zoomin",
            "zoomout",
            "lasso",
            "autoscale",
            "select"
           ]
          },
          "paper_bgcolor": "rgba(0,0,0,0)",
          "plot_bgcolor": "rgba(0,0,0,0)",
          "polar": {
           "angularaxis": {
            "gridcolor": "#506784",
            "linecolor": "#506784",
            "ticks": ""
           },
           "bgcolor": "rgba(0,0,0,0)",
           "radialaxis": {
            "gridcolor": "#506784",
            "linecolor": "#506784",
            "ticks": ""
           }
          },
          "scene": {
           "aspectmode": "auto",
           "bgcolor": "rgba(0,0,0,0)",
           "xaxis": {
            "backgroundcolor": "rgba(0,0,0,0)",
            "gridcolor": "#506784",
            "gridwidth": 2,
            "linecolor": "#506784",
            "mirror": true,
            "showbackground": true,
            "showline": true,
            "showspikes": false,
            "ticks": "",
            "zeroline": true,
            "zerolinecolor": "#C8D4E3"
           },
           "yaxis": {
            "backgroundcolor": "rgba(0,0,0,0)",
            "gridcolor": "#506784",
            "gridwidth": 2,
            "linecolor": "#506784",
            "mirror": true,
            "showbackground": true,
            "showline": true,
            "showspikes": false,
            "ticks": "",
            "zeroline": true,
            "zerolinecolor": "#C8D4E3"
           },
           "zaxis": {
            "backgroundcolor": "rgba(0,0,0,0)",
            "gridcolor": "#506784",
            "gridwidth": 2,
            "linecolor": "#506784",
            "mirror": true,
            "showbackground": true,
            "showline": true,
            "ticks": "",
            "zeroline": true,
            "zerolinecolor": "#C8D4E3"
           }
          },
          "shapedefaults": {
           "line": {
            "color": "#f2f5fa"
           }
          },
          "showlegend": true,
          "sliderdefaults": {
           "bgcolor": "#C8D4E3",
           "bordercolor": "rgba(0,0,0,0)",
           "borderwidth": 1,
           "tickwidth": 0
          },
          "ternary": {
           "aaxis": {
            "gridcolor": "#506784",
            "linecolor": "#506784",
            "ticks": ""
           },
           "baxis": {
            "gridcolor": "#506784",
            "linecolor": "#506784",
            "ticks": ""
           },
           "bgcolor": "rgba(0,0,0,0)",
           "caxis": {
            "gridcolor": "#506784",
            "linecolor": "#506784",
            "ticks": ""
           }
          },
          "title": {
           "font": {
            "size": 28
           },
           "pad": {
            "b": 40
           },
           "x": 0.5,
           "y": 1,
           "yanchor": "bottom",
           "yref": "paper"
          },
          "updatemenudefaults": {
           "bgcolor": "rgba(33, 67, 96, 0.4)",
           "bordercolor": "rgba(0,0,0,0)",
           "borderwidth": 0,
           "buttons": [
            {
             "args": [
              "type",
              "mesh3d"
             ],
             "label": "3D Bar",
             "method": "restyle",
             "name": "bar3d"
            }
           ],
           "direction": "left",
           "font": {
            "size": 11,
            "weight": 200
           },
           "showactive": true,
           "type": "buttons",
           "x": 1,
           "xanchor": "right",
           "yanchor": "bottom"
          },
          "xaxis": {
           "gridcolor": "#283442",
           "gridwidth": 2,
           "linecolor": "#506784",
           "minor": {
            "gridcolor": "rgba(40, 52, 66, 0.4)",
            "showgrid": true
           },
           "mirror": true,
           "showgrid": true,
           "showline": true,
           "tickfont": {
            "size": 12
           },
           "ticklabelmode": "period",
           "title": {
            "font": {
             "size": 16
            },
            "standoff": 10
           },
           "zeroline": true,
           "zerolinecolor": "#283442",
           "zerolinewidth": 2
          },
          "yaxis": {
           "gridcolor": "#283442",
           "gridwidth": 2,
           "linecolor": "#506784",
           "minor": {
            "gridcolor": "rgba(40, 52, 66, 0.4)",
            "showgrid": true
           },
           "mirror": true,
           "showgrid": true,
           "showline": true,
           "tickfont": {
            "size": 12
           },
           "ticklabelmode": "period",
           "title": {
            "font": {
             "size": 16
            },
            "standoff": 10
           },
           "zeroline": true,
           "zerolinecolor": "#283442",
           "zerolinewidth": 2
          }
         }
        },
        "title": {
         "pad": {
          "b": 160
         },
         "text": "Scatter<br>Plot"
        },
        "xaxis": {
         "domain": [
          0,
          0.8
         ],
         "title": {
          "text": "X Axis"
         }
        },
        "yaxis": {
         "title": {
          "text": "Y Axis 1"
         }
        },
        "yaxis2": {
         "anchor": "x",
         "gridcolor": "#283442",
         "gridwidth": 2,
         "linecolor": "#506784",
         "minor": {
          "showgrid": false
         },
         "mirror": true,
         "overlaying": "y",
         "position": 0.8,
         "showgrid": false,
         "showline": true,
         "side": "right",
         "tickfont": {
          "size": 12
         },
         "ticklabelmode": "period",
         "tickmode": "auto",
         "title": {
          "text": ""
         },
         "zeroline": true,
         "zerolinecolor": "#283442",
         "zerolinewidth": 2
        },
        "yaxis3": {
         "anchor": "free",
         "gridcolor": "#283442",
         "gridwidth": 2,
         "linecolor": "#506784",
         "minor": {
          "showgrid": false
         },
         "mirror": true,
         "overlaying": "y",
         "position": 0.9,
         "showgrid": false,
         "showline": true,
         "side": "right",
         "tickfont": {
          "size": 12
         },
         "ticklabelmode": "period",
         "tickmode": "auto",
         "title": {
          "text": ""
         },
         "zeroline": true,
         "zerolinecolor": "#283442",
         "zerolinewidth": 2
        },
        "yaxis4": {
         "anchor": "free",
         "gridcolor": "#283442",
         "gridwidth": 2,
         "linecolor": "#506784",
         "minor": {
          "showgrid": false
         },
         "mirror": true,
         "overlaying": "y",
         "position": 1,
         "showgrid": false,
         "showline": true,
         "side": "right",
         "tickfont": {
          "size": 12
         },
         "ticklabelmode": "period",
         "tickmode": "auto",
         "title": {
          "text": ""
         },
         "zeroline": true,
         "zerolinecolor": "#283442",
         "zerolinewidth": 2
        }
       }
      }
     },
     "metadata": {},
     "output_type": "display_data"
    }
   ],
   "source": [
    "import numpy as np\n",
    "import plotly.graph_objects as go\n",
    "\n",
    "from mayutils.visualisation.graphs.plotly.charts import Plot, PlotConfig, TracesConfig\n",
    "\n",
    "np.random.seed(39)\n",
    "\n",
    "fig = Plot(\n",
    "    description=\"\",\n",
    "    plot_config=PlotConfig(\n",
    "        yaxes_configs=(\n",
    "            TracesConfig(\n",
    "                traces=(\n",
    "                    *[\n",
    "                        go.Scatter(\n",
    "                            x=(\n",
    "                                x := np.random.normal(\n",
    "                                    loc=50 + i * 10, scale=15, size=100\n",
    "                                )\n",
    "                            ),\n",
    "                            y=x + np.random.normal(loc=0, scale=10, size=100),\n",
    "                            mode=\"markers\",\n",
    "                            name=category,\n",
    "                            marker=dict(\n",
    "                                opacity=0.7,\n",
    "                                line_width=0,\n",
    "                            ),\n",
    "                        )\n",
    "                        for i, category in enumerate([\"Group A\", \"Group B\", \"Group C\"])\n",
    "                    ],\n",
    "                ),\n",
    "                yaxis_config=dict(title=\"Y Axis 1\"),\n",
    "            ),\n",
    "            TracesConfig(\n",
    "                traces=(\n",
    "                    go.Scatter(\n",
    "                        x=[0, 100],\n",
    "                        y=[1, 0],\n",
    "                        name=\"Foobar\",\n",
    "                    ),\n",
    "                ),\n",
    "                yaxis_config=dict(title=\"Y Axis 2\"),\n",
    "            ),\n",
    "            TracesConfig(\n",
    "                traces=(\n",
    "                    go.Scatter(\n",
    "                        x=[0, 100],\n",
    "                        y=[1, 0],\n",
    "                        name=\"Foobar\",\n",
    "                    ),\n",
    "                ),\n",
    "                yaxis_config=dict(title=\"Y Axis 3\"),\n",
    "            ),\n",
    "            TracesConfig(\n",
    "                traces=(\n",
    "                    go.Scatter(\n",
    "                        x=[0, 100],\n",
    "                        y=[1, 0],\n",
    "                        name=\"Foobar\",\n",
    "                    ),\n",
    "                    go.Scatter(\n",
    "                        x=[0, 100],\n",
    "                        y=[1, 0],\n",
    "                        name=\"Foobar\",\n",
    "                    ),\n",
    "                    go.Scatter(\n",
    "                        x=[0, 100],\n",
    "                        y=[1, 0],\n",
    "                        name=\"Foobar\",\n",
    "                    ),\n",
    "                    go.Scatter(\n",
    "                        x=[0, 100],\n",
    "                        y=[1, 0],\n",
    "                        name=\"Foobar\",\n",
    "                        legendgroup=\"foobar\",\n",
    "                    ),\n",
    "                    go.Scatter(\n",
    "                        x=[0, 100],\n",
    "                        y=[1, 0],\n",
    "                        name=\"Foobar\",\n",
    "                        legendgroup=\"foobar\",\n",
    "                    ),\n",
    "                    go.Scatter(\n",
    "                        x=[0, 100],\n",
    "                        y=[1, 0],\n",
    "                        name=\"Foobar\",\n",
    "                        legendgroup=\"foobar\",\n",
    "                        legendgrouptitle_text=\"Foo Bar\",\n",
    "                    ),\n",
    "                ),\n",
    "                yaxis_config=dict(title=\"Y Axis 4\"),\n",
    "            ),\n",
    "        ),\n",
    "        xaxis_config=dict(title=\"X Axis\"),\n",
    "    ),\n",
    "    layout=dict(\n",
    "        title_text=\"Scatter\\nPlot\",\n",
    "        # margin_t=150,\n",
    "        # title_pad_b=100,\n",
    "        # width=900,\n",
    "        # height=600,\n",
    "        # margin_r=150,\n",
    "    ),\n",
    ").shift_title(120)(save=False)\n"
   ]
  },
  {
   "cell_type": "code",
   "execution_count": 2,
   "id": "3363eb6b",
   "metadata": {},
   "outputs": [
    {
     "data": {
      "text/html": [
       "<pre style=\"white-space:pre;overflow-x:auto;line-height:normal;font-family:Menlo,'DejaVu Sans Mono',consolas,'Courier New',monospace\"></pre>\n"
      ],
      "text/plain": []
     },
     "metadata": {},
     "output_type": "display_data"
    },
    {
     "data": {
      "text/html": [
       "<style>\n",
       "            .cell-output-ipywidget-background {\n",
       "                background-color: transparent !important;\n",
       "            }\n",
       "            .jp-OutputArea-output {\n",
       "                background-color: transparent;\n",
       "            }\n",
       "            .updatemenu-button > rect.updatemenu-item-rect[style*=\"fill: rgb(244, 250, 255)\"],\n",
       "            .updatemenu-header > rect.updatemenu-item-rect[style*=\"fill: rgb(244, 250, 255)\"],\n",
       "            .updatemenu-dropdown-button > rect.updatemenu-item-rect[style*=\"fill: rgb(244, 250, 255)\"] {\n",
       "                fill: rgba(80, 103, 132, 0.4) !important;\n",
       "            }\n",
       "            .updatemenu-button:hover > rect.updatemenu-item-rect[style*=\"fill: rgb(244, 250, 255)\"],\n",
       "            .updatemenu-header:hover > rect.updatemenu-item-rect[style*=\"fill: rgb(244, 250, 255)\"],\n",
       "            .updatemenu-dropdown-button:hover > rect.updatemenu-item-rect[style*=\"fill: rgb(244, 250, 255)\"] {\n",
       "                fill: rgba(80, 103, 132, 0.6) !important;\n",
       "            }\n",
       "        </style>"
      ],
      "text/plain": [
       "\u001b[1m<\u001b[0m\u001b[1;95mIPython.core.display.HTML\u001b[0m\u001b[39m object\u001b[0m\u001b[1m>\u001b[0m"
      ]
     },
     "metadata": {},
     "output_type": "display_data"
    },
    {
     "data": {
      "application/vnd.plotly.v1+json": {
       "config": {
        "displayModeBar": "hover",
        "displaylogo": false,
        "plotlyServerURL": "https://plot.ly",
        "showTips": false
       },
       "data": [
        {
         "name": "1 1",
         "type": "scatter",
         "x": [
          0,
          100
         ],
         "xaxis": "x",
         "y": [
          1,
          0
         ],
         "yaxis": "y"
        },
        {
         "name": "1 2",
         "type": "scatter",
         "x": [
          0,
          100
         ],
         "xaxis": "x",
         "y": [
          1,
          0
         ],
         "yaxis": "y16"
        },
        {
         "meta": "null",
         "showlegend": false,
         "type": "scatter",
         "x": [],
         "xaxis": "x",
         "y": [],
         "yaxis": "y31"
        },
        {
         "name": "2 1",
         "type": "scatter",
         "x": [
          0,
          100
         ],
         "xaxis": "x2",
         "y": [
          1,
          0
         ],
         "yaxis": "y2"
        },
        {
         "name": "2 2",
         "type": "scatter",
         "x": [
          0,
          100
         ],
         "xaxis": "x2",
         "y": [
          1,
          0
         ],
         "yaxis": "y17"
        },
        {
         "meta": "null",
         "showlegend": false,
         "type": "scatter",
         "x": [],
         "xaxis": "x2",
         "y": [],
         "yaxis": "y32"
        },
        {
         "name": "3 1",
         "type": "scatter",
         "x": [
          0,
          100
         ],
         "xaxis": "x3",
         "y": [
          1,
          0
         ],
         "yaxis": "y3"
        },
        {
         "meta": "null",
         "showlegend": false,
         "type": "scatter",
         "x": [],
         "xaxis": "x3",
         "y": [],
         "yaxis": "y18"
        },
        {
         "meta": "null",
         "showlegend": false,
         "type": "scatter",
         "x": [],
         "xaxis": "x3",
         "y": [],
         "yaxis": "y33"
        },
        {
         "meta": "null",
         "showlegend": false,
         "type": "scatter",
         "x": [],
         "xaxis": "x4",
         "y": [],
         "yaxis": "y4"
        },
        {
         "meta": "null",
         "showlegend": false,
         "type": "scatter",
         "x": [],
         "xaxis": "x4",
         "y": [],
         "yaxis": "y19"
        },
        {
         "meta": "null",
         "showlegend": false,
         "type": "scatter",
         "x": [],
         "xaxis": "x4",
         "y": [],
         "yaxis": "y34"
        },
        {
         "meta": "null",
         "showlegend": false,
         "type": "scatter",
         "x": [],
         "xaxis": "x5",
         "y": [],
         "yaxis": "y5"
        },
        {
         "meta": "null",
         "showlegend": false,
         "type": "scatter",
         "x": [],
         "xaxis": "x5",
         "y": [],
         "yaxis": "y20"
        },
        {
         "meta": "null",
         "showlegend": false,
         "type": "scatter",
         "x": [],
         "xaxis": "x5",
         "y": [],
         "yaxis": "y35"
        },
        {
         "name": "4 1",
         "type": "scatter",
         "x": [
          0,
          100
         ],
         "xaxis": "x6",
         "y": [
          1,
          0
         ],
         "yaxis": "y6"
        },
        {
         "meta": "null",
         "showlegend": false,
         "type": "scatter",
         "x": [],
         "xaxis": "x6",
         "y": [],
         "yaxis": "y21"
        },
        {
         "meta": "null",
         "showlegend": false,
         "type": "scatter",
         "x": [],
         "xaxis": "x6",
         "y": [],
         "yaxis": "y36"
        },
        {
         "name": "5 1",
         "type": "scatter",
         "x": [
          0,
          100
         ],
         "xaxis": "x7",
         "y": [
          1,
          0
         ],
         "yaxis": "y7"
        },
        {
         "name": "5 2",
         "type": "scatter",
         "x": [
          0,
          100
         ],
         "xaxis": "x7",
         "y": [
          1,
          0
         ],
         "yaxis": "y22"
        },
        {
         "meta": "null",
         "showlegend": false,
         "type": "scatter",
         "x": [],
         "xaxis": "x7",
         "y": [],
         "yaxis": "y37"
        },
        {
         "name": "6 1",
         "type": "scatter",
         "x": [
          0,
          100
         ],
         "xaxis": "x8",
         "y": [
          1,
          0
         ],
         "yaxis": "y8"
        },
        {
         "meta": "null",
         "showlegend": false,
         "type": "scatter",
         "x": [],
         "xaxis": "x8",
         "y": [],
         "yaxis": "y23"
        },
        {
         "meta": "null",
         "showlegend": false,
         "type": "scatter",
         "x": [],
         "xaxis": "x8",
         "y": [],
         "yaxis": "y38"
        },
        {
         "name": "6 1",
         "type": "scatter",
         "x": [
          0,
          100
         ],
         "xaxis": "x9",
         "y": [
          1,
          0
         ],
         "yaxis": "y9"
        },
        {
         "meta": "null",
         "showlegend": false,
         "type": "scatter",
         "x": [],
         "xaxis": "x9",
         "y": [],
         "yaxis": "y24"
        },
        {
         "meta": "null",
         "showlegend": false,
         "type": "scatter",
         "x": [],
         "xaxis": "x9",
         "y": [],
         "yaxis": "y39"
        },
        {
         "name": "6 1",
         "type": "scatter",
         "x": [
          0,
          100
         ],
         "xaxis": "x10",
         "y": [
          1,
          0
         ],
         "yaxis": "y10"
        },
        {
         "name": "6 2",
         "type": "scatter",
         "x": [
          0,
          100
         ],
         "xaxis": "x10",
         "y": [
          1,
          0
         ],
         "yaxis": "y25"
        },
        {
         "name": "6 3",
         "type": "scatter",
         "x": [
          0,
          100
         ],
         "xaxis": "x10",
         "y": [
          1,
          0
         ],
         "yaxis": "y40"
        },
        {
         "name": "4 1",
         "type": "scatter",
         "x": [
          0,
          100
         ],
         "xaxis": "x11",
         "y": [
          1,
          0
         ],
         "yaxis": "y11"
        },
        {
         "meta": "null",
         "showlegend": false,
         "type": "scatter",
         "x": [],
         "xaxis": "x11",
         "y": [],
         "yaxis": "y26"
        },
        {
         "meta": "null",
         "showlegend": false,
         "type": "scatter",
         "x": [],
         "xaxis": "x11",
         "y": [],
         "yaxis": "y41"
        },
        {
         "name": "5 1",
         "type": "scatter",
         "x": [
          0,
          100
         ],
         "xaxis": "x12",
         "y": [
          1,
          0
         ],
         "yaxis": "y12"
        },
        {
         "name": "5 2",
         "type": "scatter",
         "x": [
          0,
          100
         ],
         "xaxis": "x12",
         "y": [
          1,
          0
         ],
         "yaxis": "y27"
        },
        {
         "meta": "null",
         "showlegend": false,
         "type": "scatter",
         "x": [],
         "xaxis": "x12",
         "y": [],
         "yaxis": "y42"
        },
        {
         "name": "6 1",
         "type": "scatter",
         "x": [
          0,
          100
         ],
         "xaxis": "x13",
         "y": [
          1,
          0
         ],
         "yaxis": "y13"
        },
        {
         "meta": "null",
         "showlegend": false,
         "type": "scatter",
         "x": [],
         "xaxis": "x13",
         "y": [],
         "yaxis": "y28"
        },
        {
         "meta": "null",
         "showlegend": false,
         "type": "scatter",
         "x": [],
         "xaxis": "x13",
         "y": [],
         "yaxis": "y43"
        },
        {
         "name": "6 1",
         "type": "scatter",
         "x": [
          0,
          100
         ],
         "xaxis": "x14",
         "y": [
          1,
          0
         ],
         "yaxis": "y14"
        },
        {
         "meta": "null",
         "showlegend": false,
         "type": "scatter",
         "x": [],
         "xaxis": "x14",
         "y": [],
         "yaxis": "y29"
        },
        {
         "meta": "null",
         "showlegend": false,
         "type": "scatter",
         "x": [],
         "xaxis": "x14",
         "y": [],
         "yaxis": "y44"
        },
        {
         "name": "6 1",
         "type": "scatter",
         "x": [
          0,
          100
         ],
         "xaxis": "x15",
         "y": [
          1,
          0
         ],
         "yaxis": "y15"
        },
        {
         "name": "6 2",
         "type": "scatter",
         "x": [
          0,
          100
         ],
         "xaxis": "x15",
         "y": [
          1,
          0
         ],
         "yaxis": "y30"
        },
        {
         "name": "6 3",
         "type": "scatter",
         "x": [
          0,
          100
         ],
         "xaxis": "x15",
         "y": [
          1,
          0
         ],
         "yaxis": "y45"
        }
       ],
       "layout": {
        "annotations": [
         {
          "font": {
           "size": 12,
           "weight": 700
          },
          "showarrow": false,
          "text": "Grades E-F",
          "textangle": -90,
          "x": 0,
          "xanchor": "right",
          "xref": "paper",
          "xshift": -22.5,
          "y": 0.15,
          "yanchor": "middle",
          "yref": "paper"
         },
         {
          "font": {
           "size": 12,
           "weight": 700
          },
          "showarrow": false,
          "text": "Grades C-D",
          "textangle": -90,
          "x": 0,
          "xanchor": "right",
          "xref": "paper",
          "xshift": -22.5,
          "y": 0.49999999999999994,
          "yanchor": "middle",
          "yref": "paper"
         },
         {
          "font": {
           "size": 12,
           "weight": 700
          },
          "showarrow": false,
          "text": "Grades A-B",
          "textangle": -90,
          "x": 0,
          "xanchor": "right",
          "xref": "paper",
          "xshift": -22.5,
          "y": 0.85,
          "yanchor": "middle",
          "yref": "paper"
         },
         {
          "font": {
           "size": 12,
           "weight": 700
          },
          "showarrow": false,
          "text": "0K-5K",
          "x": 0.07919999999999999,
          "xanchor": "center",
          "xref": "paper",
          "y": 0,
          "yanchor": "top",
          "yref": "paper",
          "yshift": -22.5
         },
         {
          "font": {
           "size": 12,
           "weight": 700
          },
          "showarrow": false,
          "text": "5K-7.5K",
          "x": 0.2646,
          "xanchor": "center",
          "xref": "paper",
          "y": 0,
          "yanchor": "top",
          "yref": "paper",
          "yshift": -22.5
         },
         {
          "font": {
           "size": 12,
           "weight": 700
          },
          "showarrow": false,
          "text": "7.5K-10K",
          "x": 0.44999999999999996,
          "xanchor": "center",
          "xref": "paper",
          "y": 0,
          "yanchor": "top",
          "yref": "paper",
          "yshift": -22.5
         },
         {
          "font": {
           "size": 12,
           "weight": 700
          },
          "showarrow": false,
          "text": "10K-15K",
          "x": 0.6354,
          "xanchor": "center",
          "xref": "paper",
          "y": 0,
          "yanchor": "top",
          "yref": "paper",
          "yshift": -22.5
         },
         {
          "font": {
           "size": 12,
           "weight": 700
          },
          "showarrow": false,
          "text": "15K-25K",
          "x": 0.8208,
          "xanchor": "center",
          "xref": "paper",
          "y": 0,
          "yanchor": "top",
          "yref": "paper",
          "yshift": -22.5
         },
         {
          "font": {
           "size": 16
          },
          "showarrow": false,
          "text": "A3",
          "x": 0.07919999999999999,
          "xanchor": "center",
          "xref": "paper",
          "y": 0.3,
          "yanchor": "bottom",
          "yref": "paper"
         },
         {
          "font": {
           "size": 16
          },
          "showarrow": false,
          "text": "B3",
          "x": 0.2646,
          "xanchor": "center",
          "xref": "paper",
          "y": 0.3,
          "yanchor": "bottom",
          "yref": "paper"
         },
         {
          "font": {
           "size": 16
          },
          "showarrow": false,
          "text": "C3",
          "x": 0.44999999999999996,
          "xanchor": "center",
          "xref": "paper",
          "y": 0.3,
          "yanchor": "bottom",
          "yref": "paper"
         },
         {
          "font": {
           "size": 16
          },
          "showarrow": false,
          "text": "D3",
          "x": 0.6354,
          "xanchor": "center",
          "xref": "paper",
          "y": 0.3,
          "yanchor": "bottom",
          "yref": "paper"
         },
         {
          "font": {
           "size": 16
          },
          "showarrow": false,
          "text": "E3",
          "x": 0.8208,
          "xanchor": "center",
          "xref": "paper",
          "y": 0.3,
          "yanchor": "bottom",
          "yref": "paper"
         },
         {
          "font": {
           "size": 16
          },
          "showarrow": false,
          "text": "A2",
          "x": 0.07919999999999999,
          "xanchor": "center",
          "xref": "paper",
          "y": 0.6499999999999999,
          "yanchor": "bottom",
          "yref": "paper"
         },
         {
          "font": {
           "size": 16
          },
          "showarrow": false,
          "text": "B2",
          "x": 0.2646,
          "xanchor": "center",
          "xref": "paper",
          "y": 0.6499999999999999,
          "yanchor": "bottom",
          "yref": "paper"
         },
         {
          "font": {
           "size": 16
          },
          "showarrow": false,
          "text": "C2",
          "x": 0.44999999999999996,
          "xanchor": "center",
          "xref": "paper",
          "y": 0.6499999999999999,
          "yanchor": "bottom",
          "yref": "paper"
         },
         {
          "font": {
           "size": 16
          },
          "showarrow": false,
          "text": "D2",
          "x": 0.6354,
          "xanchor": "center",
          "xref": "paper",
          "y": 0.6499999999999999,
          "yanchor": "bottom",
          "yref": "paper"
         },
         {
          "font": {
           "size": 16
          },
          "showarrow": false,
          "text": "E2",
          "x": 0.8208,
          "xanchor": "center",
          "xref": "paper",
          "y": 0.6499999999999999,
          "yanchor": "bottom",
          "yref": "paper"
         },
         {
          "font": {
           "size": 16
          },
          "showarrow": false,
          "text": "A1",
          "x": 0.07919999999999999,
          "xanchor": "center",
          "xref": "paper",
          "y": 1,
          "yanchor": "bottom",
          "yref": "paper"
         },
         {
          "font": {
           "size": 16
          },
          "showarrow": false,
          "text": "B1",
          "x": 0.2646,
          "xanchor": "center",
          "xref": "paper",
          "y": 1,
          "yanchor": "bottom",
          "yref": "paper"
         },
         {
          "font": {
           "size": 16
          },
          "showarrow": false,
          "text": "C1",
          "x": 0.44999999999999996,
          "xanchor": "center",
          "xref": "paper",
          "y": 1,
          "yanchor": "bottom",
          "yref": "paper"
         },
         {
          "font": {
           "size": 16
          },
          "showarrow": false,
          "text": "D1",
          "x": 0.6354,
          "xanchor": "center",
          "xref": "paper",
          "y": 1,
          "yanchor": "bottom",
          "yref": "paper"
         },
         {
          "font": {
           "size": 16
          },
          "showarrow": false,
          "text": "E1",
          "x": 0.8208,
          "xanchor": "center",
          "xref": "paper",
          "y": 1,
          "yanchor": "bottom",
          "yref": "paper"
         },
         {
          "font": {
           "size": 16
          },
          "showarrow": false,
          "text": "X Axis",
          "x": 0.44999999999999996,
          "xanchor": "center",
          "xref": "paper",
          "y": 0,
          "yanchor": "top",
          "yref": "paper",
          "yshift": -40
         },
         {
          "font": {
           "size": 16
          },
          "showarrow": false,
          "text": "Y Axis 1",
          "textangle": -90,
          "x": 0,
          "xanchor": "right",
          "xref": "paper",
          "xshift": -40,
          "y": 0.5,
          "yanchor": "middle",
          "yref": "paper"
         },
         {
          "font": {
           "size": 16
          },
          "showarrow": false,
          "text": "Y Axis 2",
          "textangle": 90,
          "x": 0.9,
          "xanchor": "left",
          "xref": "paper",
          "xshift": 30,
          "y": 0.5,
          "yanchor": "middle",
          "yref": "paper"
         },
         {
          "font": {
           "size": 16
          },
          "showarrow": false,
          "text": "Y Axis 3",
          "textangle": 90,
          "x": 1,
          "xanchor": "left",
          "xref": "paper",
          "xshift": 30,
          "y": 0.5,
          "yanchor": "middle",
          "yref": "paper"
         }
        ],
        "height": 600,
        "legend": {
         "y": 0.85,
         "yref": "container"
        },
        "margin": {
         "b": 70,
         "l": 70,
         "t": 115
        },
        "template": {
         "data": {
          "bar": [
           {
            "error_x": {
             "color": "#f2f5fa"
            },
            "error_y": {
             "color": "#f2f5fa"
            },
            "marker": {
             "line": {
              "color": "rgba(0,0,0,0)",
              "width": 0.5
             },
             "pattern": {
              "fillmode": "overlay",
              "size": 10,
              "solidity": 0.2
             }
            },
            "type": "bar"
           }
          ],
          "barpolar": [
           {
            "marker": {
             "line": {
              "color": "rgba(0,0,0,0)",
              "width": 0.5
             },
             "pattern": {
              "fillmode": "overlay",
              "size": 10,
              "solidity": 0.2
             }
            },
            "type": "barpolar"
           }
          ],
          "carpet": [
           {
            "aaxis": {
             "endlinecolor": "#A2B1C6",
             "gridcolor": "#506784",
             "linecolor": "#506784",
             "minorgridcolor": "#506784",
             "startlinecolor": "#A2B1C6"
            },
            "baxis": {
             "endlinecolor": "#A2B1C6",
             "gridcolor": "#506784",
             "linecolor": "#506784",
             "minorgridcolor": "#506784",
             "startlinecolor": "#A2B1C6"
            },
            "type": "carpet"
           }
          ],
          "choropleth": [
           {
            "colorbar": {
             "outlinewidth": 0,
             "ticks": ""
            },
            "type": "choropleth"
           }
          ],
          "contour": [
           {
            "colorbar": {
             "outlinewidth": 0,
             "ticks": ""
            },
            "colorscale": [
             [
              0,
              "#0d0887"
             ],
             [
              0.1111111111111111,
              "#46039f"
             ],
             [
              0.2222222222222222,
              "#7201a8"
             ],
             [
              0.3333333333333333,
              "#9c179e"
             ],
             [
              0.4444444444444444,
              "#bd3786"
             ],
             [
              0.5555555555555556,
              "#d8576b"
             ],
             [
              0.6666666666666666,
              "#ed7953"
             ],
             [
              0.7777777777777778,
              "#fb9f3a"
             ],
             [
              0.8888888888888888,
              "#fdca26"
             ],
             [
              1,
              "#f0f921"
             ]
            ],
            "type": "contour"
           }
          ],
          "contourcarpet": [
           {
            "colorbar": {
             "outlinewidth": 0,
             "ticks": ""
            },
            "type": "contourcarpet"
           }
          ],
          "heatmap": [
           {
            "colorbar": {
             "outlinewidth": 0,
             "ticks": ""
            },
            "colorscale": [
             [
              0,
              "#0d0887"
             ],
             [
              0.1111111111111111,
              "#46039f"
             ],
             [
              0.2222222222222222,
              "#7201a8"
             ],
             [
              0.3333333333333333,
              "#9c179e"
             ],
             [
              0.4444444444444444,
              "#bd3786"
             ],
             [
              0.5555555555555556,
              "#d8576b"
             ],
             [
              0.6666666666666666,
              "#ed7953"
             ],
             [
              0.7777777777777778,
              "#fb9f3a"
             ],
             [
              0.8888888888888888,
              "#fdca26"
             ],
             [
              1,
              "#f0f921"
             ]
            ],
            "hoverongaps": false,
            "texttemplate": "%{z}",
            "type": "heatmap"
           }
          ],
          "histogram": [
           {
            "histnorm": "probability density",
            "marker": {
             "line": {
              "width": 1
             },
             "opacity": 0.4,
             "pattern": {
              "fillmode": "overlay",
              "size": 10,
              "solidity": 0.2
             }
            },
            "type": "histogram"
           }
          ],
          "histogram2d": [
           {
            "colorbar": {
             "outlinewidth": 0,
             "ticks": ""
            },
            "colorscale": [
             [
              0,
              "#0d0887"
             ],
             [
              0.1111111111111111,
              "#46039f"
             ],
             [
              0.2222222222222222,
              "#7201a8"
             ],
             [
              0.3333333333333333,
              "#9c179e"
             ],
             [
              0.4444444444444444,
              "#bd3786"
             ],
             [
              0.5555555555555556,
              "#d8576b"
             ],
             [
              0.6666666666666666,
              "#ed7953"
             ],
             [
              0.7777777777777778,
              "#fb9f3a"
             ],
             [
              0.8888888888888888,
              "#fdca26"
             ],
             [
              1,
              "#f0f921"
             ]
            ],
            "type": "histogram2d"
           }
          ],
          "histogram2dcontour": [
           {
            "colorbar": {
             "outlinewidth": 0,
             "ticks": ""
            },
            "colorscale": [
             [
              0,
              "#0d0887"
             ],
             [
              0.1111111111111111,
              "#46039f"
             ],
             [
              0.2222222222222222,
              "#7201a8"
             ],
             [
              0.3333333333333333,
              "#9c179e"
             ],
             [
              0.4444444444444444,
              "#bd3786"
             ],
             [
              0.5555555555555556,
              "#d8576b"
             ],
             [
              0.6666666666666666,
              "#ed7953"
             ],
             [
              0.7777777777777778,
              "#fb9f3a"
             ],
             [
              0.8888888888888888,
              "#fdca26"
             ],
             [
              1,
              "#f0f921"
             ]
            ],
            "type": "histogram2dcontour"
           }
          ],
          "mesh3d": [
           {
            "colorbar": {
             "outlinewidth": 0,
             "ticks": ""
            },
            "type": "mesh3d"
           }
          ],
          "parcoords": [
           {
            "line": {
             "colorbar": {
              "outlinewidth": 0,
              "ticks": ""
             }
            },
            "type": "parcoords"
           }
          ],
          "pie": [
           {
            "automargin": true,
            "type": "pie"
           }
          ],
          "scatter": [
           {
            "hovertemplate": "<b>%{fullData.name}</b><br>x: %{x}<br>y: %{y}<extra></extra>",
            "marker": {
             "line": {
              "color": "#283442"
             },
             "size": 4
            },
            "type": "scatter"
           }
          ],
          "scatter3d": [
           {
            "line": {
             "colorbar": {
              "outlinewidth": 0,
              "ticks": ""
             }
            },
            "marker": {
             "colorbar": {
              "outlinewidth": 0,
              "ticks": ""
             }
            },
            "type": "scatter3d"
           }
          ],
          "scattercarpet": [
           {
            "marker": {
             "colorbar": {
              "outlinewidth": 0,
              "ticks": ""
             }
            },
            "type": "scattercarpet"
           }
          ],
          "scattergeo": [
           {
            "marker": {
             "colorbar": {
              "outlinewidth": 0,
              "ticks": ""
             }
            },
            "type": "scattergeo"
           }
          ],
          "scattergl": [
           {
            "marker": {
             "line": {
              "color": "#283442"
             }
            },
            "type": "scattergl"
           }
          ],
          "scattermapbox": [
           {
            "marker": {
             "colorbar": {
              "outlinewidth": 0,
              "ticks": ""
             }
            },
            "type": "scattermapbox"
           }
          ],
          "scatterpolar": [
           {
            "marker": {
             "colorbar": {
              "outlinewidth": 0,
              "ticks": ""
             }
            },
            "type": "scatterpolar"
           }
          ],
          "scatterpolargl": [
           {
            "marker": {
             "colorbar": {
              "outlinewidth": 0,
              "ticks": ""
             }
            },
            "type": "scatterpolargl"
           }
          ],
          "scatterternary": [
           {
            "marker": {
             "colorbar": {
              "outlinewidth": 0,
              "ticks": ""
             }
            },
            "type": "scatterternary"
           }
          ],
          "surface": [
           {
            "colorbar": {
             "outlinewidth": 0,
             "ticks": ""
            },
            "colorscale": [
             [
              0,
              "#0d0887"
             ],
             [
              0.1111111111111111,
              "#46039f"
             ],
             [
              0.2222222222222222,
              "#7201a8"
             ],
             [
              0.3333333333333333,
              "#9c179e"
             ],
             [
              0.4444444444444444,
              "#bd3786"
             ],
             [
              0.5555555555555556,
              "#d8576b"
             ],
             [
              0.6666666666666666,
              "#ed7953"
             ],
             [
              0.7777777777777778,
              "#fb9f3a"
             ],
             [
              0.8888888888888888,
              "#fdca26"
             ],
             [
              1,
              "#f0f921"
             ]
            ],
            "type": "surface"
           }
          ],
          "table": [
           {
            "cells": {
             "fill": {
              "color": "#506784"
             },
             "line": {
              "color": "rgba(0,0,0,0)"
             }
            },
            "header": {
             "fill": {
              "color": "#2a3f5f"
             },
             "line": {
              "color": "rgba(0,0,0,0)"
             }
            },
            "type": "table"
           }
          ]
         },
         "layout": {
          "annotationdefaults": {
           "arrowcolor": "#f2f5fa",
           "arrowhead": 0,
           "arrowwidth": 0.5,
           "font": {
            "size": 10
           }
          },
          "autotypenumbers": "strict",
          "barmode": "overlay",
          "boxmode": "group",
          "coloraxis": {
           "colorbar": {
            "outlinewidth": 0,
            "ticks": ""
           }
          },
          "colorscale": {
           "diverging": [
            [
             0,
             "#8e0152"
            ],
            [
             0.1,
             "#c51b7d"
            ],
            [
             0.2,
             "#de77ae"
            ],
            [
             0.3,
             "#f1b6da"
            ],
            [
             0.4,
             "#fde0ef"
            ],
            [
             0.5,
             "#f7f7f7"
            ],
            [
             0.6,
             "#e6f5d0"
            ],
            [
             0.7,
             "#b8e186"
            ],
            [
             0.8,
             "#7fbc41"
            ],
            [
             0.9,
             "#4d9221"
            ],
            [
             1,
             "#276419"
            ]
           ],
           "sequential": [
            [
             0,
             "#0d0887"
            ],
            [
             0.1111111111111111,
             "#46039f"
            ],
            [
             0.2222222222222222,
             "#7201a8"
            ],
            [
             0.3333333333333333,
             "#9c179e"
            ],
            [
             0.4444444444444444,
             "#bd3786"
            ],
            [
             0.5555555555555556,
             "#d8576b"
            ],
            [
             0.6666666666666666,
             "#ed7953"
            ],
            [
             0.7777777777777778,
             "#fb9f3a"
            ],
            [
             0.8888888888888888,
             "#fdca26"
            ],
            [
             1,
             "#f0f921"
            ]
           ],
           "sequentialminus": [
            [
             0,
             "#0d0887"
            ],
            [
             0.1111111111111111,
             "#46039f"
            ],
            [
             0.2222222222222222,
             "#7201a8"
            ],
            [
             0.3333333333333333,
             "#9c179e"
            ],
            [
             0.4444444444444444,
             "#bd3786"
            ],
            [
             0.5555555555555556,
             "#d8576b"
            ],
            [
             0.6666666666666666,
             "#ed7953"
            ],
            [
             0.7777777777777778,
             "#fb9f3a"
            ],
            [
             0.8888888888888888,
             "#fdca26"
            ],
            [
             1,
             "#f0f921"
            ]
           ]
          },
          "colorway": [
           "#ab63fa",
           "#30D5DB",
           "#B6E880",
           "#FF9C12",
           "#FF6692",
           "#9299FD",
           "#73DBB6",
           "#FFE989",
           "#FFA15A",
           "#FF85FF",
           "#DEBFFF",
           "#636efa",
           "#00cc96",
           "#FECB52",
           "#CF4915",
           "#FF97FF",
           "#C592FD",
           "#19d3f3",
           "#3BDB5F",
           "#FFBD8E",
           "#EF553B",
           "#FFCCFF"
          ],
          "font": {
           "color": "#f2f5fa",
           "family": "\"SF Pro Rounded\", \"Mona Sans\", \"CMU Serif\", \"Monaspace Neon\", \"Open Sans\", verdana, arial, sans-serif",
           "weight": 200
          },
          "geo": {
           "bgcolor": "rgba(0,0,0,0)",
           "lakecolor": "rgba(0,0,0,0)",
           "landcolor": "rgba(0,0,0,0)",
           "showlakes": true,
           "showland": true,
           "subunitcolor": "#506784"
          },
          "hoverlabel": {
           "align": "left"
          },
          "hovermode": "closest",
          "legend": {
           "bgcolor": "rgba(0,0,0,0)",
           "font": {
            "size": 10
           },
           "grouptitlefont": {
            "size": 12,
            "weight": 200
           },
           "itemsizing": "trace",
           "itemwidth": 30,
           "orientation": "h",
           "y": 1,
           "yanchor": "bottom",
           "yref": "paper"
          },
          "mapbox": {
           "style": "dark"
          },
          "margin": {
           "b": 50,
           "l": 50,
           "r": 10,
           "t": 75
          },
          "modebar": {
           "add": [],
           "bgcolor": "rgba(0,0,0,0)",
           "remove": [
            "zoomin",
            "zoomout",
            "lasso",
            "autoscale",
            "select"
           ]
          },
          "paper_bgcolor": "rgba(0,0,0,0)",
          "plot_bgcolor": "rgba(0,0,0,0)",
          "polar": {
           "angularaxis": {
            "gridcolor": "#506784",
            "linecolor": "#506784",
            "ticks": ""
           },
           "bgcolor": "rgba(0,0,0,0)",
           "radialaxis": {
            "gridcolor": "#506784",
            "linecolor": "#506784",
            "ticks": ""
           }
          },
          "scene": {
           "aspectmode": "auto",
           "bgcolor": "rgba(0,0,0,0)",
           "xaxis": {
            "backgroundcolor": "rgba(0,0,0,0)",
            "gridcolor": "#506784",
            "gridwidth": 2,
            "linecolor": "#506784",
            "mirror": true,
            "showbackground": true,
            "showline": true,
            "showspikes": false,
            "ticks": "",
            "zeroline": true,
            "zerolinecolor": "#C8D4E3"
           },
           "yaxis": {
            "backgroundcolor": "rgba(0,0,0,0)",
            "gridcolor": "#506784",
            "gridwidth": 2,
            "linecolor": "#506784",
            "mirror": true,
            "showbackground": true,
            "showline": true,
            "showspikes": false,
            "ticks": "",
            "zeroline": true,
            "zerolinecolor": "#C8D4E3"
           },
           "zaxis": {
            "backgroundcolor": "rgba(0,0,0,0)",
            "gridcolor": "#506784",
            "gridwidth": 2,
            "linecolor": "#506784",
            "mirror": true,
            "showbackground": true,
            "showline": true,
            "ticks": "",
            "zeroline": true,
            "zerolinecolor": "#C8D4E3"
           }
          },
          "shapedefaults": {
           "line": {
            "color": "#f2f5fa"
           }
          },
          "showlegend": true,
          "sliderdefaults": {
           "bgcolor": "#C8D4E3",
           "bordercolor": "rgba(0,0,0,0)",
           "borderwidth": 1,
           "tickwidth": 0
          },
          "ternary": {
           "aaxis": {
            "gridcolor": "#506784",
            "linecolor": "#506784",
            "ticks": ""
           },
           "baxis": {
            "gridcolor": "#506784",
            "linecolor": "#506784",
            "ticks": ""
           },
           "bgcolor": "rgba(0,0,0,0)",
           "caxis": {
            "gridcolor": "#506784",
            "linecolor": "#506784",
            "ticks": ""
           }
          },
          "title": {
           "font": {
            "size": 28
           },
           "pad": {
            "b": 40
           },
           "x": 0.5,
           "y": 1,
           "yanchor": "bottom",
           "yref": "paper"
          },
          "updatemenudefaults": {
           "bgcolor": "rgba(33, 67, 96, 0.4)",
           "bordercolor": "rgba(0,0,0,0)",
           "borderwidth": 0,
           "buttons": [
            {
             "args": [
              "type",
              "mesh3d"
             ],
             "label": "3D Bar",
             "method": "restyle",
             "name": "bar3d"
            }
           ],
           "direction": "left",
           "font": {
            "size": 11,
            "weight": 200
           },
           "showactive": true,
           "type": "buttons",
           "x": 1,
           "xanchor": "right",
           "yanchor": "bottom"
          },
          "xaxis": {
           "gridcolor": "#283442",
           "gridwidth": 2,
           "linecolor": "#506784",
           "minor": {
            "gridcolor": "rgba(40, 52, 66, 0.4)",
            "showgrid": true
           },
           "mirror": true,
           "showgrid": true,
           "showline": true,
           "tickfont": {
            "size": 12
           },
           "ticklabelmode": "period",
           "title": {
            "font": {
             "size": 16
            },
            "standoff": 10
           },
           "zeroline": true,
           "zerolinecolor": "#283442",
           "zerolinewidth": 2
          },
          "yaxis": {
           "gridcolor": "#283442",
           "gridwidth": 2,
           "linecolor": "#506784",
           "minor": {
            "gridcolor": "rgba(40, 52, 66, 0.4)",
            "showgrid": true
           },
           "mirror": true,
           "showgrid": true,
           "showline": true,
           "tickfont": {
            "size": 12
           },
           "ticklabelmode": "period",
           "title": {
            "font": {
             "size": 16
            },
            "standoff": 10
           },
           "zeroline": true,
           "zerolinecolor": "#283442",
           "zerolinewidth": 2
          }
         }
        },
        "title": {
         "pad": {
          "b": 80
         },
         "text": "Subplot"
        },
        "width": 900,
        "xaxis": {
         "anchor": "y",
         "domain": [
          0,
          0.15839999999999999
         ],
         "gridcolor": "#283442",
         "gridwidth": 2,
         "linecolor": "#506784",
         "matches": "x",
         "minor": {
          "gridcolor": "rgba(40, 52, 66, 0.4)",
          "showgrid": true
         },
         "mirror": true,
         "showgrid": true,
         "showline": true,
         "showticklabels": false,
         "tickfont": {
          "size": 12
         },
         "ticklabelmode": "period",
         "title": {
          "font": {
           "size": 16
          },
          "standoff": 10
         },
         "zeroline": true,
         "zerolinecolor": "#283442",
         "zerolinewidth": 2
        },
        "xaxis10": {
         "anchor": "y10",
         "domain": [
          0.7415999999999999,
          0.8999999999999999
         ],
         "gridcolor": "#283442",
         "gridwidth": 2,
         "linecolor": "#506784",
         "matches": "x",
         "minor": {
          "gridcolor": "rgba(40, 52, 66, 0.4)",
          "showgrid": true
         },
         "mirror": true,
         "showgrid": true,
         "showline": true,
         "showticklabels": false,
         "tickfont": {
          "size": 12
         },
         "ticklabelmode": "period",
         "title": {
          "font": {
           "size": 16
          },
          "standoff": 10
         },
         "zeroline": true,
         "zerolinecolor": "#283442",
         "zerolinewidth": 2
        },
        "xaxis11": {
         "anchor": "y11",
         "domain": [
          0,
          0.15839999999999999
         ],
         "gridcolor": "#283442",
         "gridwidth": 2,
         "linecolor": "#506784",
         "matches": "x",
         "minor": {
          "gridcolor": "rgba(40, 52, 66, 0.4)",
          "showgrid": true
         },
         "mirror": true,
         "showgrid": true,
         "showline": true,
         "showticklabels": true,
         "tickfont": {
          "size": 12
         },
         "ticklabelmode": "period",
         "title": {
          "font": {
           "size": 16
          },
          "standoff": 10
         },
         "zeroline": true,
         "zerolinecolor": "#283442",
         "zerolinewidth": 2
        },
        "xaxis12": {
         "anchor": "y12",
         "domain": [
          0.18539999999999998,
          0.3438
         ],
         "gridcolor": "#283442",
         "gridwidth": 2,
         "linecolor": "#506784",
         "matches": "x",
         "minor": {
          "gridcolor": "rgba(40, 52, 66, 0.4)",
          "showgrid": true
         },
         "mirror": true,
         "showgrid": true,
         "showline": true,
         "showticklabels": true,
         "tickfont": {
          "size": 12
         },
         "ticklabelmode": "period",
         "title": {
          "font": {
           "size": 16
          },
          "standoff": 10
         },
         "zeroline": true,
         "zerolinecolor": "#283442",
         "zerolinewidth": 2
        },
        "xaxis13": {
         "anchor": "y13",
         "domain": [
          0.37079999999999996,
          0.5291999999999999
         ],
         "gridcolor": "#283442",
         "gridwidth": 2,
         "linecolor": "#506784",
         "matches": "x",
         "minor": {
          "gridcolor": "rgba(40, 52, 66, 0.4)",
          "showgrid": true
         },
         "mirror": true,
         "showgrid": true,
         "showline": true,
         "showticklabels": true,
         "tickfont": {
          "size": 12
         },
         "ticklabelmode": "period",
         "title": {
          "font": {
           "size": 16
          },
          "standoff": 10
         },
         "zeroline": true,
         "zerolinecolor": "#283442",
         "zerolinewidth": 2
        },
        "xaxis14": {
         "anchor": "y14",
         "domain": [
          0.5562,
          0.7146
         ],
         "gridcolor": "#283442",
         "gridwidth": 2,
         "linecolor": "#506784",
         "matches": "x",
         "minor": {
          "gridcolor": "rgba(40, 52, 66, 0.4)",
          "showgrid": true
         },
         "mirror": true,
         "showgrid": true,
         "showline": true,
         "showticklabels": true,
         "tickfont": {
          "size": 12
         },
         "ticklabelmode": "period",
         "title": {
          "font": {
           "size": 16
          },
          "standoff": 10
         },
         "zeroline": true,
         "zerolinecolor": "#283442",
         "zerolinewidth": 2
        },
        "xaxis15": {
         "anchor": "y15",
         "domain": [
          0.7415999999999999,
          0.8999999999999999
         ],
         "gridcolor": "#283442",
         "gridwidth": 2,
         "linecolor": "#506784",
         "matches": "x",
         "minor": {
          "gridcolor": "rgba(40, 52, 66, 0.4)",
          "showgrid": true
         },
         "mirror": true,
         "showgrid": true,
         "showline": true,
         "showticklabels": true,
         "tickfont": {
          "size": 12
         },
         "ticklabelmode": "period",
         "title": {
          "font": {
           "size": 16
          },
          "standoff": 10
         },
         "zeroline": true,
         "zerolinecolor": "#283442",
         "zerolinewidth": 2
        },
        "xaxis2": {
         "anchor": "y2",
         "domain": [
          0.18539999999999998,
          0.3438
         ],
         "gridcolor": "#283442",
         "gridwidth": 2,
         "linecolor": "#506784",
         "matches": "x",
         "minor": {
          "gridcolor": "rgba(40, 52, 66, 0.4)",
          "showgrid": true
         },
         "mirror": true,
         "showgrid": true,
         "showline": true,
         "showticklabels": false,
         "tickfont": {
          "size": 12
         },
         "ticklabelmode": "period",
         "title": {
          "font": {
           "size": 16
          },
          "standoff": 10
         },
         "zeroline": true,
         "zerolinecolor": "#283442",
         "zerolinewidth": 2
        },
        "xaxis3": {
         "anchor": "y3",
         "domain": [
          0.37079999999999996,
          0.5291999999999999
         ],
         "gridcolor": "#283442",
         "gridwidth": 2,
         "linecolor": "#506784",
         "matches": "x",
         "minor": {
          "gridcolor": "rgba(40, 52, 66, 0.4)",
          "showgrid": true
         },
         "mirror": true,
         "showgrid": true,
         "showline": true,
         "showticklabels": false,
         "tickfont": {
          "size": 12
         },
         "ticklabelmode": "period",
         "title": {
          "font": {
           "size": 16
          },
          "standoff": 10
         },
         "zeroline": true,
         "zerolinecolor": "#283442",
         "zerolinewidth": 2
        },
        "xaxis4": {
         "anchor": "y4",
         "domain": [
          0.5562,
          0.7146
         ],
         "gridcolor": "#283442",
         "gridwidth": 2,
         "linecolor": "#506784",
         "matches": "x",
         "minor": {
          "gridcolor": "rgba(40, 52, 66, 0.4)",
          "showgrid": true
         },
         "mirror": true,
         "showgrid": true,
         "showline": true,
         "showticklabels": false,
         "tickfont": {
          "size": 12
         },
         "ticklabelmode": "period",
         "title": {
          "font": {
           "size": 16
          },
          "standoff": 10
         },
         "zeroline": true,
         "zerolinecolor": "#283442",
         "zerolinewidth": 2
        },
        "xaxis5": {
         "anchor": "y5",
         "domain": [
          0.7415999999999999,
          0.8999999999999999
         ],
         "gridcolor": "#283442",
         "gridwidth": 2,
         "linecolor": "#506784",
         "matches": "x",
         "minor": {
          "gridcolor": "rgba(40, 52, 66, 0.4)",
          "showgrid": true
         },
         "mirror": true,
         "showgrid": true,
         "showline": true,
         "showticklabels": false,
         "tickfont": {
          "size": 12
         },
         "ticklabelmode": "period",
         "title": {
          "font": {
           "size": 16
          },
          "standoff": 10
         },
         "zeroline": true,
         "zerolinecolor": "#283442",
         "zerolinewidth": 2
        },
        "xaxis6": {
         "anchor": "y6",
         "domain": [
          0,
          0.15839999999999999
         ],
         "gridcolor": "#283442",
         "gridwidth": 2,
         "linecolor": "#506784",
         "matches": "x",
         "minor": {
          "gridcolor": "rgba(40, 52, 66, 0.4)",
          "showgrid": true
         },
         "mirror": true,
         "showgrid": true,
         "showline": true,
         "showticklabels": false,
         "tickfont": {
          "size": 12
         },
         "ticklabelmode": "period",
         "title": {
          "font": {
           "size": 16
          },
          "standoff": 10
         },
         "zeroline": true,
         "zerolinecolor": "#283442",
         "zerolinewidth": 2
        },
        "xaxis7": {
         "anchor": "y7",
         "domain": [
          0.18539999999999998,
          0.3438
         ],
         "gridcolor": "#283442",
         "gridwidth": 2,
         "linecolor": "#506784",
         "matches": "x",
         "minor": {
          "gridcolor": "rgba(40, 52, 66, 0.4)",
          "showgrid": true
         },
         "mirror": true,
         "showgrid": true,
         "showline": true,
         "showticklabels": false,
         "tickfont": {
          "size": 12
         },
         "ticklabelmode": "period",
         "title": {
          "font": {
           "size": 16
          },
          "standoff": 10
         },
         "zeroline": true,
         "zerolinecolor": "#283442",
         "zerolinewidth": 2
        },
        "xaxis8": {
         "anchor": "y8",
         "domain": [
          0.37079999999999996,
          0.5291999999999999
         ],
         "gridcolor": "#283442",
         "gridwidth": 2,
         "linecolor": "#506784",
         "matches": "x",
         "minor": {
          "gridcolor": "rgba(40, 52, 66, 0.4)",
          "showgrid": true
         },
         "mirror": true,
         "showgrid": true,
         "showline": true,
         "showticklabels": false,
         "tickfont": {
          "size": 12
         },
         "ticklabelmode": "period",
         "title": {
          "font": {
           "size": 16
          },
          "standoff": 10
         },
         "zeroline": true,
         "zerolinecolor": "#283442",
         "zerolinewidth": 2
        },
        "xaxis9": {
         "anchor": "y9",
         "domain": [
          0.5562,
          0.7146
         ],
         "gridcolor": "#283442",
         "gridwidth": 2,
         "linecolor": "#506784",
         "matches": "x",
         "minor": {
          "gridcolor": "rgba(40, 52, 66, 0.4)",
          "showgrid": true
         },
         "mirror": true,
         "showgrid": true,
         "showline": true,
         "showticklabels": false,
         "tickfont": {
          "size": 12
         },
         "ticklabelmode": "period",
         "title": {
          "font": {
           "size": 16
          },
          "standoff": 10
         },
         "zeroline": true,
         "zerolinecolor": "#283442",
         "zerolinewidth": 2
        },
        "yaxis": {
         "anchor": "x",
         "domain": [
          0.7,
          1
         ],
         "gridcolor": "#283442",
         "gridwidth": 2,
         "linecolor": "#506784",
         "matches": "y",
         "minor": {
          "gridcolor": "rgba(40, 52, 66, 0.4)",
          "showgrid": true
         },
         "mirror": true,
         "showgrid": true,
         "showline": true,
         "showticklabels": true,
         "tickfont": {
          "size": 12
         },
         "ticklabelmode": "period",
         "title": {
          "font": {
           "size": 16
          },
          "standoff": 10
         },
         "zeroline": true,
         "zerolinecolor": "#283442",
         "zerolinewidth": 2
        },
        "yaxis10": {
         "anchor": "x10",
         "domain": [
          0.35,
          0.6499999999999999
         ],
         "gridcolor": "#283442",
         "gridwidth": 2,
         "linecolor": "#506784",
         "minor": {
          "gridcolor": "rgba(40, 52, 66, 0.4)",
          "showgrid": true
         },
         "mirror": true,
         "showgrid": true,
         "showline": true,
         "showticklabels": true,
         "tickfont": {
          "size": 12
         },
         "ticklabelmode": "period",
         "title": {
          "font": {
           "size": 16
          },
          "standoff": 10
         },
         "zeroline": true,
         "zerolinecolor": "#283442",
         "zerolinewidth": 2
        },
        "yaxis11": {
         "anchor": "x11",
         "domain": [
          0,
          0.3
         ],
         "gridcolor": "#283442",
         "gridwidth": 2,
         "linecolor": "#506784",
         "matches": "y",
         "minor": {
          "gridcolor": "rgba(40, 52, 66, 0.4)",
          "showgrid": true
         },
         "mirror": true,
         "showgrid": true,
         "showline": true,
         "showticklabels": true,
         "tickfont": {
          "size": 12
         },
         "ticklabelmode": "period",
         "title": {
          "font": {
           "size": 16
          },
          "standoff": 10
         },
         "zeroline": true,
         "zerolinecolor": "#283442",
         "zerolinewidth": 2
        },
        "yaxis12": {
         "anchor": "x12",
         "domain": [
          0,
          0.3
         ],
         "gridcolor": "#283442",
         "gridwidth": 2,
         "linecolor": "#506784",
         "matches": "y",
         "minor": {
          "gridcolor": "rgba(40, 52, 66, 0.4)",
          "showgrid": true
         },
         "mirror": true,
         "showgrid": true,
         "showline": true,
         "showticklabels": false,
         "tickfont": {
          "size": 12
         },
         "ticklabelmode": "period",
         "title": {
          "font": {
           "size": 16
          },
          "standoff": 10
         },
         "zeroline": true,
         "zerolinecolor": "#283442",
         "zerolinewidth": 2
        },
        "yaxis13": {
         "anchor": "x13",
         "domain": [
          0,
          0.3
         ],
         "gridcolor": "#283442",
         "gridwidth": 2,
         "linecolor": "#506784",
         "matches": "y",
         "minor": {
          "gridcolor": "rgba(40, 52, 66, 0.4)",
          "showgrid": true
         },
         "mirror": true,
         "showgrid": true,
         "showline": true,
         "showticklabels": false,
         "tickfont": {
          "size": 12
         },
         "ticklabelmode": "period",
         "title": {
          "font": {
           "size": 16
          },
          "standoff": 10
         },
         "zeroline": true,
         "zerolinecolor": "#283442",
         "zerolinewidth": 2
        },
        "yaxis14": {
         "anchor": "x14",
         "domain": [
          0,
          0.3
         ],
         "gridcolor": "#283442",
         "gridwidth": 2,
         "linecolor": "#506784",
         "matches": "y",
         "minor": {
          "gridcolor": "rgba(40, 52, 66, 0.4)",
          "showgrid": true
         },
         "mirror": true,
         "showgrid": true,
         "showline": true,
         "showticklabels": false,
         "tickfont": {
          "size": 12
         },
         "ticklabelmode": "period",
         "title": {
          "font": {
           "size": 16
          },
          "standoff": 10
         },
         "zeroline": true,
         "zerolinecolor": "#283442",
         "zerolinewidth": 2
        },
        "yaxis15": {
         "anchor": "x15",
         "domain": [
          0,
          0.3
         ],
         "gridcolor": "#283442",
         "gridwidth": 2,
         "linecolor": "#506784",
         "minor": {
          "gridcolor": "rgba(40, 52, 66, 0.4)",
          "showgrid": true
         },
         "mirror": true,
         "showgrid": true,
         "showline": true,
         "showticklabels": true,
         "tickfont": {
          "size": 12
         },
         "ticklabelmode": "period",
         "title": {
          "font": {
           "size": 16
          },
          "standoff": 10
         },
         "zeroline": true,
         "zerolinecolor": "#283442",
         "zerolinewidth": 2
        },
        "yaxis16": {
         "anchor": "free",
         "domain": [
          0.7,
          1
         ],
         "gridcolor": "#283442",
         "gridwidth": 2,
         "linecolor": "#506784",
         "matches": "y16",
         "minor": {
          "showgrid": false
         },
         "mirror": true,
         "overlaying": "y",
         "position": 0.9,
         "showgrid": false,
         "showline": true,
         "showticklabels": true,
         "side": "right",
         "tickfont": {
          "size": 12
         },
         "ticklabelmode": "period",
         "tickmode": "auto",
         "title": {
          "font": {
           "size": 16
          },
          "standoff": 10
         },
         "zeroline": true,
         "zerolinecolor": "#283442",
         "zerolinewidth": 2
        },
        "yaxis17": {
         "anchor": "free",
         "domain": [
          0.7,
          1
         ],
         "gridcolor": "#283442",
         "gridwidth": 2,
         "linecolor": "#506784",
         "matches": "y16",
         "minor": {
          "showgrid": false
         },
         "mirror": true,
         "overlaying": "y2",
         "position": 0.9,
         "showgrid": false,
         "showline": true,
         "showticklabels": false,
         "side": "right",
         "tickfont": {
          "size": 12
         },
         "ticklabelmode": "period",
         "tickmode": "auto",
         "title": {
          "font": {
           "size": 16
          },
          "standoff": 10
         },
         "zeroline": true,
         "zerolinecolor": "#283442",
         "zerolinewidth": 2
        },
        "yaxis18": {
         "anchor": "free",
         "domain": [
          0.7,
          1
         ],
         "gridcolor": "#283442",
         "gridwidth": 2,
         "linecolor": "#506784",
         "matches": "y16",
         "minor": {
          "showgrid": false
         },
         "mirror": true,
         "overlaying": "y3",
         "position": 0.9,
         "showgrid": false,
         "showline": true,
         "showticklabels": false,
         "side": "right",
         "tickfont": {
          "size": 12
         },
         "ticklabelmode": "period",
         "tickmode": "auto",
         "title": {
          "font": {
           "size": 16
          },
          "standoff": 10
         },
         "zeroline": true,
         "zerolinecolor": "#283442",
         "zerolinewidth": 2
        },
        "yaxis19": {
         "anchor": "free",
         "domain": [
          0.7,
          1
         ],
         "gridcolor": "#283442",
         "gridwidth": 2,
         "linecolor": "#506784",
         "matches": "y16",
         "minor": {
          "showgrid": false
         },
         "mirror": true,
         "overlaying": "y4",
         "position": 0.9,
         "showgrid": false,
         "showline": true,
         "showticklabels": false,
         "side": "right",
         "tickfont": {
          "size": 12
         },
         "ticklabelmode": "period",
         "tickmode": "auto",
         "title": {
          "font": {
           "size": 16
          },
          "standoff": 10
         },
         "zeroline": true,
         "zerolinecolor": "#283442",
         "zerolinewidth": 2
        },
        "yaxis2": {
         "anchor": "x2",
         "domain": [
          0.7,
          1
         ],
         "gridcolor": "#283442",
         "gridwidth": 2,
         "linecolor": "#506784",
         "matches": "y",
         "minor": {
          "gridcolor": "rgba(40, 52, 66, 0.4)",
          "showgrid": true
         },
         "mirror": true,
         "showgrid": true,
         "showline": true,
         "showticklabels": false,
         "tickfont": {
          "size": 12
         },
         "ticklabelmode": "period",
         "title": {
          "font": {
           "size": 16
          },
          "standoff": 10
         },
         "zeroline": true,
         "zerolinecolor": "#283442",
         "zerolinewidth": 2
        },
        "yaxis20": {
         "anchor": "free",
         "domain": [
          0.7,
          1
         ],
         "gridcolor": "#283442",
         "gridwidth": 2,
         "linecolor": "#506784",
         "matches": "y16",
         "minor": {
          "showgrid": false
         },
         "mirror": true,
         "overlaying": "y5",
         "position": 0.9,
         "showgrid": false,
         "showline": true,
         "showticklabels": false,
         "side": "right",
         "tickfont": {
          "size": 12
         },
         "ticklabelmode": "period",
         "tickmode": "auto",
         "title": {
          "font": {
           "size": 16
          },
          "standoff": 10
         },
         "zeroline": true,
         "zerolinecolor": "#283442",
         "zerolinewidth": 2
        },
        "yaxis21": {
         "anchor": "free",
         "domain": [
          0.35,
          0.6499999999999999
         ],
         "gridcolor": "#283442",
         "gridwidth": 2,
         "linecolor": "#506784",
         "matches": "y16",
         "minor": {
          "showgrid": false
         },
         "mirror": true,
         "overlaying": "y6",
         "position": 0.9,
         "showgrid": false,
         "showline": true,
         "showticklabels": true,
         "side": "right",
         "tickfont": {
          "size": 12
         },
         "ticklabelmode": "period",
         "tickmode": "auto",
         "title": {
          "font": {
           "size": 16
          },
          "standoff": 10
         },
         "zeroline": true,
         "zerolinecolor": "#283442",
         "zerolinewidth": 2
        },
        "yaxis22": {
         "anchor": "free",
         "domain": [
          0.35,
          0.6499999999999999
         ],
         "gridcolor": "#283442",
         "gridwidth": 2,
         "linecolor": "#506784",
         "matches": "y16",
         "minor": {
          "showgrid": false
         },
         "mirror": true,
         "overlaying": "y7",
         "position": 0.9,
         "showgrid": false,
         "showline": true,
         "showticklabels": false,
         "side": "right",
         "tickfont": {
          "size": 12
         },
         "ticklabelmode": "period",
         "tickmode": "auto",
         "title": {
          "font": {
           "size": 16
          },
          "standoff": 10
         },
         "zeroline": true,
         "zerolinecolor": "#283442",
         "zerolinewidth": 2
        },
        "yaxis23": {
         "anchor": "free",
         "domain": [
          0.35,
          0.6499999999999999
         ],
         "gridcolor": "#283442",
         "gridwidth": 2,
         "linecolor": "#506784",
         "matches": "y16",
         "minor": {
          "showgrid": false
         },
         "mirror": true,
         "overlaying": "y8",
         "position": 0.9,
         "showgrid": false,
         "showline": true,
         "showticklabels": false,
         "side": "right",
         "tickfont": {
          "size": 12
         },
         "ticklabelmode": "period",
         "tickmode": "auto",
         "title": {
          "font": {
           "size": 16
          },
          "standoff": 10
         },
         "zeroline": true,
         "zerolinecolor": "#283442",
         "zerolinewidth": 2
        },
        "yaxis24": {
         "anchor": "free",
         "domain": [
          0.35,
          0.6499999999999999
         ],
         "gridcolor": "#283442",
         "gridwidth": 2,
         "linecolor": "#506784",
         "matches": "y16",
         "minor": {
          "showgrid": false
         },
         "mirror": true,
         "overlaying": "y9",
         "position": 0.9,
         "showgrid": false,
         "showline": true,
         "showticklabels": false,
         "side": "right",
         "tickfont": {
          "size": 12
         },
         "ticklabelmode": "period",
         "tickmode": "auto",
         "title": {
          "font": {
           "size": 16
          },
          "standoff": 10
         },
         "zeroline": true,
         "zerolinecolor": "#283442",
         "zerolinewidth": 2
        },
        "yaxis25": {
         "anchor": "free",
         "domain": [
          0.35,
          0.6499999999999999
         ],
         "gridcolor": "#283442",
         "gridwidth": 2,
         "linecolor": "#506784",
         "matches": "y16",
         "minor": {
          "showgrid": false
         },
         "mirror": true,
         "overlaying": "y10",
         "position": 0.9,
         "showgrid": false,
         "showline": true,
         "showticklabels": false,
         "side": "right",
         "tickfont": {
          "size": 12
         },
         "ticklabelmode": "period",
         "tickmode": "auto",
         "title": {
          "font": {
           "size": 16
          },
          "standoff": 10
         },
         "zeroline": true,
         "zerolinecolor": "#283442",
         "zerolinewidth": 2
        },
        "yaxis26": {
         "anchor": "free",
         "domain": [
          0,
          0.3
         ],
         "gridcolor": "#283442",
         "gridwidth": 2,
         "linecolor": "#506784",
         "matches": "y16",
         "minor": {
          "showgrid": false
         },
         "mirror": true,
         "overlaying": "y11",
         "position": 0.9,
         "showgrid": false,
         "showline": true,
         "showticklabels": true,
         "side": "right",
         "tickfont": {
          "size": 12
         },
         "ticklabelmode": "period",
         "tickmode": "auto",
         "title": {
          "font": {
           "size": 16
          },
          "standoff": 10
         },
         "zeroline": true,
         "zerolinecolor": "#283442",
         "zerolinewidth": 2
        },
        "yaxis27": {
         "anchor": "free",
         "domain": [
          0,
          0.3
         ],
         "gridcolor": "#283442",
         "gridwidth": 2,
         "linecolor": "#506784",
         "matches": "y16",
         "minor": {
          "showgrid": false
         },
         "mirror": true,
         "overlaying": "y12",
         "position": 0.9,
         "showgrid": false,
         "showline": true,
         "showticklabels": false,
         "side": "right",
         "tickfont": {
          "size": 12
         },
         "ticklabelmode": "period",
         "tickmode": "auto",
         "title": {
          "font": {
           "size": 16
          },
          "standoff": 10
         },
         "zeroline": true,
         "zerolinecolor": "#283442",
         "zerolinewidth": 2
        },
        "yaxis28": {
         "anchor": "free",
         "domain": [
          0,
          0.3
         ],
         "gridcolor": "#283442",
         "gridwidth": 2,
         "linecolor": "#506784",
         "matches": "y16",
         "minor": {
          "showgrid": false
         },
         "mirror": true,
         "overlaying": "y13",
         "position": 0.9,
         "showgrid": false,
         "showline": true,
         "showticklabels": false,
         "side": "right",
         "tickfont": {
          "size": 12
         },
         "ticklabelmode": "period",
         "tickmode": "auto",
         "title": {
          "font": {
           "size": 16
          },
          "standoff": 10
         },
         "zeroline": true,
         "zerolinecolor": "#283442",
         "zerolinewidth": 2
        },
        "yaxis29": {
         "anchor": "free",
         "domain": [
          0,
          0.3
         ],
         "gridcolor": "#283442",
         "gridwidth": 2,
         "linecolor": "#506784",
         "matches": "y16",
         "minor": {
          "showgrid": false
         },
         "mirror": true,
         "overlaying": "y14",
         "position": 0.9,
         "showgrid": false,
         "showline": true,
         "showticklabels": false,
         "side": "right",
         "tickfont": {
          "size": 12
         },
         "ticklabelmode": "period",
         "tickmode": "auto",
         "title": {
          "font": {
           "size": 16
          },
          "standoff": 10
         },
         "zeroline": true,
         "zerolinecolor": "#283442",
         "zerolinewidth": 2
        },
        "yaxis3": {
         "anchor": "x3",
         "domain": [
          0.7,
          1
         ],
         "gridcolor": "#283442",
         "gridwidth": 2,
         "linecolor": "#506784",
         "matches": "y",
         "minor": {
          "gridcolor": "rgba(40, 52, 66, 0.4)",
          "showgrid": true
         },
         "mirror": true,
         "showgrid": true,
         "showline": true,
         "showticklabels": false,
         "tickfont": {
          "size": 12
         },
         "ticklabelmode": "period",
         "title": {
          "font": {
           "size": 16
          },
          "standoff": 10
         },
         "zeroline": true,
         "zerolinecolor": "#283442",
         "zerolinewidth": 2
        },
        "yaxis30": {
         "anchor": "free",
         "domain": [
          0,
          0.3
         ],
         "gridcolor": "#283442",
         "gridwidth": 2,
         "linecolor": "#506784",
         "matches": "y16",
         "minor": {
          "showgrid": false
         },
         "mirror": true,
         "overlaying": "y15",
         "position": 0.9,
         "showgrid": false,
         "showline": true,
         "showticklabels": false,
         "side": "right",
         "tickfont": {
          "size": 12
         },
         "ticklabelmode": "period",
         "tickmode": "auto",
         "title": {
          "font": {
           "size": 16
          },
          "standoff": 10
         },
         "zeroline": true,
         "zerolinecolor": "#283442",
         "zerolinewidth": 2
        },
        "yaxis31": {
         "anchor": "free",
         "domain": [
          0.7,
          1
         ],
         "gridcolor": "#283442",
         "gridwidth": 2,
         "linecolor": "#506784",
         "matches": "y31",
         "minor": {
          "showgrid": false
         },
         "mirror": true,
         "overlaying": "y",
         "position": 1,
         "showgrid": false,
         "showline": true,
         "showticklabels": true,
         "side": "right",
         "tickfont": {
          "size": 12
         },
         "ticklabelmode": "period",
         "tickmode": "auto",
         "title": {
          "font": {
           "size": 16
          },
          "standoff": 10
         },
         "zeroline": true,
         "zerolinecolor": "#283442",
         "zerolinewidth": 2
        },
        "yaxis32": {
         "anchor": "free",
         "domain": [
          0.7,
          1
         ],
         "gridcolor": "#283442",
         "gridwidth": 2,
         "linecolor": "#506784",
         "matches": "y31",
         "minor": {
          "showgrid": false
         },
         "mirror": true,
         "overlaying": "y2",
         "position": 1,
         "showgrid": false,
         "showline": true,
         "showticklabels": false,
         "side": "right",
         "tickfont": {
          "size": 12
         },
         "ticklabelmode": "period",
         "tickmode": "auto",
         "title": {
          "font": {
           "size": 16
          },
          "standoff": 10
         },
         "zeroline": true,
         "zerolinecolor": "#283442",
         "zerolinewidth": 2
        },
        "yaxis33": {
         "anchor": "free",
         "domain": [
          0.7,
          1
         ],
         "gridcolor": "#283442",
         "gridwidth": 2,
         "linecolor": "#506784",
         "matches": "y31",
         "minor": {
          "showgrid": false
         },
         "mirror": true,
         "overlaying": "y3",
         "position": 1,
         "showgrid": false,
         "showline": true,
         "showticklabels": false,
         "side": "right",
         "tickfont": {
          "size": 12
         },
         "ticklabelmode": "period",
         "tickmode": "auto",
         "title": {
          "font": {
           "size": 16
          },
          "standoff": 10
         },
         "zeroline": true,
         "zerolinecolor": "#283442",
         "zerolinewidth": 2
        },
        "yaxis34": {
         "anchor": "free",
         "domain": [
          0.7,
          1
         ],
         "gridcolor": "#283442",
         "gridwidth": 2,
         "linecolor": "#506784",
         "matches": "y31",
         "minor": {
          "showgrid": false
         },
         "mirror": true,
         "overlaying": "y4",
         "position": 1,
         "showgrid": false,
         "showline": true,
         "showticklabels": false,
         "side": "right",
         "tickfont": {
          "size": 12
         },
         "ticklabelmode": "period",
         "tickmode": "auto",
         "title": {
          "font": {
           "size": 16
          },
          "standoff": 10
         },
         "zeroline": true,
         "zerolinecolor": "#283442",
         "zerolinewidth": 2
        },
        "yaxis35": {
         "anchor": "free",
         "domain": [
          0.7,
          1
         ],
         "gridcolor": "#283442",
         "gridwidth": 2,
         "linecolor": "#506784",
         "matches": "y31",
         "minor": {
          "showgrid": false
         },
         "mirror": true,
         "overlaying": "y5",
         "position": 1,
         "showgrid": false,
         "showline": true,
         "showticklabels": false,
         "side": "right",
         "tickfont": {
          "size": 12
         },
         "ticklabelmode": "period",
         "tickmode": "auto",
         "title": {
          "font": {
           "size": 16
          },
          "standoff": 10
         },
         "zeroline": true,
         "zerolinecolor": "#283442",
         "zerolinewidth": 2
        },
        "yaxis36": {
         "anchor": "free",
         "domain": [
          0.35,
          0.6499999999999999
         ],
         "gridcolor": "#283442",
         "gridwidth": 2,
         "linecolor": "#506784",
         "matches": "y31",
         "minor": {
          "showgrid": false
         },
         "mirror": true,
         "overlaying": "y6",
         "position": 1,
         "showgrid": false,
         "showline": true,
         "showticklabels": true,
         "side": "right",
         "tickfont": {
          "size": 12
         },
         "ticklabelmode": "period",
         "tickmode": "auto",
         "title": {
          "font": {
           "size": 16
          },
          "standoff": 10
         },
         "zeroline": true,
         "zerolinecolor": "#283442",
         "zerolinewidth": 2
        },
        "yaxis37": {
         "anchor": "free",
         "domain": [
          0.35,
          0.6499999999999999
         ],
         "gridcolor": "#283442",
         "gridwidth": 2,
         "linecolor": "#506784",
         "matches": "y31",
         "minor": {
          "showgrid": false
         },
         "mirror": true,
         "overlaying": "y7",
         "position": 1,
         "showgrid": false,
         "showline": true,
         "showticklabels": false,
         "side": "right",
         "tickfont": {
          "size": 12
         },
         "ticklabelmode": "period",
         "tickmode": "auto",
         "title": {
          "font": {
           "size": 16
          },
          "standoff": 10
         },
         "zeroline": true,
         "zerolinecolor": "#283442",
         "zerolinewidth": 2
        },
        "yaxis38": {
         "anchor": "free",
         "domain": [
          0.35,
          0.6499999999999999
         ],
         "gridcolor": "#283442",
         "gridwidth": 2,
         "linecolor": "#506784",
         "matches": "y31",
         "minor": {
          "showgrid": false
         },
         "mirror": true,
         "overlaying": "y8",
         "position": 1,
         "showgrid": false,
         "showline": true,
         "showticklabels": false,
         "side": "right",
         "tickfont": {
          "size": 12
         },
         "ticklabelmode": "period",
         "tickmode": "auto",
         "title": {
          "font": {
           "size": 16
          },
          "standoff": 10
         },
         "zeroline": true,
         "zerolinecolor": "#283442",
         "zerolinewidth": 2
        },
        "yaxis39": {
         "anchor": "free",
         "domain": [
          0.35,
          0.6499999999999999
         ],
         "gridcolor": "#283442",
         "gridwidth": 2,
         "linecolor": "#506784",
         "matches": "y31",
         "minor": {
          "showgrid": false
         },
         "mirror": true,
         "overlaying": "y9",
         "position": 1,
         "showgrid": false,
         "showline": true,
         "showticklabels": false,
         "side": "right",
         "tickfont": {
          "size": 12
         },
         "ticklabelmode": "period",
         "tickmode": "auto",
         "title": {
          "font": {
           "size": 16
          },
          "standoff": 10
         },
         "zeroline": true,
         "zerolinecolor": "#283442",
         "zerolinewidth": 2
        },
        "yaxis4": {
         "anchor": "x4",
         "domain": [
          0.7,
          1
         ],
         "gridcolor": "#283442",
         "gridwidth": 2,
         "linecolor": "#506784",
         "matches": "y",
         "minor": {
          "gridcolor": "rgba(40, 52, 66, 0.4)",
          "showgrid": true
         },
         "mirror": true,
         "showgrid": true,
         "showline": true,
         "showticklabels": false,
         "tickfont": {
          "size": 12
         },
         "ticklabelmode": "period",
         "title": {
          "font": {
           "size": 16
          },
          "standoff": 10
         },
         "zeroline": true,
         "zerolinecolor": "#283442",
         "zerolinewidth": 2
        },
        "yaxis40": {
         "anchor": "free",
         "domain": [
          0.35,
          0.6499999999999999
         ],
         "gridcolor": "#283442",
         "gridwidth": 2,
         "linecolor": "#506784",
         "matches": "y31",
         "minor": {
          "showgrid": false
         },
         "mirror": true,
         "overlaying": "y10",
         "position": 1,
         "showgrid": false,
         "showline": true,
         "showticklabels": false,
         "side": "right",
         "tickfont": {
          "size": 12
         },
         "ticklabelmode": "period",
         "tickmode": "auto",
         "title": {
          "font": {
           "size": 16
          },
          "standoff": 10
         },
         "zeroline": true,
         "zerolinecolor": "#283442",
         "zerolinewidth": 2
        },
        "yaxis41": {
         "anchor": "free",
         "domain": [
          0,
          0.3
         ],
         "gridcolor": "#283442",
         "gridwidth": 2,
         "linecolor": "#506784",
         "matches": "y31",
         "minor": {
          "showgrid": false
         },
         "mirror": true,
         "overlaying": "y11",
         "position": 1,
         "showgrid": false,
         "showline": true,
         "showticklabels": true,
         "side": "right",
         "tickfont": {
          "size": 12
         },
         "ticklabelmode": "period",
         "tickmode": "auto",
         "title": {
          "font": {
           "size": 16
          },
          "standoff": 10
         },
         "zeroline": true,
         "zerolinecolor": "#283442",
         "zerolinewidth": 2
        },
        "yaxis42": {
         "anchor": "free",
         "domain": [
          0,
          0.3
         ],
         "gridcolor": "#283442",
         "gridwidth": 2,
         "linecolor": "#506784",
         "matches": "y31",
         "minor": {
          "showgrid": false
         },
         "mirror": true,
         "overlaying": "y12",
         "position": 1,
         "showgrid": false,
         "showline": true,
         "showticklabels": false,
         "side": "right",
         "tickfont": {
          "size": 12
         },
         "ticklabelmode": "period",
         "tickmode": "auto",
         "title": {
          "font": {
           "size": 16
          },
          "standoff": 10
         },
         "zeroline": true,
         "zerolinecolor": "#283442",
         "zerolinewidth": 2
        },
        "yaxis43": {
         "anchor": "free",
         "domain": [
          0,
          0.3
         ],
         "gridcolor": "#283442",
         "gridwidth": 2,
         "linecolor": "#506784",
         "matches": "y31",
         "minor": {
          "showgrid": false
         },
         "mirror": true,
         "overlaying": "y13",
         "position": 1,
         "showgrid": false,
         "showline": true,
         "showticklabels": false,
         "side": "right",
         "tickfont": {
          "size": 12
         },
         "ticklabelmode": "period",
         "tickmode": "auto",
         "title": {
          "font": {
           "size": 16
          },
          "standoff": 10
         },
         "zeroline": true,
         "zerolinecolor": "#283442",
         "zerolinewidth": 2
        },
        "yaxis44": {
         "anchor": "free",
         "domain": [
          0,
          0.3
         ],
         "gridcolor": "#283442",
         "gridwidth": 2,
         "linecolor": "#506784",
         "matches": "y31",
         "minor": {
          "showgrid": false
         },
         "mirror": true,
         "overlaying": "y14",
         "position": 1,
         "showgrid": false,
         "showline": true,
         "showticklabels": false,
         "side": "right",
         "tickfont": {
          "size": 12
         },
         "ticklabelmode": "period",
         "tickmode": "auto",
         "title": {
          "font": {
           "size": 16
          },
          "standoff": 10
         },
         "zeroline": true,
         "zerolinecolor": "#283442",
         "zerolinewidth": 2
        },
        "yaxis45": {
         "anchor": "free",
         "domain": [
          0,
          0.3
         ],
         "gridcolor": "#283442",
         "gridwidth": 2,
         "linecolor": "#506784",
         "matches": "y31",
         "minor": {
          "showgrid": false
         },
         "mirror": true,
         "overlaying": "y15",
         "position": 1,
         "showgrid": false,
         "showline": true,
         "showticklabels": false,
         "side": "right",
         "tickfont": {
          "size": 12
         },
         "ticklabelmode": "period",
         "tickmode": "auto",
         "title": {
          "font": {
           "size": 16
          },
          "standoff": 10
         },
         "zeroline": true,
         "zerolinecolor": "#283442",
         "zerolinewidth": 2
        },
        "yaxis5": {
         "anchor": "x5",
         "domain": [
          0.7,
          1
         ],
         "gridcolor": "#283442",
         "gridwidth": 2,
         "linecolor": "#506784",
         "matches": "y",
         "minor": {
          "gridcolor": "rgba(40, 52, 66, 0.4)",
          "showgrid": true
         },
         "mirror": true,
         "showgrid": true,
         "showline": true,
         "showticklabels": false,
         "tickfont": {
          "size": 12
         },
         "ticklabelmode": "period",
         "title": {
          "font": {
           "size": 16
          },
          "standoff": 10
         },
         "zeroline": true,
         "zerolinecolor": "#283442",
         "zerolinewidth": 2
        },
        "yaxis6": {
         "anchor": "x6",
         "domain": [
          0.35,
          0.6499999999999999
         ],
         "gridcolor": "#283442",
         "gridwidth": 2,
         "linecolor": "#506784",
         "matches": "y",
         "minor": {
          "gridcolor": "rgba(40, 52, 66, 0.4)",
          "showgrid": true
         },
         "mirror": true,
         "showgrid": true,
         "showline": true,
         "showticklabels": true,
         "tickfont": {
          "size": 12
         },
         "ticklabelmode": "period",
         "title": {
          "font": {
           "size": 16
          },
          "standoff": 10
         },
         "zeroline": true,
         "zerolinecolor": "#283442",
         "zerolinewidth": 2
        },
        "yaxis7": {
         "anchor": "x7",
         "domain": [
          0.35,
          0.6499999999999999
         ],
         "gridcolor": "#283442",
         "gridwidth": 2,
         "linecolor": "#506784",
         "matches": "y",
         "minor": {
          "gridcolor": "rgba(40, 52, 66, 0.4)",
          "showgrid": true
         },
         "mirror": true,
         "showgrid": true,
         "showline": true,
         "showticklabels": false,
         "tickfont": {
          "size": 12
         },
         "ticklabelmode": "period",
         "title": {
          "font": {
           "size": 16
          },
          "standoff": 10
         },
         "zeroline": true,
         "zerolinecolor": "#283442",
         "zerolinewidth": 2
        },
        "yaxis8": {
         "anchor": "x8",
         "domain": [
          0.35,
          0.6499999999999999
         ],
         "gridcolor": "#283442",
         "gridwidth": 2,
         "linecolor": "#506784",
         "matches": "y",
         "minor": {
          "gridcolor": "rgba(40, 52, 66, 0.4)",
          "showgrid": true
         },
         "mirror": true,
         "showgrid": true,
         "showline": true,
         "showticklabels": false,
         "tickfont": {
          "size": 12
         },
         "ticklabelmode": "period",
         "title": {
          "font": {
           "size": 16
          },
          "standoff": 10
         },
         "zeroline": true,
         "zerolinecolor": "#283442",
         "zerolinewidth": 2
        },
        "yaxis9": {
         "anchor": "x9",
         "domain": [
          0.35,
          0.6499999999999999
         ],
         "gridcolor": "#283442",
         "gridwidth": 2,
         "linecolor": "#506784",
         "matches": "y",
         "minor": {
          "gridcolor": "rgba(40, 52, 66, 0.4)",
          "showgrid": true
         },
         "mirror": true,
         "showgrid": true,
         "showline": true,
         "showticklabels": false,
         "tickfont": {
          "size": 12
         },
         "ticklabelmode": "period",
         "title": {
          "font": {
           "size": 16
          },
          "standoff": 10
         },
         "zeroline": true,
         "zerolinecolor": "#283442",
         "zerolinewidth": 2
        }
       }
      }
     },
     "metadata": {},
     "output_type": "display_data"
    }
   ],
   "source": [
    "from mayutils.visualisation.graphs.plotly.charts import (\n",
    "    AxisConfig,\n",
    "    MainAxisConfig,\n",
    "    MainAxisConfigs,\n",
    "    SubPlot,\n",
    "    SubPlotConfig,\n",
    "    Titles,\n",
    ")\n",
    "\n",
    "fig2 = (\n",
    "    SubPlot(\n",
    "        description=\"\",\n",
    "        subplot_config=SubPlotConfig(\n",
    "            plots=(\n",
    "                (\n",
    "                    PlotConfig(\n",
    "                        yaxes_configs=(\n",
    "                            TracesConfig(\n",
    "                                traces=(\n",
    "                                    go.Scatter(\n",
    "                                        x=[0, 100],\n",
    "                                        y=[1, 0],\n",
    "                                        name=\"1 1\",\n",
    "                                        # yaxis=\"y\",\n",
    "                                    ),\n",
    "                                ),\n",
    "                                yaxis_config=AxisConfig(),\n",
    "                            ),\n",
    "                            TracesConfig(\n",
    "                                traces=(\n",
    "                                    go.Scatter(\n",
    "                                        x=[0, 100],\n",
    "                                        y=[1, 0],\n",
    "                                        name=\"1 2\",\n",
    "                                        # yaxis=\"y2\",\n",
    "                                    ),\n",
    "                                ),\n",
    "                                yaxis_config=AxisConfig(),\n",
    "                            ),\n",
    "                            # TracesConfig(\n",
    "                            #     traces=(\n",
    "                            #         go.Scatter(\n",
    "                            #             x=[0, 100],\n",
    "                            #             y=[1, 0],\n",
    "                            #             # yaxis=\"y3\",\n",
    "                            #             name=\"1 3\",\n",
    "                            #         ),\n",
    "                            #     ),\n",
    "                            #     yaxis_config=AxisConfig(),\n",
    "                            # ),\n",
    "                        ),\n",
    "                    ),\n",
    "                    PlotConfig(\n",
    "                        yaxes_configs=(\n",
    "                            TracesConfig(\n",
    "                                traces=(\n",
    "                                    go.Scatter(\n",
    "                                        x=[0, 100],\n",
    "                                        y=[1, 0],\n",
    "                                        # yaxis=\"y5\",\n",
    "                                        name=\"2 1\",\n",
    "                                    ),\n",
    "                                ),\n",
    "                                yaxis_config=AxisConfig(),\n",
    "                            ),\n",
    "                            TracesConfig(\n",
    "                                traces=(\n",
    "                                    go.Scatter(\n",
    "                                        x=[0, 100],\n",
    "                                        y=[1, 0],\n",
    "                                        # yaxis=\"y5\",\n",
    "                                        name=\"2 2\",\n",
    "                                    ),\n",
    "                                ),\n",
    "                                yaxis_config=AxisConfig(),\n",
    "                            ),\n",
    "                        ),\n",
    "                    ),\n",
    "                    PlotConfig(\n",
    "                        yaxes_configs=(\n",
    "                            TracesConfig(\n",
    "                                traces=(\n",
    "                                    go.Scatter(\n",
    "                                        x=[0, 100],\n",
    "                                        y=[1, 0],\n",
    "                                        # yaxis=\"y5\",\n",
    "                                        name=\"3 1\",\n",
    "                                    ),\n",
    "                                ),\n",
    "                                yaxis_config=AxisConfig(),\n",
    "                            ),\n",
    "                            # TracesConfig(\n",
    "                            #     traces=(\n",
    "                            #         go.Scatter(\n",
    "                            #             x=[0, 100],\n",
    "                            #             y=[1, 0],\n",
    "                            #             # yaxis=\"y5\",\n",
    "                            #             name=\"3 2\",\n",
    "                            #         ),\n",
    "                            #     ),\n",
    "                            #     yaxis_config=AxisConfig(),\n",
    "                            # ),\n",
    "                        ),\n",
    "                    ),\n",
    "                    None,\n",
    "                    None,\n",
    "                ),\n",
    "                (\n",
    "                    PlotConfig(\n",
    "                        yaxes_configs=(\n",
    "                            TracesConfig(\n",
    "                                traces=(\n",
    "                                    go.Scatter(\n",
    "                                        x=[0, 100],\n",
    "                                        y=[1, 0],\n",
    "                                        name=\"4 1\",\n",
    "                                    ),\n",
    "                                ),\n",
    "                                yaxis_config=AxisConfig(),\n",
    "                            ),\n",
    "                        ),\n",
    "                    ),\n",
    "                    PlotConfig(\n",
    "                        yaxes_configs=(\n",
    "                            TracesConfig(\n",
    "                                traces=(\n",
    "                                    go.Scatter(\n",
    "                                        x=[0, 100],\n",
    "                                        y=[1, 0],\n",
    "                                        name=\"5 1\",\n",
    "                                    ),\n",
    "                                ),\n",
    "                                yaxis_config=AxisConfig(),\n",
    "                            ),\n",
    "                            TracesConfig(\n",
    "                                traces=(\n",
    "                                    go.Scatter(\n",
    "                                        x=[0, 100],\n",
    "                                        y=[1, 0],\n",
    "                                        # yaxis=\"y5\",\n",
    "                                        name=\"5 2\",\n",
    "                                    ),\n",
    "                                ),\n",
    "                                yaxis_config=AxisConfig(),\n",
    "                            ),\n",
    "                        ),\n",
    "                    ),\n",
    "                    PlotConfig(\n",
    "                        yaxes_configs=(\n",
    "                            TracesConfig(\n",
    "                                traces=(\n",
    "                                    go.Scatter(\n",
    "                                        x=[0, 100],\n",
    "                                        y=[1, 0],\n",
    "                                        # yaxis=\"y5\",\n",
    "                                        name=\"6 1\",\n",
    "                                    ),\n",
    "                                ),\n",
    "                                yaxis_config=AxisConfig(),\n",
    "                            ),\n",
    "                        ),\n",
    "                    ),\n",
    "                    PlotConfig(\n",
    "                        yaxes_configs=(\n",
    "                            TracesConfig(\n",
    "                                traces=(\n",
    "                                    go.Scatter(\n",
    "                                        x=[0, 100],\n",
    "                                        y=[1, 0],\n",
    "                                        # yaxis=\"y5\",\n",
    "                                        name=\"6 1\",\n",
    "                                    ),\n",
    "                                ),\n",
    "                                yaxis_config=AxisConfig(),\n",
    "                            ),\n",
    "                        ),\n",
    "                    ),\n",
    "                    PlotConfig(\n",
    "                        yaxes_configs=(\n",
    "                            TracesConfig(\n",
    "                                traces=(\n",
    "                                    go.Scatter(\n",
    "                                        x=[0, 100],\n",
    "                                        y=[1, 0],\n",
    "                                        # yaxis=\"y5\",\n",
    "                                        name=\"6 1\",\n",
    "                                    ),\n",
    "                                ),\n",
    "                                yaxis_config=AxisConfig(\n",
    "                                    matches=None,\n",
    "                                    # title=dict(\n",
    "                                    #     text=\"foo\",\n",
    "                                    #     standoff=0,\n",
    "                                    #     font_size=8,\n",
    "                                    # ),\n",
    "                                    showticklabels=True,\n",
    "                                ),\n",
    "                            ),\n",
    "                            TracesConfig(\n",
    "                                traces=(\n",
    "                                    go.Scatter(\n",
    "                                        x=[0, 100],\n",
    "                                        y=[1, 0],\n",
    "                                        # yaxis=\"y5\",\n",
    "                                        name=\"6 2\",\n",
    "                                    ),\n",
    "                                ),\n",
    "                                yaxis_config=AxisConfig(),\n",
    "                            ),\n",
    "                            TracesConfig(\n",
    "                                traces=(\n",
    "                                    go.Scatter(\n",
    "                                        x=[0, 100],\n",
    "                                        y=[1, 0],\n",
    "                                        # yaxis=\"y5\",\n",
    "                                        name=\"6 3\",\n",
    "                                    ),\n",
    "                                ),\n",
    "                                yaxis_config=AxisConfig(),\n",
    "                            ),\n",
    "                        ),\n",
    "                    ),\n",
    "                ),\n",
    "                (\n",
    "                    PlotConfig(\n",
    "                        yaxes_configs=(\n",
    "                            TracesConfig(\n",
    "                                traces=(\n",
    "                                    go.Scatter(\n",
    "                                        x=[0, 100],\n",
    "                                        y=[1, 0],\n",
    "                                        name=\"4 1\",\n",
    "                                    ),\n",
    "                                ),\n",
    "                                yaxis_config=AxisConfig(),\n",
    "                            ),\n",
    "                        ),\n",
    "                    ),\n",
    "                    PlotConfig(\n",
    "                        yaxes_configs=(\n",
    "                            TracesConfig(\n",
    "                                traces=(\n",
    "                                    go.Scatter(\n",
    "                                        x=[0, 100],\n",
    "                                        y=[1, 0],\n",
    "                                        name=\"5 1\",\n",
    "                                    ),\n",
    "                                ),\n",
    "                                yaxis_config=AxisConfig(),\n",
    "                            ),\n",
    "                            TracesConfig(\n",
    "                                traces=(\n",
    "                                    go.Scatter(\n",
    "                                        x=[0, 100],\n",
    "                                        y=[1, 0],\n",
    "                                        # yaxis=\"y5\",\n",
    "                                        name=\"5 2\",\n",
    "                                    ),\n",
    "                                ),\n",
    "                                yaxis_config=AxisConfig(),\n",
    "                            ),\n",
    "                        ),\n",
    "                    ),\n",
    "                    PlotConfig(\n",
    "                        yaxes_configs=(\n",
    "                            TracesConfig(\n",
    "                                traces=(\n",
    "                                    go.Scatter(\n",
    "                                        x=[0, 100],\n",
    "                                        y=[1, 0],\n",
    "                                        # yaxis=\"y5\",\n",
    "                                        name=\"6 1\",\n",
    "                                    ),\n",
    "                                ),\n",
    "                                yaxis_config=AxisConfig(),\n",
    "                            ),\n",
    "                        ),\n",
    "                    ),\n",
    "                    PlotConfig(\n",
    "                        yaxes_configs=(\n",
    "                            TracesConfig(\n",
    "                                traces=(\n",
    "                                    go.Scatter(\n",
    "                                        x=[0, 100],\n",
    "                                        y=[1, 0],\n",
    "                                        # yaxis=\"y5\",\n",
    "                                        name=\"6 1\",\n",
    "                                    ),\n",
    "                                ),\n",
    "                                yaxis_config=AxisConfig(),\n",
    "                            ),\n",
    "                        ),\n",
    "                    ),\n",
    "                    PlotConfig(\n",
    "                        yaxes_configs=(\n",
    "                            TracesConfig(\n",
    "                                traces=(\n",
    "                                    go.Scatter(\n",
    "                                        x=[0, 100],\n",
    "                                        y=[1, 0],\n",
    "                                        # yaxis=\"y5\",\n",
    "                                        name=\"6 1\",\n",
    "                                    ),\n",
    "                                ),\n",
    "                                yaxis_config=AxisConfig(\n",
    "                                    matches=None,\n",
    "                                    # title=dict(\n",
    "                                    #     text=\"foo\",\n",
    "                                    #     standoff=0,\n",
    "                                    #     font_size=8,\n",
    "                                    # ),\n",
    "                                    showticklabels=True,\n",
    "                                ),\n",
    "                            ),\n",
    "                            TracesConfig(\n",
    "                                traces=(\n",
    "                                    go.Scatter(\n",
    "                                        x=[0, 100],\n",
    "                                        y=[1, 0],\n",
    "                                        # yaxis=\"y5\",\n",
    "                                        name=\"6 2\",\n",
    "                                    ),\n",
    "                                ),\n",
    "                                yaxis_config=AxisConfig(),\n",
    "                            ),\n",
    "                            TracesConfig(\n",
    "                                traces=(\n",
    "                                    go.Scatter(\n",
    "                                        x=[0, 100],\n",
    "                                        y=[1, 0],\n",
    "                                        # yaxis=\"y5\",\n",
    "                                        name=\"6 3\",\n",
    "                                    ),\n",
    "                                ),\n",
    "                                yaxis_config=AxisConfig(),\n",
    "                            ),\n",
    "                        ),\n",
    "                    ),\n",
    "                ),\n",
    "            ),\n",
    "            main_axis_configs=MainAxisConfigs(\n",
    "                xaxis=MainAxisConfig(\n",
    "                    config=dict(title_text=\"X Axis\"),\n",
    "                    mode=(mode := \"collapsed\"),\n",
    "                ),\n",
    "                yaxes=(\n",
    "                    MainAxisConfig(\n",
    "                        config=dict(title_text=\"Y Axis 1\"),\n",
    "                        mode=mode,\n",
    "                    ),\n",
    "                    MainAxisConfig(\n",
    "                        config=dict(title_text=\"Y Axis 2\"),\n",
    "                        mode=mode,\n",
    "                    ),\n",
    "                    MainAxisConfig(\n",
    "                        config=dict(title_text=\"Y Axis 3\"),\n",
    "                        mode=mode,\n",
    "                    ),\n",
    "                    MainAxisConfig(\n",
    "                        config=dict(title_text=\"Y Axis 4\"),\n",
    "                        mode=mode,\n",
    "                    ),\n",
    "                ),\n",
    "            ),\n",
    "            titles=Titles(\n",
    "                main=\"Subplot\",\n",
    "                rows=(\"Grades A-B\", \"Grades C-D\", \"Grades E-F\"),\n",
    "                cols=(\"0K-5K\", \"5K-7.5K\", \"7.5K-10K\", \"10K-15K\", \"15K-25K\"),\n",
    "                plots=tuple(\n",
    "                    tuple(f\"{a}{b}\" for a in [\"A\", \"B\", \"C\", \"D\", \"E\"])\n",
    "                    for b in [1, 2, 3]\n",
    "                ),\n",
    "            ),\n",
    "        ),\n",
    "        layout=dict(\n",
    "            height=600,\n",
    "            width=900,\n",
    "        ),\n",
    "        x_spacing={\"collapsed\": 0.03},\n",
    "    )\n",
    "    .update_layout(legend=dict(y=0.85, yref=\"container\"))\n",
    "    .shift_title(40)(save=False)\n",
    ")\n"
   ]
  },
  {
   "cell_type": "code",
   "execution_count": 3,
   "id": "ea5a6158",
   "metadata": {},
   "outputs": [
    {
     "data": {
      "text/html": [
       "<pre style=\"white-space:pre;overflow-x:auto;line-height:normal;font-family:Menlo,'DejaVu Sans Mono',consolas,'Courier New',monospace\"></pre>\n"
      ],
      "text/plain": []
     },
     "metadata": {},
     "output_type": "display_data"
    },
    {
     "data": {
      "text/html": [
       "<style>\n",
       "            .cell-output-ipywidget-background {\n",
       "                background-color: transparent !important;\n",
       "            }\n",
       "            .jp-OutputArea-output {\n",
       "                background-color: transparent;\n",
       "            }\n",
       "            .updatemenu-button > rect.updatemenu-item-rect[style*=\"fill: rgb(244, 250, 255)\"],\n",
       "            .updatemenu-header > rect.updatemenu-item-rect[style*=\"fill: rgb(244, 250, 255)\"],\n",
       "            .updatemenu-dropdown-button > rect.updatemenu-item-rect[style*=\"fill: rgb(244, 250, 255)\"] {\n",
       "                fill: rgba(80, 103, 132, 0.4) !important;\n",
       "            }\n",
       "            .updatemenu-button:hover > rect.updatemenu-item-rect[style*=\"fill: rgb(244, 250, 255)\"],\n",
       "            .updatemenu-header:hover > rect.updatemenu-item-rect[style*=\"fill: rgb(244, 250, 255)\"],\n",
       "            .updatemenu-dropdown-button:hover > rect.updatemenu-item-rect[style*=\"fill: rgb(244, 250, 255)\"] {\n",
       "                fill: rgba(80, 103, 132, 0.6) !important;\n",
       "            }\n",
       "        </style>"
      ],
      "text/plain": [
       "\u001b[1m<\u001b[0m\u001b[1;95mIPython.core.display.HTML\u001b[0m\u001b[39m object\u001b[0m\u001b[1m>\u001b[0m"
      ]
     },
     "metadata": {},
     "output_type": "display_data"
    },
    {
     "data": {
      "application/vnd.plotly.v1+json": {
       "config": {
        "plotlyServerURL": "https://plot.ly"
       },
       "data": [
        {
         "type": "scatter",
         "x": [
          1,
          2
         ],
         "xaxis": "x",
         "y": [
          1,
          2
         ],
         "yaxis": "y"
        },
        {
         "type": "scatter",
         "x": [
          1,
          2
         ],
         "xaxis": "x",
         "y": [
          1,
          3
         ],
         "yaxis": "y5"
        },
        {
         "type": "scatter",
         "x": [
          1,
          3
         ],
         "xaxis": "x",
         "y": [
          1,
          3
         ],
         "yaxis": "y9"
        },
        {
         "type": "scatter",
         "x": [
          1,
          3
         ],
         "xaxis": "x",
         "y": [
          1,
          3
         ],
         "yaxis": "y13"
        },
        {
         "type": "scatter",
         "x": [
          1,
          3
         ],
         "xaxis": "x",
         "y": [
          1,
          3
         ],
         "yaxis": "y17"
        },
        {
         "type": "scatter",
         "x": [
          1,
          3
         ],
         "xaxis": "x",
         "y": [
          1,
          3
         ],
         "yaxis": "y21"
        },
        {
         "type": "scatter",
         "x": [
          1,
          2
         ],
         "xaxis": "x2",
         "y": [
          1,
          2
         ],
         "yaxis": "y2"
        },
        {
         "meta": "null",
         "showlegend": false,
         "type": "scatter",
         "x": [],
         "xaxis": "x2",
         "y": [],
         "yaxis": "y6"
        },
        {
         "meta": "null",
         "showlegend": false,
         "type": "scatter",
         "x": [],
         "xaxis": "x2",
         "y": [],
         "yaxis": "y10"
        },
        {
         "meta": "null",
         "showlegend": false,
         "type": "scatter",
         "x": [],
         "xaxis": "x2",
         "y": [],
         "yaxis": "y14"
        },
        {
         "meta": "null",
         "showlegend": false,
         "type": "scatter",
         "x": [],
         "xaxis": "x2",
         "y": [],
         "yaxis": "y18"
        },
        {
         "meta": "null",
         "showlegend": false,
         "type": "scatter",
         "x": [],
         "xaxis": "x2",
         "y": [],
         "yaxis": "y22"
        },
        {
         "scene": "scene",
         "showscale": true,
         "type": "surface",
         "x": {
          "bdata": "AAAAAAAAFMByHMdxHMcRQHIcx3EcxytAVlVVVVVVN0A5juM4jmNAQMdxHMdxHEVAVlVVVVXVSUDkOI7jOI5OQDmO4ziOo1FAAAAAAAAAVEA=",
          "dtype": "f8"
         },
         "y": {
          "bdata": "AAAAAAAAFMByHMdxHMcBQDmO4ziO4yJAq6qqqqqqMEA5juM4juM3QMhxHMdxHD9Aq6qqqqoqQ0ByHMdxHMdGQDmO4ziOY0pAAAAAAAAATkA=",
          "dtype": "f8"
         },
         "z": {
          "bdata": "AAAAAABAb8AurpAEq4FcwKOwsXZea4ZA20toL6GYsUAGcCma8WHKQAk1EefeSN1AMaG9hHZx60Abpv9oDQ33QPDdyGQ57gFBAAAAABhaCkHY4gpJsJpCwGbg6db8sFhAdgIhcrMRjUAVNtbOa22yQCNl4OlWzMpAmK/sjhF+3UB4XqvYD4zrQL+E9hJaGvdAQk3Eud/0AUFSb/tUvmAKQSCtyxxe9KNAryenxFAEpUBJGXi6NYOrQGsizj3QjLxATltcIQncz0BWVVVV9QLgQANcimb8z+xAhAPmWVC890CkDDzd2kUCQbQuc3i5sQpBwIT2ElqRyEBkY+28VtXIQMqfYfoPdcpAV1VVVVXt0EBj+o/WJbjZQLQ7RvgF6ORAMKG9hIba8ECzdl6r2C76QDxG+AUffwNBTGgvof3qC0HvGOEXXCLhQJjQXkJbM+FAst+7kUmb4UBqIs49sHTjQPB0a34Y2udAdLNpiwvm70AQXU9OiVn2QJIy8HTbrf9ALCTBaqA+BkE8RvgFf6oOQU/lK7uTWPJAI8FqUBNh8kCwSBl4CpXyQA1qIs69gfNAUBNx7nG09UCRMvB0a7r5QPRaxX53EABBtcUVkqC6BEGY0F5CUyILQVT5yu4YxxFBtZfQXiLSAEGfBXApYtYAQWZJR71d8ABBFNpLaLdmAUG1LnN4EYACQVa+sjsOgwRBAQAAAFC2B0HCalATeWAMQdK6zOEVZBFB2ktoLwWaFUGGX3DAFNgLQXDND4tU3AtBNxHnHlD2C0HloevJqWwMQYb2EtoDhg1BJ4ZSnQCJD0Hp488wIV4RQUoZeLo1sxNBu56cEg/nFkHDLzhg/hwbQR+6npwKbhVBFHHugSpwFUH3EtpLKH0VQU5bXCFVuBVBnwVwKQJFFkFwzQ+LgEYXQUVuNm0h4BhBpqPe9jU1G0EXKQNPD2keQRBdT05/TyFBAAAAAAw+H0H1tk/lK0AfQdhYO68pTR9BL6G9hFaIH0HApWjGgQogQaiJOPdAiyBBE9pLaBFYIUHD9B+tm4IiQXw3MlmIHCRBAAAAAIA3JkE=",
          "dtype": "f8",
          "shape": "10, 10"
         }
        },
        {
         "type": "scatter",
         "x": [
          1,
          2
         ],
         "xaxis": "x3",
         "y": [
          1,
          2
         ],
         "yaxis": "y3"
        },
        {
         "meta": "null",
         "showlegend": false,
         "type": "scatter",
         "x": [],
         "xaxis": "x3",
         "y": [],
         "yaxis": "y7"
        },
        {
         "meta": "null",
         "showlegend": false,
         "type": "scatter",
         "x": [],
         "xaxis": "x3",
         "y": [],
         "yaxis": "y11"
        },
        {
         "meta": "null",
         "showlegend": false,
         "type": "scatter",
         "x": [],
         "xaxis": "x3",
         "y": [],
         "yaxis": "y15"
        },
        {
         "meta": "null",
         "showlegend": false,
         "type": "scatter",
         "x": [],
         "xaxis": "x3",
         "y": [],
         "yaxis": "y19"
        },
        {
         "meta": "null",
         "showlegend": false,
         "type": "scatter",
         "x": [],
         "xaxis": "x3",
         "y": [],
         "yaxis": "y23"
        }
       ],
       "layout": {
        "scene": {
         "domain": {
          "x": [
           0,
           0.297
          ],
          "y": [
           0,
           0.475
          ]
         }
        },
        "template": {
         "data": {
          "bar": [
           {
            "error_x": {
             "color": "#f2f5fa"
            },
            "error_y": {
             "color": "#f2f5fa"
            },
            "marker": {
             "line": {
              "color": "rgba(0,0,0,0)",
              "width": 0.5
             },
             "pattern": {
              "fillmode": "overlay",
              "size": 10,
              "solidity": 0.2
             }
            },
            "type": "bar"
           }
          ],
          "barpolar": [
           {
            "marker": {
             "line": {
              "color": "rgba(0,0,0,0)",
              "width": 0.5
             },
             "pattern": {
              "fillmode": "overlay",
              "size": 10,
              "solidity": 0.2
             }
            },
            "type": "barpolar"
           }
          ],
          "carpet": [
           {
            "aaxis": {
             "endlinecolor": "#A2B1C6",
             "gridcolor": "#506784",
             "linecolor": "#506784",
             "minorgridcolor": "#506784",
             "startlinecolor": "#A2B1C6"
            },
            "baxis": {
             "endlinecolor": "#A2B1C6",
             "gridcolor": "#506784",
             "linecolor": "#506784",
             "minorgridcolor": "#506784",
             "startlinecolor": "#A2B1C6"
            },
            "type": "carpet"
           }
          ],
          "choropleth": [
           {
            "colorbar": {
             "outlinewidth": 0,
             "ticks": ""
            },
            "type": "choropleth"
           }
          ],
          "contour": [
           {
            "colorbar": {
             "outlinewidth": 0,
             "ticks": ""
            },
            "colorscale": [
             [
              0,
              "#0d0887"
             ],
             [
              0.1111111111111111,
              "#46039f"
             ],
             [
              0.2222222222222222,
              "#7201a8"
             ],
             [
              0.3333333333333333,
              "#9c179e"
             ],
             [
              0.4444444444444444,
              "#bd3786"
             ],
             [
              0.5555555555555556,
              "#d8576b"
             ],
             [
              0.6666666666666666,
              "#ed7953"
             ],
             [
              0.7777777777777778,
              "#fb9f3a"
             ],
             [
              0.8888888888888888,
              "#fdca26"
             ],
             [
              1,
              "#f0f921"
             ]
            ],
            "type": "contour"
           }
          ],
          "contourcarpet": [
           {
            "colorbar": {
             "outlinewidth": 0,
             "ticks": ""
            },
            "type": "contourcarpet"
           }
          ],
          "heatmap": [
           {
            "colorbar": {
             "outlinewidth": 0,
             "ticks": ""
            },
            "colorscale": [
             [
              0,
              "#0d0887"
             ],
             [
              0.1111111111111111,
              "#46039f"
             ],
             [
              0.2222222222222222,
              "#7201a8"
             ],
             [
              0.3333333333333333,
              "#9c179e"
             ],
             [
              0.4444444444444444,
              "#bd3786"
             ],
             [
              0.5555555555555556,
              "#d8576b"
             ],
             [
              0.6666666666666666,
              "#ed7953"
             ],
             [
              0.7777777777777778,
              "#fb9f3a"
             ],
             [
              0.8888888888888888,
              "#fdca26"
             ],
             [
              1,
              "#f0f921"
             ]
            ],
            "hoverongaps": false,
            "texttemplate": "%{z}",
            "type": "heatmap"
           }
          ],
          "histogram": [
           {
            "histnorm": "probability density",
            "marker": {
             "line": {
              "width": 1
             },
             "opacity": 0.4,
             "pattern": {
              "fillmode": "overlay",
              "size": 10,
              "solidity": 0.2
             }
            },
            "type": "histogram"
           }
          ],
          "histogram2d": [
           {
            "colorbar": {
             "outlinewidth": 0,
             "ticks": ""
            },
            "colorscale": [
             [
              0,
              "#0d0887"
             ],
             [
              0.1111111111111111,
              "#46039f"
             ],
             [
              0.2222222222222222,
              "#7201a8"
             ],
             [
              0.3333333333333333,
              "#9c179e"
             ],
             [
              0.4444444444444444,
              "#bd3786"
             ],
             [
              0.5555555555555556,
              "#d8576b"
             ],
             [
              0.6666666666666666,
              "#ed7953"
             ],
             [
              0.7777777777777778,
              "#fb9f3a"
             ],
             [
              0.8888888888888888,
              "#fdca26"
             ],
             [
              1,
              "#f0f921"
             ]
            ],
            "type": "histogram2d"
           }
          ],
          "histogram2dcontour": [
           {
            "colorbar": {
             "outlinewidth": 0,
             "ticks": ""
            },
            "colorscale": [
             [
              0,
              "#0d0887"
             ],
             [
              0.1111111111111111,
              "#46039f"
             ],
             [
              0.2222222222222222,
              "#7201a8"
             ],
             [
              0.3333333333333333,
              "#9c179e"
             ],
             [
              0.4444444444444444,
              "#bd3786"
             ],
             [
              0.5555555555555556,
              "#d8576b"
             ],
             [
              0.6666666666666666,
              "#ed7953"
             ],
             [
              0.7777777777777778,
              "#fb9f3a"
             ],
             [
              0.8888888888888888,
              "#fdca26"
             ],
             [
              1,
              "#f0f921"
             ]
            ],
            "type": "histogram2dcontour"
           }
          ],
          "mesh3d": [
           {
            "colorbar": {
             "outlinewidth": 0,
             "ticks": ""
            },
            "type": "mesh3d"
           }
          ],
          "parcoords": [
           {
            "line": {
             "colorbar": {
              "outlinewidth": 0,
              "ticks": ""
             }
            },
            "type": "parcoords"
           }
          ],
          "pie": [
           {
            "automargin": true,
            "type": "pie"
           }
          ],
          "scatter": [
           {
            "hovertemplate": "<b>%{fullData.name}</b><br>x: %{x}<br>y: %{y}<extra></extra>",
            "marker": {
             "line": {
              "color": "#283442"
             },
             "size": 4
            },
            "type": "scatter"
           }
          ],
          "scatter3d": [
           {
            "line": {
             "colorbar": {
              "outlinewidth": 0,
              "ticks": ""
             }
            },
            "marker": {
             "colorbar": {
              "outlinewidth": 0,
              "ticks": ""
             }
            },
            "type": "scatter3d"
           }
          ],
          "scattercarpet": [
           {
            "marker": {
             "colorbar": {
              "outlinewidth": 0,
              "ticks": ""
             }
            },
            "type": "scattercarpet"
           }
          ],
          "scattergeo": [
           {
            "marker": {
             "colorbar": {
              "outlinewidth": 0,
              "ticks": ""
             }
            },
            "type": "scattergeo"
           }
          ],
          "scattergl": [
           {
            "marker": {
             "line": {
              "color": "#283442"
             }
            },
            "type": "scattergl"
           }
          ],
          "scattermapbox": [
           {
            "marker": {
             "colorbar": {
              "outlinewidth": 0,
              "ticks": ""
             }
            },
            "type": "scattermapbox"
           }
          ],
          "scatterpolar": [
           {
            "marker": {
             "colorbar": {
              "outlinewidth": 0,
              "ticks": ""
             }
            },
            "type": "scatterpolar"
           }
          ],
          "scatterpolargl": [
           {
            "marker": {
             "colorbar": {
              "outlinewidth": 0,
              "ticks": ""
             }
            },
            "type": "scatterpolargl"
           }
          ],
          "scatterternary": [
           {
            "marker": {
             "colorbar": {
              "outlinewidth": 0,
              "ticks": ""
             }
            },
            "type": "scatterternary"
           }
          ],
          "surface": [
           {
            "colorbar": {
             "outlinewidth": 0,
             "ticks": ""
            },
            "colorscale": [
             [
              0,
              "#0d0887"
             ],
             [
              0.1111111111111111,
              "#46039f"
             ],
             [
              0.2222222222222222,
              "#7201a8"
             ],
             [
              0.3333333333333333,
              "#9c179e"
             ],
             [
              0.4444444444444444,
              "#bd3786"
             ],
             [
              0.5555555555555556,
              "#d8576b"
             ],
             [
              0.6666666666666666,
              "#ed7953"
             ],
             [
              0.7777777777777778,
              "#fb9f3a"
             ],
             [
              0.8888888888888888,
              "#fdca26"
             ],
             [
              1,
              "#f0f921"
             ]
            ],
            "type": "surface"
           }
          ],
          "table": [
           {
            "cells": {
             "fill": {
              "color": "#506784"
             },
             "line": {
              "color": "rgba(0,0,0,0)"
             }
            },
            "header": {
             "fill": {
              "color": "#2a3f5f"
             },
             "line": {
              "color": "rgba(0,0,0,0)"
             }
            },
            "type": "table"
           }
          ]
         },
         "layout": {
          "annotationdefaults": {
           "arrowcolor": "#f2f5fa",
           "arrowhead": 0,
           "arrowwidth": 0.5,
           "font": {
            "size": 10
           }
          },
          "autotypenumbers": "strict",
          "barmode": "overlay",
          "boxmode": "group",
          "coloraxis": {
           "colorbar": {
            "outlinewidth": 0,
            "ticks": ""
           }
          },
          "colorscale": {
           "diverging": [
            [
             0,
             "#8e0152"
            ],
            [
             0.1,
             "#c51b7d"
            ],
            [
             0.2,
             "#de77ae"
            ],
            [
             0.3,
             "#f1b6da"
            ],
            [
             0.4,
             "#fde0ef"
            ],
            [
             0.5,
             "#f7f7f7"
            ],
            [
             0.6,
             "#e6f5d0"
            ],
            [
             0.7,
             "#b8e186"
            ],
            [
             0.8,
             "#7fbc41"
            ],
            [
             0.9,
             "#4d9221"
            ],
            [
             1,
             "#276419"
            ]
           ],
           "sequential": [
            [
             0,
             "#0d0887"
            ],
            [
             0.1111111111111111,
             "#46039f"
            ],
            [
             0.2222222222222222,
             "#7201a8"
            ],
            [
             0.3333333333333333,
             "#9c179e"
            ],
            [
             0.4444444444444444,
             "#bd3786"
            ],
            [
             0.5555555555555556,
             "#d8576b"
            ],
            [
             0.6666666666666666,
             "#ed7953"
            ],
            [
             0.7777777777777778,
             "#fb9f3a"
            ],
            [
             0.8888888888888888,
             "#fdca26"
            ],
            [
             1,
             "#f0f921"
            ]
           ],
           "sequentialminus": [
            [
             0,
             "#0d0887"
            ],
            [
             0.1111111111111111,
             "#46039f"
            ],
            [
             0.2222222222222222,
             "#7201a8"
            ],
            [
             0.3333333333333333,
             "#9c179e"
            ],
            [
             0.4444444444444444,
             "#bd3786"
            ],
            [
             0.5555555555555556,
             "#d8576b"
            ],
            [
             0.6666666666666666,
             "#ed7953"
            ],
            [
             0.7777777777777778,
             "#fb9f3a"
            ],
            [
             0.8888888888888888,
             "#fdca26"
            ],
            [
             1,
             "#f0f921"
            ]
           ]
          },
          "colorway": [
           "#ab63fa",
           "#30D5DB",
           "#B6E880",
           "#FF9C12",
           "#FF6692",
           "#9299FD",
           "#73DBB6",
           "#FFE989",
           "#FFA15A",
           "#FF85FF",
           "#DEBFFF",
           "#636efa",
           "#00cc96",
           "#FECB52",
           "#CF4915",
           "#FF97FF",
           "#C592FD",
           "#19d3f3",
           "#3BDB5F",
           "#FFBD8E",
           "#EF553B",
           "#FFCCFF"
          ],
          "font": {
           "color": "#f2f5fa",
           "family": "\"SF Pro Rounded\", \"Mona Sans\", \"CMU Serif\", \"Monaspace Neon\", \"Open Sans\", verdana, arial, sans-serif",
           "weight": 200
          },
          "geo": {
           "bgcolor": "rgba(0,0,0,0)",
           "lakecolor": "rgba(0,0,0,0)",
           "landcolor": "rgba(0,0,0,0)",
           "showlakes": true,
           "showland": true,
           "subunitcolor": "#506784"
          },
          "hoverlabel": {
           "align": "left"
          },
          "hovermode": "closest",
          "legend": {
           "bgcolor": "rgba(0,0,0,0)",
           "font": {
            "size": 10
           },
           "grouptitlefont": {
            "size": 12,
            "weight": 200
           },
           "itemsizing": "trace",
           "itemwidth": 30,
           "orientation": "h",
           "y": 1,
           "yanchor": "bottom",
           "yref": "paper"
          },
          "mapbox": {
           "style": "dark"
          },
          "margin": {
           "b": 50,
           "l": 50,
           "r": 10,
           "t": 75
          },
          "modebar": {
           "add": [],
           "bgcolor": "rgba(0,0,0,0)",
           "remove": [
            "zoomin",
            "zoomout",
            "lasso",
            "autoscale",
            "select"
           ]
          },
          "paper_bgcolor": "rgba(0,0,0,0)",
          "plot_bgcolor": "rgba(0,0,0,0)",
          "polar": {
           "angularaxis": {
            "gridcolor": "#506784",
            "linecolor": "#506784",
            "ticks": ""
           },
           "bgcolor": "rgba(0,0,0,0)",
           "radialaxis": {
            "gridcolor": "#506784",
            "linecolor": "#506784",
            "ticks": ""
           }
          },
          "scene": {
           "aspectmode": "auto",
           "bgcolor": "rgba(0,0,0,0)",
           "xaxis": {
            "backgroundcolor": "rgba(0,0,0,0)",
            "gridcolor": "#506784",
            "gridwidth": 2,
            "linecolor": "#506784",
            "mirror": true,
            "showbackground": true,
            "showline": true,
            "showspikes": false,
            "ticks": "",
            "zeroline": true,
            "zerolinecolor": "#C8D4E3"
           },
           "yaxis": {
            "backgroundcolor": "rgba(0,0,0,0)",
            "gridcolor": "#506784",
            "gridwidth": 2,
            "linecolor": "#506784",
            "mirror": true,
            "showbackground": true,
            "showline": true,
            "showspikes": false,
            "ticks": "",
            "zeroline": true,
            "zerolinecolor": "#C8D4E3"
           },
           "zaxis": {
            "backgroundcolor": "rgba(0,0,0,0)",
            "gridcolor": "#506784",
            "gridwidth": 2,
            "linecolor": "#506784",
            "mirror": true,
            "showbackground": true,
            "showline": true,
            "ticks": "",
            "zeroline": true,
            "zerolinecolor": "#C8D4E3"
           }
          },
          "shapedefaults": {
           "line": {
            "color": "#f2f5fa"
           }
          },
          "showlegend": true,
          "sliderdefaults": {
           "bgcolor": "#C8D4E3",
           "bordercolor": "rgba(0,0,0,0)",
           "borderwidth": 1,
           "tickwidth": 0
          },
          "ternary": {
           "aaxis": {
            "gridcolor": "#506784",
            "linecolor": "#506784",
            "ticks": ""
           },
           "baxis": {
            "gridcolor": "#506784",
            "linecolor": "#506784",
            "ticks": ""
           },
           "bgcolor": "rgba(0,0,0,0)",
           "caxis": {
            "gridcolor": "#506784",
            "linecolor": "#506784",
            "ticks": ""
           }
          },
          "title": {
           "font": {
            "size": 28
           },
           "pad": {
            "b": 40
           },
           "x": 0.5,
           "y": 1,
           "yanchor": "bottom",
           "yref": "paper"
          },
          "updatemenudefaults": {
           "bgcolor": "rgba(33, 67, 96, 0.4)",
           "bordercolor": "rgba(0,0,0,0)",
           "borderwidth": 0,
           "buttons": [
            {
             "args": [
              "type",
              "mesh3d"
             ],
             "label": "3D Bar",
             "method": "restyle",
             "name": "bar3d"
            }
           ],
           "direction": "left",
           "font": {
            "size": 11,
            "weight": 200
           },
           "showactive": true,
           "type": "buttons",
           "x": 1,
           "xanchor": "right",
           "yanchor": "bottom"
          },
          "xaxis": {
           "gridcolor": "#283442",
           "gridwidth": 2,
           "linecolor": "#506784",
           "minor": {
            "gridcolor": "rgba(40, 52, 66, 0.4)",
            "showgrid": true
           },
           "mirror": true,
           "showgrid": true,
           "showline": true,
           "tickfont": {
            "size": 12
           },
           "ticklabelmode": "period",
           "title": {
            "font": {
             "size": 16
            },
            "standoff": 10
           },
           "zeroline": true,
           "zerolinecolor": "#283442",
           "zerolinewidth": 2
          },
          "yaxis": {
           "gridcolor": "#283442",
           "gridwidth": 2,
           "linecolor": "#506784",
           "minor": {
            "gridcolor": "rgba(40, 52, 66, 0.4)",
            "showgrid": true
           },
           "mirror": true,
           "showgrid": true,
           "showline": true,
           "tickfont": {
            "size": 12
           },
           "ticklabelmode": "period",
           "title": {
            "font": {
             "size": 16
            },
            "standoff": 10
           },
           "zeroline": true,
           "zerolinecolor": "#283442",
           "zerolinewidth": 2
          }
         }
        },
        "title": {
         "text": ""
        },
        "xaxis": {
         "anchor": "y",
         "domain": [
          0,
          0.297
         ],
         "gridcolor": "#283442",
         "gridwidth": 2,
         "linecolor": "#506784",
         "matches": "x",
         "minor": {
          "gridcolor": "rgba(40, 52, 66, 0.4)",
          "showgrid": true
         },
         "mirror": true,
         "showgrid": true,
         "showline": true,
         "showticklabels": false,
         "tickfont": {
          "size": 12
         },
         "ticklabelmode": "period",
         "title": {
          "font": {
           "size": 16
          },
          "standoff": 10
         },
         "zeroline": true,
         "zerolinecolor": "#283442",
         "zerolinewidth": 2
        },
        "xaxis2": {
         "anchor": "y2",
         "domain": [
          0.303,
          0.6
         ],
         "gridcolor": "#283442",
         "gridwidth": 2,
         "linecolor": "#506784",
         "matches": "x",
         "minor": {
          "gridcolor": "rgba(40, 52, 66, 0.4)",
          "showgrid": true
         },
         "mirror": true,
         "showgrid": true,
         "showline": true,
         "showticklabels": false,
         "tickfont": {
          "size": 12
         },
         "ticklabelmode": "period",
         "title": {
          "font": {
           "size": 16
          },
          "standoff": 10
         },
         "zeroline": true,
         "zerolinecolor": "#283442",
         "zerolinewidth": 2
        },
        "xaxis3": {
         "anchor": "y3",
         "domain": [
          0.303,
          0.6
         ],
         "gridcolor": "#283442",
         "gridwidth": 2,
         "linecolor": "#506784",
         "matches": "x",
         "minor": {
          "gridcolor": "rgba(40, 52, 66, 0.4)",
          "showgrid": true
         },
         "mirror": true,
         "showgrid": true,
         "showline": true,
         "showticklabels": true,
         "tickfont": {
          "size": 12
         },
         "ticklabelmode": "period",
         "title": {
          "font": {
           "size": 16
          },
          "standoff": 10
         },
         "zeroline": true,
         "zerolinecolor": "#283442",
         "zerolinewidth": 2
        },
        "yaxis": {
         "anchor": "x",
         "domain": [
          0.525,
          1
         ],
         "gridcolor": "#283442",
         "gridwidth": 2,
         "linecolor": "#506784",
         "matches": "y",
         "minor": {
          "gridcolor": "rgba(40, 52, 66, 0.4)",
          "showgrid": true
         },
         "mirror": true,
         "showgrid": true,
         "showline": true,
         "showticklabels": true,
         "tickfont": {
          "size": 12
         },
         "ticklabelmode": "period",
         "title": {
          "font": {
           "size": 16
          },
          "standoff": 10
         },
         "zeroline": true,
         "zerolinecolor": "#283442",
         "zerolinewidth": 2
        },
        "yaxis10": {
         "anchor": "free",
         "domain": [
          0.525,
          1
         ],
         "gridcolor": "#283442",
         "gridwidth": 2,
         "linecolor": "#506784",
         "matches": "y9",
         "minor": {
          "showgrid": false
         },
         "mirror": true,
         "overlaying": "y2",
         "position": 0.7,
         "showgrid": false,
         "showline": true,
         "showticklabels": false,
         "side": "right",
         "tickfont": {
          "size": 12
         },
         "ticklabelmode": "period",
         "tickmode": "auto",
         "title": {
          "font": {
           "size": 16
          },
          "standoff": 10
         },
         "zeroline": true,
         "zerolinecolor": "#283442",
         "zerolinewidth": 2
        },
        "yaxis11": {
         "anchor": "free",
         "domain": [
          0,
          0.475
         ],
         "gridcolor": "#283442",
         "gridwidth": 2,
         "linecolor": "#506784",
         "matches": "y9",
         "minor": {
          "showgrid": false
         },
         "mirror": true,
         "overlaying": "y3",
         "position": 0.7,
         "showgrid": false,
         "showline": true,
         "showticklabels": false,
         "side": "right",
         "tickfont": {
          "size": 12
         },
         "ticklabelmode": "period",
         "tickmode": "auto",
         "title": {
          "font": {
           "size": 16
          },
          "standoff": 10
         },
         "zeroline": true,
         "zerolinecolor": "#283442",
         "zerolinewidth": 2
        },
        "yaxis13": {
         "anchor": "free",
         "domain": [
          0.525,
          1
         ],
         "gridcolor": "#283442",
         "gridwidth": 2,
         "linecolor": "#506784",
         "matches": "y13",
         "minor": {
          "showgrid": false
         },
         "mirror": true,
         "overlaying": "y",
         "position": 0.8,
         "showgrid": false,
         "showline": true,
         "showticklabels": true,
         "side": "right",
         "tickfont": {
          "size": 12
         },
         "ticklabelmode": "period",
         "tickmode": "auto",
         "title": {
          "font": {
           "size": 16
          },
          "standoff": 10
         },
         "zeroline": true,
         "zerolinecolor": "#283442",
         "zerolinewidth": 2
        },
        "yaxis14": {
         "anchor": "free",
         "domain": [
          0.525,
          1
         ],
         "gridcolor": "#283442",
         "gridwidth": 2,
         "linecolor": "#506784",
         "matches": "y13",
         "minor": {
          "showgrid": false
         },
         "mirror": true,
         "overlaying": "y2",
         "position": 0.8,
         "showgrid": false,
         "showline": true,
         "showticklabels": false,
         "side": "right",
         "tickfont": {
          "size": 12
         },
         "ticklabelmode": "period",
         "tickmode": "auto",
         "title": {
          "font": {
           "size": 16
          },
          "standoff": 10
         },
         "zeroline": true,
         "zerolinecolor": "#283442",
         "zerolinewidth": 2
        },
        "yaxis15": {
         "anchor": "free",
         "domain": [
          0,
          0.475
         ],
         "gridcolor": "#283442",
         "gridwidth": 2,
         "linecolor": "#506784",
         "matches": "y13",
         "minor": {
          "showgrid": false
         },
         "mirror": true,
         "overlaying": "y3",
         "position": 0.8,
         "showgrid": false,
         "showline": true,
         "showticklabels": false,
         "side": "right",
         "tickfont": {
          "size": 12
         },
         "ticklabelmode": "period",
         "tickmode": "auto",
         "title": {
          "font": {
           "size": 16
          },
          "standoff": 10
         },
         "zeroline": true,
         "zerolinecolor": "#283442",
         "zerolinewidth": 2
        },
        "yaxis17": {
         "anchor": "free",
         "domain": [
          0.525,
          1
         ],
         "gridcolor": "#283442",
         "gridwidth": 2,
         "linecolor": "#506784",
         "matches": "y17",
         "minor": {
          "showgrid": false
         },
         "mirror": true,
         "overlaying": "y",
         "position": 0.9,
         "showgrid": false,
         "showline": true,
         "showticklabels": true,
         "side": "right",
         "tickfont": {
          "size": 12
         },
         "ticklabelmode": "period",
         "tickmode": "auto",
         "title": {
          "font": {
           "size": 16
          },
          "standoff": 10
         },
         "zeroline": true,
         "zerolinecolor": "#283442",
         "zerolinewidth": 2
        },
        "yaxis18": {
         "anchor": "free",
         "domain": [
          0.525,
          1
         ],
         "gridcolor": "#283442",
         "gridwidth": 2,
         "linecolor": "#506784",
         "matches": "y17",
         "minor": {
          "showgrid": false
         },
         "mirror": true,
         "overlaying": "y2",
         "position": 0.9,
         "showgrid": false,
         "showline": true,
         "showticklabels": false,
         "side": "right",
         "tickfont": {
          "size": 12
         },
         "ticklabelmode": "period",
         "tickmode": "auto",
         "title": {
          "font": {
           "size": 16
          },
          "standoff": 10
         },
         "zeroline": true,
         "zerolinecolor": "#283442",
         "zerolinewidth": 2
        },
        "yaxis19": {
         "anchor": "free",
         "domain": [
          0,
          0.475
         ],
         "gridcolor": "#283442",
         "gridwidth": 2,
         "linecolor": "#506784",
         "matches": "y17",
         "minor": {
          "showgrid": false
         },
         "mirror": true,
         "overlaying": "y3",
         "position": 0.9,
         "showgrid": false,
         "showline": true,
         "showticklabels": false,
         "side": "right",
         "tickfont": {
          "size": 12
         },
         "ticklabelmode": "period",
         "tickmode": "auto",
         "title": {
          "font": {
           "size": 16
          },
          "standoff": 10
         },
         "zeroline": true,
         "zerolinecolor": "#283442",
         "zerolinewidth": 2
        },
        "yaxis2": {
         "anchor": "x2",
         "domain": [
          0.525,
          1
         ],
         "gridcolor": "#283442",
         "gridwidth": 2,
         "linecolor": "#506784",
         "matches": "y",
         "minor": {
          "gridcolor": "rgba(40, 52, 66, 0.4)",
          "showgrid": true
         },
         "mirror": true,
         "showgrid": true,
         "showline": true,
         "showticklabels": false,
         "tickfont": {
          "size": 12
         },
         "ticklabelmode": "period",
         "title": {
          "font": {
           "size": 16
          },
          "standoff": 10
         },
         "zeroline": true,
         "zerolinecolor": "#283442",
         "zerolinewidth": 2
        },
        "yaxis21": {
         "anchor": "free",
         "domain": [
          0.525,
          1
         ],
         "gridcolor": "#283442",
         "gridwidth": 2,
         "linecolor": "#506784",
         "matches": "y21",
         "minor": {
          "showgrid": false
         },
         "mirror": true,
         "overlaying": "y",
         "position": 1,
         "showgrid": false,
         "showline": true,
         "showticklabels": true,
         "side": "right",
         "tickfont": {
          "size": 12
         },
         "ticklabelmode": "period",
         "tickmode": "auto",
         "title": {
          "font": {
           "size": 16
          },
          "standoff": 10
         },
         "zeroline": true,
         "zerolinecolor": "#283442",
         "zerolinewidth": 2
        },
        "yaxis22": {
         "anchor": "free",
         "domain": [
          0.525,
          1
         ],
         "gridcolor": "#283442",
         "gridwidth": 2,
         "linecolor": "#506784",
         "matches": "y21",
         "minor": {
          "showgrid": false
         },
         "mirror": true,
         "overlaying": "y2",
         "position": 1,
         "showgrid": false,
         "showline": true,
         "showticklabels": false,
         "side": "right",
         "tickfont": {
          "size": 12
         },
         "ticklabelmode": "period",
         "tickmode": "auto",
         "title": {
          "font": {
           "size": 16
          },
          "standoff": 10
         },
         "zeroline": true,
         "zerolinecolor": "#283442",
         "zerolinewidth": 2
        },
        "yaxis23": {
         "anchor": "free",
         "domain": [
          0,
          0.475
         ],
         "gridcolor": "#283442",
         "gridwidth": 2,
         "linecolor": "#506784",
         "matches": "y21",
         "minor": {
          "showgrid": false
         },
         "mirror": true,
         "overlaying": "y3",
         "position": 1,
         "showgrid": false,
         "showline": true,
         "showticklabels": false,
         "side": "right",
         "tickfont": {
          "size": 12
         },
         "ticklabelmode": "period",
         "tickmode": "auto",
         "title": {
          "font": {
           "size": 16
          },
          "standoff": 10
         },
         "zeroline": true,
         "zerolinecolor": "#283442",
         "zerolinewidth": 2
        },
        "yaxis3": {
         "anchor": "x3",
         "domain": [
          0,
          0.475
         ],
         "gridcolor": "#283442",
         "gridwidth": 2,
         "linecolor": "#506784",
         "matches": "y",
         "minor": {
          "gridcolor": "rgba(40, 52, 66, 0.4)",
          "showgrid": true
         },
         "mirror": true,
         "showgrid": true,
         "showline": true,
         "showticklabels": false,
         "tickfont": {
          "size": 12
         },
         "ticklabelmode": "period",
         "title": {
          "font": {
           "size": 16
          },
          "standoff": 10
         },
         "zeroline": true,
         "zerolinecolor": "#283442",
         "zerolinewidth": 2
        },
        "yaxis5": {
         "anchor": "free",
         "domain": [
          0.525,
          1
         ],
         "gridcolor": "#283442",
         "gridwidth": 2,
         "linecolor": "#506784",
         "matches": "y5",
         "minor": {
          "showgrid": false
         },
         "mirror": true,
         "overlaying": "y",
         "position": 0.6,
         "showgrid": false,
         "showline": true,
         "showticklabels": true,
         "side": "right",
         "tickfont": {
          "size": 12
         },
         "ticklabelmode": "period",
         "tickmode": "auto",
         "title": {
          "font": {
           "size": 16
          },
          "standoff": 10
         },
         "zeroline": true,
         "zerolinecolor": "#283442",
         "zerolinewidth": 2
        },
        "yaxis6": {
         "anchor": "free",
         "domain": [
          0.525,
          1
         ],
         "gridcolor": "#283442",
         "gridwidth": 2,
         "linecolor": "#506784",
         "matches": "y5",
         "minor": {
          "showgrid": false
         },
         "mirror": true,
         "overlaying": "y2",
         "position": 0.6,
         "showgrid": false,
         "showline": true,
         "showticklabels": false,
         "side": "right",
         "tickfont": {
          "size": 12
         },
         "ticklabelmode": "period",
         "tickmode": "auto",
         "title": {
          "font": {
           "size": 16
          },
          "standoff": 10
         },
         "zeroline": true,
         "zerolinecolor": "#283442",
         "zerolinewidth": 2
        },
        "yaxis7": {
         "anchor": "free",
         "domain": [
          0,
          0.475
         ],
         "gridcolor": "#283442",
         "gridwidth": 2,
         "linecolor": "#506784",
         "matches": "y5",
         "minor": {
          "showgrid": false
         },
         "mirror": true,
         "overlaying": "y3",
         "position": 0.6,
         "showgrid": false,
         "showline": true,
         "showticklabels": false,
         "side": "right",
         "tickfont": {
          "size": 12
         },
         "ticklabelmode": "period",
         "tickmode": "auto",
         "title": {
          "font": {
           "size": 16
          },
          "standoff": 10
         },
         "zeroline": true,
         "zerolinecolor": "#283442",
         "zerolinewidth": 2
        },
        "yaxis9": {
         "anchor": "free",
         "domain": [
          0.525,
          1
         ],
         "gridcolor": "#283442",
         "gridwidth": 2,
         "linecolor": "#506784",
         "matches": "y9",
         "minor": {
          "showgrid": false
         },
         "mirror": true,
         "overlaying": "y",
         "position": 0.7,
         "showgrid": false,
         "showline": true,
         "showticklabels": true,
         "side": "right",
         "tickfont": {
          "size": 12
         },
         "ticklabelmode": "period",
         "tickmode": "auto",
         "title": {
          "font": {
           "size": 16
          },
          "standoff": 10
         },
         "zeroline": true,
         "zerolinecolor": "#283442",
         "zerolinewidth": 2
        }
       }
      }
     },
     "metadata": {},
     "output_type": "display_data"
    }
   ],
   "source": [
    "x = np.linspace(-5, 80, 10)\n",
    "y = np.linspace(-5, 60, 10)\n",
    "xGrid, yGrid = np.meshgrid(y, x)\n",
    "z = xGrid**3 + yGrid**3\n",
    "\n",
    "SubPlot(\n",
    "    \"\",\n",
    "    subplot_config=SubPlotConfig(\n",
    "        plots=(\n",
    "            (\n",
    "                PlotConfig(\n",
    "                    yaxes_configs=(\n",
    "                        TracesConfig.from_trace(go.Scatter(x=[1, 2], y=[1, 2])),\n",
    "                        TracesConfig.from_trace(go.Scatter(x=[1, 2], y=[1, 3])),\n",
    "                        TracesConfig.from_trace(go.Scatter(x=[1, 3], y=[1, 3])),\n",
    "                        TracesConfig.from_trace(go.Scatter(x=[1, 3], y=[1, 3])),\n",
    "                        TracesConfig.from_trace(go.Scatter(x=[1, 3], y=[1, 3])),\n",
    "                        TracesConfig.from_trace(go.Scatter(x=[1, 3], y=[1, 3])),\n",
    "                    )\n",
    "                ),\n",
    "                PlotConfig.from_trace(go.Scatter(x=[1, 2], y=[1, 2])),\n",
    "            ),\n",
    "            (\n",
    "                PlotConfig.from_trace(go.Surface(x=x, y=y, z=z, showscale=True)),\n",
    "                PlotConfig.from_trace(go.Scatter(x=[1, 2], y=[1, 2])),\n",
    "            ),\n",
    "        )\n",
    "    ),\n",
    ")\n"
   ]
  },
  {
   "cell_type": "code",
   "execution_count": 4,
   "id": "da21e195",
   "metadata": {},
   "outputs": [
    {
     "data": {
      "text/html": [
       "<pre style=\"white-space:pre;overflow-x:auto;line-height:normal;font-family:Menlo,'DejaVu Sans Mono',consolas,'Courier New',monospace\"></pre>\n"
      ],
      "text/plain": []
     },
     "metadata": {},
     "output_type": "display_data"
    },
    {
     "data": {
      "text/html": [
       "<style>\n",
       "            .cell-output-ipywidget-background {\n",
       "                background-color: transparent !important;\n",
       "            }\n",
       "            .jp-OutputArea-output {\n",
       "                background-color: transparent;\n",
       "            }\n",
       "            .updatemenu-button > rect.updatemenu-item-rect[style*=\"fill: rgb(244, 250, 255)\"],\n",
       "            .updatemenu-header > rect.updatemenu-item-rect[style*=\"fill: rgb(244, 250, 255)\"],\n",
       "            .updatemenu-dropdown-button > rect.updatemenu-item-rect[style*=\"fill: rgb(244, 250, 255)\"] {\n",
       "                fill: rgba(80, 103, 132, 0.4) !important;\n",
       "            }\n",
       "            .updatemenu-button:hover > rect.updatemenu-item-rect[style*=\"fill: rgb(244, 250, 255)\"],\n",
       "            .updatemenu-header:hover > rect.updatemenu-item-rect[style*=\"fill: rgb(244, 250, 255)\"],\n",
       "            .updatemenu-dropdown-button:hover > rect.updatemenu-item-rect[style*=\"fill: rgb(244, 250, 255)\"] {\n",
       "                fill: rgba(80, 103, 132, 0.6) !important;\n",
       "            }\n",
       "        </style>"
      ],
      "text/plain": [
       "\u001b[1m<\u001b[0m\u001b[1;95mIPython.core.display.HTML\u001b[0m\u001b[39m object\u001b[0m\u001b[1m>\u001b[0m"
      ]
     },
     "metadata": {},
     "output_type": "display_data"
    },
    {
     "data": {
      "application/vnd.plotly.v1+json": {
       "config": {
        "plotlyServerURL": "https://plot.ly"
       },
       "data": [
        {
         "bingroup": "1",
         "legendgroup": "a",
         "marker": {
          "line": {
           "color": "#ab63fa"
          }
         },
         "nbinsx": 100,
         "type": "histogram",
         "x": {
          "bdata": "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",
          "dtype": "f8"
         },
         "yaxis": "y"
        },
        {
         "bingroup": "1",
         "legendgroup": "1",
         "marker": {
          "line": {
           "color": "#30D5DB"
          }
         },
         "type": "histogram",
         "x": {
          "bdata": "FvbPcK9e/T/g8WkGUpX5P9VtbMpzb/A/Ip/3tG739z8YQWrL9UMDQBEArBmN6gFA6nVr5lvqAEBJM+t9NewAQB68FMGo1fs/7Dudpj254D/LW47KiAv6Px6mGkfHWAhAQj81KRM3CUCOtFkId2PsPyQN1v/AgOo/v+kUdQFh/j+UBYH0EzMCQFyrDx4GAw5AWdeP8zdBCECgAznc9Db4PwG5zDN46AFAQWWA1SFX/z9eF5ap15/oP53+h+xfpwFAzCwXbIzT5D8gZHD/6BkEQPrhd+H9dABAnE9FgaXu9j+qzW3lOX8BQJPiCoC5SQRAZK0b/MAVA0CzSxGeAWoBQFexPB4eIQNAXbcVs2/bA0CFPDkLaRT6P3mAhQhiV/M//swW+FhQEECi8ikIs5gEQBzqtNZsygRA5V7hIQCSBECtDg5CxdsDQNOTfWVPpgJAEpgZN+ga9T/sO8h/XEICQN6ssz2lygNA4yCfCBGHBUC+iK7/XskHQMJZ3YBw4QBAcGQYkRKB2T/8ggOO480DQKfEUHPdCv4//BknCvelCkAn3zpjDPkBQGmRF1qno/w/EuNpM2deBEBY88gvuKD7P3pYR5w7bO4/IJfR7wiT9D8xOUZochsCQKC+NqD5JQ1AaJy9QKR/CkDa4eZktE3jP+p7RU58VQZAZO0WR4qEBkCqC6JI5MP1P+DWuQSnJARAXOc4NWE3CUDEbjY3Qun3P8c59V1OUfI/yuotumAU9z8RlwR6shn+P5LiiB9GuvY/CAsHqMKV8z8m43KZZhLqPxqtLR+XYgdAkKkjoBwhBkAB/eS+2KYCQJaqY7FXTfU/7vgjoMNW+j+6DazsXhvlP1Nl3TxDFABAIDv0ZiIsub90yLRBt0sEQI6VSM7Ktus/YqRNUm2x8T9ka9BQk3sIQEgphTjnxPs/B6rKwWeABEB4o+QTRQIBQALrG9Fj1+w/kCqCYpML8j8Nhv/CwwMMQGeksnjkeP0/3qBw7yVrCUAHwj9ube4DQGqQuxJAXBFA2wIo+OZZ/D9tuKKP+2MDQIjWDMRBl/g/Ehdv10UdA0A=",
          "dtype": "f8"
         },
         "yaxis": "y"
        },
        {
         "bingroup": "1",
         "legendgroup": "2",
         "marker": {
          "line": {
           "color": "#B6E880"
          }
         },
         "type": "histogram",
         "x": {
          "bdata": "2GQhhYiCDEBn6o0HksUKQC51CcSBrhNAH4A8iQDtEECxluycV2ELQBZyLJuqwBFAu4NLQYlbD0D4KH8vxooMQBU7T/vFRQ9AKK5n7YhYDECJ4AkDy0kOQHKRoCElYw9A1rWmTQCXD0ANXA1XnIAKQL/E1VLdLA5AD4pZ+j3VD0Dok/V9leULQDNZW8/guhFAo2wNXSorDkBG72FFGIQOQCYY0ikVThFAzvfznQJjDkBwbBBPgaIOQIknGqreYApAls75iOGODkAo3BTaAgELQIIrtAkDWRFAdEVf7jBpD0AbiSRltwsQQEqyybmCvhBAxeTdvpWGD0CZK7wTTl8OQEXMOY9WZhFAD0c9Ash6E0A1kbgdvsEPQJmCJJUmIgxAYJzf38/iDUC3guAF7+YQQM4zh/0yVRJAdea9Fe7qEEBXHpwWiJMQQHdit63YFQ1AITXBFACGEEDb1ePPKgEPQHEnrN/WpQ1AZHqTZrZMDUDJTdXBvcoJQIC3gRUb1g5AHThZzQYQEkBKNsxugikTQAc1D0cIsQhATBduy9QqEkDYa7c7D8sJQOTy9k12GBNALMtYv2syEECm59fcMOARQGNvrsV9jglAYi+kzjPGDkD6vPcgPA8PQC7+YW9ZqAlA77wqOd4aDkDyODvGM5kQQMEp/n9mkRJAHgMUZF0PEECLuB3K7GcMQHCymWpSXQ9ASl4jy4B5DkDig6F6Yr0MQNWBXjiIdhBA5hmPAG4yCUCm7k+N9PERQJaXrN+rJw5A6iQ248J+D0BMrbIxSDYKQO1Ktwl5uRBAuOBc0MyRCkD1MD2iLPMPQEb+C7v0vw9A5BCCtcPGDUAfwtT/NnARQGCKk30vsAtAnEGtliUJEEBGevmq30EQQJHXUDWE+Q5ADHhiiBT0CkDc2+TrR9ISQFD+IPncEA1AQ68CZWP8EEDgqh7fFUsTQGIKGoqQHxFAHE+8oFeKEEAns/tTsTUPQNT8gJqSFQtAJPL1maa/EEDbyc1TDo8LQHLS5nAQZA9AEt4YBriJEUA2PFF7IWYQQKNgx7C1QQ5AThe6VzqsDkA=",
          "dtype": "f8"
         },
         "yaxis": "y"
        },
        {
         "bingroup": "1",
         "legendgroup": "3",
         "marker": {
          "line": {
           "color": "#FF9C12"
          }
         },
         "type": "histogram",
         "x": {
          "bdata": "PcGzzr4BDkBzj26TriMOQN8a4kViSg9AV4sEyVILDkByO/q5KdsMQKAoiLGYfQ9AVhwIod+XEUA/vc3VO+oOQKipYkSiIw5ApojpL2ZwD0B1YFDp76URQN0AkXKmUxBAa5u+KrmWEEDxGVaiEwkQQD3nRwOaWxBA12SpGKWMEUCntxaE1P8NQCOd5WIDNRBAiZQEFc+PDkDg8ERiSToPQErnz+PAtxBAO1r0qXuXEEBKr3IvhRwQQE25obleWBBAEID4Tka/EED+rSlWHRMOQBd5J/goHg5ARUBqSgdSD0AEe4Z6FsMQQKfW8fIb0g5AXy4WP7XIDkCRAOoUDJIQQEQT+bQkWQ9AqYR2WO0OEUDPUhDK3WEQQAgKwnV01A1Au3f7b3a6DkAUnKMy6iwQQAXvFhM7YxFATFW0r5S6EEBRCqMHiBQQQJVCcZc+ug9AivYJTFmAEEC23lPIdL0NQJm430OY2Q5AtNQeiqdpDkDeTFsqlCAQQL0wbU7rPg9AOJIl1L+kEEDYGibFiIEQQA==",
          "dtype": "f8"
         },
         "yaxis": "y"
        },
        {
         "legendgroup": "a",
         "line": {
          "color": "#ab63fa",
          "width": 0.8
         },
         "meta": "line",
         "mode": "lines",
         "name": "trace 0 KDE",
         "opacity": 0.9,
         "showlegend": false,
         "text": [
          "",
          "",
          "",
          "",
          "",
          "",
          "",
          "",
          "",
          "",
          "",
          "",
          "",
          "",
          "",
          "",
          "",
          "",
          "",
          "",
          "",
          "",
          "",
          "",
          "",
          "",
          "",
          "",
          "",
          "",
          "",
          "",
          "",
          "",
          "",
          "",
          "",
          "",
          "",
          "",
          "",
          "",
          "",
          "",
          "",
          "",
          "",
          "",
          "",
          "",
          "",
          "",
          "",
          "",
          "",
          "",
          "",
          "",
          "",
          "",
          "",
          "",
          "",
          "",
          "",
          "",
          "",
          "",
          "",
          "",
          "",
          "",
          "",
          "",
          "",
          "",
          "",
          "",
          "",
          "",
          "",
          "",
          "",
          "",
          "",
          "",
          "",
          "",
          "",
          "",
          "",
          "",
          "",
          "",
          "",
          "",
          "",
          "",
          "",
          "",
          "",
          "",
          "",
          "",
          "",
          "",
          "",
          "",
          "",
          "",
          "",
          "",
          "",
          "",
          "",
          "",
          "",
          "",
          "",
          "",
          "",
          "",
          "",
          "",
          "",
          "",
          "",
          "",
          "",
          "",
          "",
          "",
          "",
          "",
          "",
          "",
          "",
          "",
          "",
          "",
          "",
          "",
          "",
          "",
          "",
          "",
          "",
          "",
          "",
          "",
          "",
          "",
          "",
          "",
          "",
          "",
          "",
          "",
          "",
          "",
          "",
          "",
          "",
          "",
          "",
          "",
          "",
          "",
          "",
          "",
          "",
          "",
          "",
          "",
          "",
          "",
          "",
          "",
          "",
          "",
          "",
          "",
          "",
          "",
          "",
          "",
          "",
          "",
          "",
          "",
          "",
          "",
          "",
          "",
          "",
          "",
          "",
          "",
          "",
          "",
          "",
          "",
          "",
          "",
          "",
          "",
          "",
          "",
          "",
          "",
          "",
          "",
          "",
          "",
          "",
          "",
          "",
          "",
          "",
          "",
          "",
          "",
          "",
          "",
          "",
          "",
          "",
          "",
          "",
          "",
          "",
          "",
          "",
          "",
          "",
          "",
          "",
          "",
          "",
          "",
          "",
          "",
          "",
          "",
          "",
          "",
          "",
          "",
          "",
          "",
          "",
          "",
          "",
          "",
          "",
          "",
          "",
          "",
          "",
          "",
          "",
          "",
          "",
          "",
          "",
          "",
          "",
          "",
          "",
          "",
          "",
          "",
          "",
          "",
          "",
          "",
          "",
          "",
          "",
          "",
          "",
          "",
          "",
          "",
          "",
          "",
          "",
          "",
          "",
          "",
          "",
          "",
          "",
          "",
          "",
          "",
          "",
          "",
          "",
          "",
          "",
          "",
          "",
          "",
          "",
          "",
          "",
          "",
          "",
          "",
          "",
          "",
          "",
          "",
          "",
          "",
          "",
          "",
          "",
          "",
          "",
          "",
          "",
          "",
          "",
          "",
          "",
          "",
          "",
          "",
          "",
          "",
          "",
          "",
          "",
          "",
          "",
          "",
          "",
          "",
          "",
          "",
          "",
          "",
          "",
          "",
          "",
          "",
          "",
          "",
          "",
          "",
          "",
          "",
          "",
          "",
          "",
          "",
          "",
          "",
          "",
          "",
          "",
          "",
          "",
          "",
          "",
          "",
          "",
          "",
          "",
          "",
          "",
          "",
          "",
          "",
          "",
          "",
          "",
          "",
          "",
          "",
          "",
          "",
          "",
          "",
          "",
          "",
          "",
          "",
          "",
          "",
          "",
          "",
          "",
          "",
          "",
          "",
          "",
          "",
          "",
          "",
          "",
          "",
          "",
          "",
          "",
          "",
          "",
          "",
          "",
          "",
          "",
          "",
          "",
          "",
          "",
          "",
          "",
          "",
          "",
          "",
          "",
          "",
          "",
          "",
          "",
          "",
          "",
          "",
          "",
          "",
          "",
          "",
          "",
          "",
          "",
          "",
          "",
          "",
          "",
          "",
          "",
          "",
          "",
          "",
          "",
          "",
          "",
          "",
          "",
          "",
          "",
          "",
          "",
          "",
          "",
          "",
          "",
          "",
          "",
          "",
          "",
          "",
          "",
          "",
          "",
          "",
          "",
          "",
          "",
          "",
          "",
          "",
          "",
          "",
          "",
          "",
          "",
          "",
          "",
          "",
          "",
          "",
          "",
          "",
          "",
          "",
          "",
          "",
          "",
          "",
          "",
          "",
          "",
          "",
          "",
          "",
          "",
          ""
         ],
         "textfont": {
          "color": "#ab63fa"
         },
         "textposition": "middle right",
         "type": "scatter",
         "x": {
          "bdata": "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",
          "dtype": "f8"
         },
         "y": {
          "bdata": "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",
          "dtype": "f8"
         },
         "yaxis": "y"
        },
        {
         "legendgroup": "1",
         "line": {
          "color": "#30D5DB",
          "width": 0.8
         },
         "meta": "line",
         "mode": "lines",
         "name": "trace 1 KDE",
         "opacity": 0.9,
         "showlegend": false,
         "text": [
          "",
          "",
          "",
          "",
          "",
          "",
          "",
          "",
          "",
          "",
          "",
          "",
          "",
          "",
          "",
          "",
          "",
          "",
          "",
          "",
          "",
          "",
          "",
          "",
          "",
          "",
          "",
          "",
          "",
          "",
          "",
          "",
          "",
          "",
          "",
          "",
          "",
          "",
          "",
          "",
          "",
          "",
          "",
          "",
          "",
          "",
          "",
          "",
          "",
          "",
          "",
          "",
          "",
          "",
          "",
          "",
          "",
          "",
          "",
          "",
          "",
          "",
          "",
          "",
          "",
          "",
          "",
          "",
          "",
          "",
          "",
          "",
          "",
          "",
          "",
          "",
          "",
          "",
          "",
          "",
          "",
          "",
          "",
          "",
          "",
          "",
          "",
          "",
          "",
          "",
          "",
          "",
          "",
          "",
          "",
          "",
          "",
          "",
          "",
          "",
          "",
          "",
          "",
          "",
          "",
          "",
          "",
          "",
          "",
          "",
          "",
          "",
          "",
          "",
          "",
          "",
          "",
          "",
          "",
          "",
          "",
          "",
          "",
          "",
          "",
          "",
          "",
          "",
          "",
          "",
          "",
          "",
          "",
          "",
          "",
          "",
          "",
          "",
          "",
          "",
          "",
          "",
          "",
          "",
          "",
          "",
          "",
          "",
          "",
          "",
          "",
          "",
          "",
          "",
          "",
          "",
          "",
          "",
          "",
          "",
          "",
          "",
          "",
          "",
          "",
          "",
          "",
          "",
          "",
          "",
          "",
          "",
          "",
          "",
          "",
          "",
          "",
          "",
          "",
          "",
          "",
          "",
          "",
          "",
          "",
          "",
          "",
          "",
          "",
          "",
          "",
          "",
          "",
          "",
          "",
          "",
          "",
          "",
          "",
          "",
          "",
          "",
          "",
          "",
          "",
          "",
          "",
          "",
          "",
          "",
          "",
          "",
          "",
          "",
          "",
          "",
          "",
          "",
          "",
          "",
          "",
          "",
          "",
          "",
          "",
          "",
          "",
          "",
          "",
          "",
          "",
          "",
          "",
          "",
          "",
          "",
          "",
          "",
          "",
          "",
          "",
          "",
          "",
          "",
          "",
          "",
          "",
          "",
          "",
          "",
          "",
          "",
          "",
          "",
          "",
          "",
          "",
          "",
          "",
          "",
          "",
          "",
          "",
          "",
          "",
          "",
          "",
          "",
          "",
          "",
          "",
          "",
          "",
          "",
          "",
          "",
          "",
          "",
          "",
          "",
          "",
          "",
          "",
          "",
          "",
          "",
          "",
          "",
          "",
          "",
          "",
          "",
          "",
          "",
          "",
          "",
          "",
          "",
          "",
          "",
          "",
          "",
          "",
          "",
          "",
          "",
          "",
          "",
          "",
          "",
          "",
          "",
          "",
          "",
          "",
          "",
          "",
          "",
          "",
          "",
          "",
          "",
          "",
          "",
          "",
          "",
          "",
          "",
          "",
          "",
          "",
          "",
          "",
          "",
          "",
          "",
          "",
          "",
          "",
          "",
          "",
          "",
          "",
          "",
          "",
          "",
          "",
          "",
          "",
          "",
          "",
          "",
          "",
          "",
          "",
          "",
          "",
          "",
          "",
          "",
          "",
          "",
          "",
          "",
          "",
          "",
          "",
          "",
          "",
          "",
          "",
          "",
          "",
          "",
          "",
          "",
          "",
          "",
          "",
          "",
          "",
          "",
          "",
          "",
          "",
          "",
          "",
          "",
          "",
          "",
          "",
          "",
          "",
          "",
          "",
          "",
          "",
          "",
          "",
          "",
          "",
          "",
          "",
          "",
          "",
          "",
          "",
          "",
          "",
          "",
          "",
          "",
          "",
          "",
          "",
          "",
          "",
          "",
          "",
          "",
          "",
          "",
          "",
          "",
          "",
          "",
          "",
          "",
          "",
          "",
          "",
          "",
          "",
          "",
          "",
          "",
          "",
          "",
          "",
          "",
          "",
          "",
          "",
          "",
          "",
          "",
          "",
          "",
          "",
          "",
          "",
          "",
          "",
          "",
          "",
          "",
          "",
          "",
          "",
          "",
          "",
          "",
          "",
          "",
          "",
          "",
          "",
          "",
          "",
          "",
          "",
          "",
          "",
          "",
          "",
          "",
          "",
          "",
          "",
          "",
          "",
          "",
          "",
          "",
          "",
          "",
          "",
          "",
          "",
          "",
          "",
          "",
          "",
          "",
          "",
          "",
          "",
          "",
          "",
          ""
         ],
         "textfont": {
          "color": "#30D5DB"
         },
         "textposition": "middle right",
         "type": "scatter",
         "x": {
          "bdata": "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",
          "dtype": "f8"
         },
         "y": {
          "bdata": "T2yCHFuZlz/z3JsZPjOYP7z36Vll0Zg/oc05YvxzmT+uZsmALxuaP5GTcLQrx5o/efw5kh54mz9/+XwpNi6cP7Pjiuag6Zw/kaIEdI2qnT/zPe+aKnGePzYuoCGnPZ8/tv/N1BgIoD8/z0FGfHSgPz4nF9wU5KA/lOYHRflWoT8mywXVP82hPzy+a3L+RqI/nXcIg0rEoj+UoRTZOEWjP/cRJ6DdyaM/KAI6SkxSpD8pcNR8l96kP5r9av7QbqU/5bYLpAkDpj+sKmg/UZumP2ciUY22N6c/zR63JEfYpz8fdkJmD32oPwaYlWwaJqk//olL/XHTqT/hKcR6HoWqPz0pz9YmO6s/cwRGhpD1qz8+d6R1X7SsP+4Yrv6Vd60/reQu3zQ/rj/xd+MwOwuvP7fJlGKm268/UQI5GTlYsD8TBNlUzMSwPwxywgyJM7E/4zCujGqksT8mtEhDaxeyP3dbtcKEjLI/twzEwa8Dsz+F7dkd5HyzPw1tjd0Y+LM/hhv1M0R1tD9KGaiEW/S0Py8ybmhTdbU/egadsh/4tT/I7x53s3y2P9GfHxEBA7c/NshZKvqKtz9UcADDjxS4P0b3PTqyn7g/dR1CV1EsuT+B1ddSXLq5P9cEe+HBSbo/3MzlPXDauj8obAw0VWy7P8JHfixe/7s/3TIiOHiTvD/AnEMckCi9Pz3n5V6Svr0/s8tSU2tVvj8hZNgmB+2+P4Anq+1Rhb8/4Pbv1xsPwD+N8Dg70lvAP7UPJCzCqMA/sVuXw+H1wD+NUlsuJ0PBPwU5eLOIkME/nJd6uvzdwT8MzpjReSvCP167s7P2eMI/tpUsTmrGwj8xLorGyxPDP8oG6H8SYcM/t88pIDauwz8HF+6ULvvDP7sxOxj0R8Q/FqfhNH+UxD+zr4/KyODEP1CmkRHKLMU/Kpw7nnx4xT88mvhj2sPFP3B1/LfdDsY/fX2VU4FZxj+DshtWwKPGP22Xe0aW7cY/JSJbFP82xz8gutcY93/HP2ym3BZ7yMc/yL8RO4gQyD+9rmIbHFjIPw5zH7Y0n8g/gma3cNDlyD/wYRAW7ivJP6YefNSMcck/22BOO6y2yT/M5xY4TPvJPwiNghNtP8o/QGfnbQ+Dyj/jKoA7NMbKP0hkW8DcCMs/Y4UDjApLyz+pF+V0v4zLP5i0eJP9zcs/tbM2PccOzD9GwFr/Hk/MPy/HfZkHj8w/8uIM+IPOzD/OGaQulw3NP6rnU3JETM0/narYE4+KzT/BHct5esjNP2EZ0RoKBs4/fdLVd0FDzj+lzVAWJIDOP0qponq1vM4/8cuOIvn4zj8T4dh/8jTPP2HlDPOkcM8/wFB4xhOszz/lsFopQufPPwviqZUZEdA/dGwK3HQu0D9qcq1JtEvQP+c0myrZaNA/c/FSs+SF0D+uhEP/16LQP2prcQ+0v9A/fdxLyXnc0D/CebL1KfnQP07aLEDFFdE/svBUNkwy0T8pEHVHv07RPzISWsQea9E/CdxZ32qH0T++QI6so6PRP/r5QyLJv9E/My+dGdvb0T8vwGZP2ffRPzpHH2XDE9I/gYYu4pgv0j8btUs1WUvSP1zjELYDZ9I/J3K5ppeC0j/oXwk2FJ7SPyf3WoF4udI/8jXQlsPU0j/zFKV39O/SP3ClnxoKC9M/8tOabgMm0z9YdChd30DTPzgZR82cW9M/jBcopjp20z97+wHSt5DTP3Ka60ATq9M/GNu760vF0z8yOurWYN/TP7IIbBVR+dM/uVaKyxsT1D8xfKwxwCzUP+wvE5c9RtQ/EySAZJNf1D9BJ8YewXjUP/fXPWnGkdQ/lgkbCKOq1D9GEJ/iVsPUP29DJAXi29Q/kCT/okT01D/LujEYfwzVP1TZ7eqRJNU/NTHjzH081T83PFacQ1TVP3BA/WTka9U/MOCgYGGD1T8+4n33u5rVP4IZZsD1sdU/lpGegBDJ1T8UZnkrDuDVPwnvqeHw9tU/sjJS8LoN1j+m1MjPbiTWP00GFyIPO9Y/s0cusZ5R1j/KFtZsIGjWP975UWiXftY/fKPA1waV1j/FPjUNcqvWPyhGjHXcwdY/RZj9lEnY1j8B0m0Dve7WP95GgWg6Bdc/4kJzd8Ub1z/LkbTqYTLXPxmYVH8TSdc/o5c48N1f1z9JByXxxHbXP0IunSnMjdc/jXydL/ek1z8XXjWCSbzXP/iHBYTG09c/hP2ndXHr1z9XRAdwTQPYP+V0ql5dG9g/rgX8+aMz2D8tW5HBI0zYP/FNefbeZNg/MfiXldd92D+vOBZSD5fYP8Zr64+HsNg/fuuHXkHK2D9w7aZzPeTYP35WTiZ8/tg/qRUDav0Y2T/ChzjKwDPZPwZSAWbFTtk/qQEI7Alq2T9Hm9WWjIXZP1QWbClLodk/g4w67EK92T/9p3CqcNnZPx2Xtq/Q9dk/7H5Oxl4S2j9JE6Q1Fi/aP6+fTsHxS9o/TGmJqOto2j9v6iWm/YXaP573+vAgo9o/6mjTPE7A2j95Zt67fd3aP8D2oiCn+to/Rud3oMEX2z+bnoD2wzTbP+3YLmekUds/X79IxFhu2z+mN3Jx1orbPzyzN2kSp9s/TjCYQgHD2z9ghgs3l97bPyWDASnI+ds/fcXVqocU3D8zsTMGyS7cP8VE5UN/SNw/dQsHNJ1h3D8w3Zp2FXrcP5CXcoTakdw/b3xruN6o3D/qZ/JYFL/cP1CfyKFt1Nw/d44Aztzo3D/MZykiVPzcPyBCoPbFDt0/3wD9wSQg3T8/DZEjYzDdP9qu7e1zP90/oKFnMUpN3T/LZY1G2VndP/uuhdgUZd0/3E1L7/Bu3T8G8rv5YXfdP2oxb9dcft0/OF9L4taD3T/m5c33xYfdPxoO/YEgit0/TGH5f92K3T/fJSWO9IndP1TR2O1dh90/h7WbjBKD3T+Zo9gKDH3dP6zABsJEdd0/Q1M/yrdr3T875zn/YGDdP2fFqAQ9U90/DmXwSUlE3T/LLTUNhDPdPxaZu13sIN0/rYCXHYIM3T+aK6gCRvbcP1tz35Y53tw/6SbTN1/E3D/dn5gVuqjcP2pM6zBOi9w/mMGfWCBs3D82t2UmNkvcP/8b3PqVKNw/Jjn7+EYE3D8mo9kAUd7bPwFz0am8tts/P/8LPJON2z8j+3qp3mLbP8GNRoapNts/2ZC4AP8I2z/rva3Y6tnaP3QZllZ5qdo/BWoOQrd32j89+xzYsUTaP1JPHMF2ENo/r7heBhTb2T/DG5YHmKTZP4pSC3ARbdk/ndOwK4802T9CWRxcIPvYPwtPc03UwNg/HcdVa7qF2D+qo9M14knYP+d8dzZbDdg/d5hy9TTQ1z9yBfXufpLXP3mfvIhIVNc/CF3lB6EV1z9E4gSHl9bWPz7Zmuw6l9Y/0gzf4ZlX1j/TtPXJwhfWP/vJkbnD19U/SJUMb6qX1T9aBvlKhFfVP7ipOEleF9U/AGOX+kTX1D97UvJ+RJfUP8SO7X9oV9Q/CZo7LLwX1D/utngzStjTP7B+m8IcmdM/uVf7gD1a0z9hrOyNtRvTP3EE8n6N3dI/oGyAXs2f0j/44lSrfGLSPyXUV1iiJdI/Kw8LzUTp0T9J+H3maa3RP1Aww/gWctE/Blri0FA30T+VKEC3G/3QP11sdnJ7w9A/v2mVSnOK0D9kaMcMBlLQPzgYTw82GtA/4EeyawrGzz9rIzLs6VjPP4fMUrkM7c4/ssJNJHSCzj9qLv3AIBnOP+5MzXASsc0/o6DybUhKzT9gltRWweTMP4iOnDl7gMw/l4nZn3MdzD/KICmap7vLP3Du1ssTW8s/sxdkdrT7yj/PSOmEhZ3KPwgkRpeCQMo/jN8RDafkyT+umUEQ7onJP9+9eZ9SMMk/2bIAmM/XyD+M8Em/X4DIP0qFEcz9Kcg/8wIBb6TUxz+XvNdaToDHP7wvEUz2LMc/zmYFEJfaxj8HD4CLK4nGP5Xpy8CuOMY/mSMx1RvpxT+IAOYVbprFP+8ZcvygTMU/XESFMrD/xD8R70OVl7PEPzaLCzhTaMQ/VzWyZt8dxD9XfEWnONTDP0CzTLtbi8M/NMKToEVDwz+M4IOR8/vCPzgMEAVjtcI/5mw7rpFvwj+NHEB7fSrCP3INXZQk5sE/wvRRWoWiwT+NQZBknl/BP0o8KH9uHcE/tHF5qPTbwD+hhK0OMJvAPxVyBA0gW8A/LzT5KMQbwD+jEoseOLq/P0znliFPPr8/v5PVPs3Dvj8G4ZGVskq+P9ARIXr/0r0/4iZdb7RcvT8KXCQg0ue8P6p651hZdLw/PehPAUsCvD9algUWqJG7PyM5nKJxIrs/Emauu6i0uj+BeCx5Tki6P1pa5PBj3bk/mo5GMepzuT/MI2w84gu5P6CAYANNpbg/Ek+xYStAuD9hKEYZfty3P4EGgc5Ferc/ve+nBIMZtz+TypcaNrq2PwzKv0dfXLY/8nRkmf7/tT985CjwE6W1P+593P2eS7U/ECCLQ5/ztD9Pes0PFJ20P3oQV338R7Q/mEO/cVf0sz/7mYKcI6KzP6ZtOXZfUbM/eB0BQAkCsz+x3RQDH7SyPzlNk5CeZ7I/IARugYUcsj8saYA20dKxPx44y9h+irE/SEfSWYtDsT95Qhp08/2wP1M8xKuzubA/ACdFT8h2sD9LdDd4LTWwPwmgihi+6a8/5jFUfLFrrz+j3JMdLPCuP0CwvJwkd64/0X5uO5EArj+LLR/fZ4ytP0F66hOeGq0/YpKHDymrrD/3GmS0/T2sP8yC5JQQ06s/QKbJ9lVqqz8H87vWwQOrP+5T/OtHn6o/Hz07rNs8qj9HN5ZPcNypP+FBvNT4fak/RFU5BWghqT+hM+l5sMaoP0ySkZ/Ebag/YXqju5YWqD9shiPxGMGnP0pouEU9bac/EdzepvUapz8L4UHvM8qmP4nENezpeqY/VTJUYwktpj9jKjcYhOClP0NfUNJLlaU/xyfaYlJLpT/O0t6qiQKlPzbUUqHjuqQ/0eg9WVJ0pD9m/e4HyC6kP7VTNgs36qM/EBih75Gmoz9MU7F2y2OjPxzqDJ3WIaM/DCSeoKbgoj9NCKAGL6CiP/K4kKFjYKI/3twDlzghoj9uFk9louKhP0CACumVpKE/RixfYghnoT9Ash167ymhP9bylkZB7aA//VoxUPSwoD+XILWV/3SgP68rSpBaOaA/50dFbvr7nz/LyZoFwIWfP9TnV+D3D58/h+APBpWanj/ruYiQiyWeP88iT6/QsJ0/GyZ2qlo8nT9dJn7kIMicP+iZX9sbVJw/CAC3KEXgmz+gmBCBl2ybP0N1U7IO+Zo/AJBMoaeFmj9Zo1tGYBKaPw==",
          "dtype": "f8"
         },
         "yaxis": "y"
        },
        {
         "legendgroup": "2",
         "line": {
          "color": "#B6E880",
          "width": 0.8
         },
         "meta": "line",
         "mode": "lines",
         "name": "trace 2 KDE",
         "opacity": 0.9,
         "showlegend": false,
         "text": [
          "",
          "",
          "",
          "",
          "",
          "",
          "",
          "",
          "",
          "",
          "",
          "",
          "",
          "",
          "",
          "",
          "",
          "",
          "",
          "",
          "",
          "",
          "",
          "",
          "",
          "",
          "",
          "",
          "",
          "",
          "",
          "",
          "",
          "",
          "",
          "",
          "",
          "",
          "",
          "",
          "",
          "",
          "",
          "",
          "",
          "",
          "",
          "",
          "",
          "",
          "",
          "",
          "",
          "",
          "",
          "",
          "",
          "",
          "",
          "",
          "",
          "",
          "",
          "",
          "",
          "",
          "",
          "",
          "",
          "",
          "",
          "",
          "",
          "",
          "",
          "",
          "",
          "",
          "",
          "",
          "",
          "",
          "",
          "",
          "",
          "",
          "",
          "",
          "",
          "",
          "",
          "",
          "",
          "",
          "",
          "",
          "",
          "",
          "",
          "",
          "",
          "",
          "",
          "",
          "",
          "",
          "",
          "",
          "",
          "",
          "",
          "",
          "",
          "",
          "",
          "",
          "",
          "",
          "",
          "",
          "",
          "",
          "",
          "",
          "",
          "",
          "",
          "",
          "",
          "",
          "",
          "",
          "",
          "",
          "",
          "",
          "",
          "",
          "",
          "",
          "",
          "",
          "",
          "",
          "",
          "",
          "",
          "",
          "",
          "",
          "",
          "",
          "",
          "",
          "",
          "",
          "",
          "",
          "",
          "",
          "",
          "",
          "",
          "",
          "",
          "",
          "",
          "",
          "",
          "",
          "",
          "",
          "",
          "",
          "",
          "",
          "",
          "",
          "",
          "",
          "",
          "",
          "",
          "",
          "",
          "",
          "",
          "",
          "",
          "",
          "",
          "",
          "",
          "",
          "",
          "",
          "",
          "",
          "",
          "",
          "",
          "",
          "",
          "",
          "",
          "",
          "",
          "",
          "",
          "",
          "",
          "",
          "",
          "",
          "",
          "",
          "",
          "",
          "",
          "",
          "",
          "",
          "",
          "",
          "",
          "",
          "",
          "",
          "",
          "",
          "",
          "",
          "",
          "",
          "",
          "",
          "",
          "",
          "",
          "",
          "",
          "",
          "",
          "",
          "",
          "",
          "",
          "",
          "",
          "",
          "",
          "",
          "",
          "",
          "",
          "",
          "",
          "",
          "",
          "",
          "",
          "",
          "",
          "",
          "",
          "",
          "",
          "",
          "",
          "",
          "",
          "",
          "",
          "",
          "",
          "",
          "",
          "",
          "",
          "",
          "",
          "",
          "",
          "",
          "",
          "",
          "",
          "",
          "",
          "",
          "",
          "",
          "",
          "",
          "",
          "",
          "",
          "",
          "",
          "",
          "",
          "",
          "",
          "",
          "",
          "",
          "",
          "",
          "",
          "",
          "",
          "",
          "",
          "",
          "",
          "",
          "",
          "",
          "",
          "",
          "",
          "",
          "",
          "",
          "",
          "",
          "",
          "",
          "",
          "",
          "",
          "",
          "",
          "",
          "",
          "",
          "",
          "",
          "",
          "",
          "",
          "",
          "",
          "",
          "",
          "",
          "",
          "",
          "",
          "",
          "",
          "",
          "",
          "",
          "",
          "",
          "",
          "",
          "",
          "",
          "",
          "",
          "",
          "",
          "",
          "",
          "",
          "",
          "",
          "",
          "",
          "",
          "",
          "",
          "",
          "",
          "",
          "",
          "",
          "",
          "",
          "",
          "",
          "",
          "",
          "",
          "",
          "",
          "",
          "",
          "",
          "",
          "",
          "",
          "",
          "",
          "",
          "",
          "",
          "",
          "",
          "",
          "",
          "",
          "",
          "",
          "",
          "",
          "",
          "",
          "",
          "",
          "",
          "",
          "",
          "",
          "",
          "",
          "",
          "",
          "",
          "",
          "",
          "",
          "",
          "",
          "",
          "",
          "",
          "",
          "",
          "",
          "",
          "",
          "",
          "",
          "",
          "",
          "",
          "",
          "",
          "",
          "",
          "",
          "",
          "",
          "",
          "",
          "",
          "",
          "",
          "",
          "",
          "",
          "",
          "",
          "",
          "",
          "",
          "",
          "",
          "",
          "",
          "",
          "",
          "",
          "",
          "",
          "",
          "",
          "",
          "",
          "",
          "",
          "",
          "",
          "",
          "",
          "",
          "",
          "",
          "",
          "",
          "",
          "",
          "",
          "",
          "",
          "",
          "",
          "",
          "",
          "",
          "",
          "",
          "",
          "",
          "",
          "",
          ""
         ],
         "textfont": {
          "color": "#B6E880"
         },
         "textposition": "middle right",
         "type": "scatter",
         "x": {
          "bdata": "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",
          "dtype": "f8"
         },
         "y": {
          "bdata": "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",
          "dtype": "f8"
         },
         "yaxis": "y"
        },
        {
         "legendgroup": "3",
         "line": {
          "color": "#FF9C12",
          "width": 0.8
         },
         "meta": "line",
         "mode": "lines",
         "name": "trace 3 KDE",
         "opacity": 0.9,
         "showlegend": false,
         "text": [
          "",
          "",
          "",
          "",
          "",
          "",
          "",
          "",
          "",
          "",
          "",
          "",
          "",
          "",
          "",
          "",
          "",
          "",
          "",
          "",
          "",
          "",
          "",
          "",
          "",
          "",
          "",
          "",
          "",
          "",
          "",
          "",
          "",
          "",
          "",
          "",
          "",
          "",
          "",
          "",
          "",
          "",
          "",
          "",
          "",
          "",
          "",
          "",
          "",
          "",
          "",
          "",
          "",
          "",
          "",
          "",
          "",
          "",
          "",
          "",
          "",
          "",
          "",
          "",
          "",
          "",
          "",
          "",
          "",
          "",
          "",
          "",
          "",
          "",
          "",
          "",
          "",
          "",
          "",
          "",
          "",
          "",
          "",
          "",
          "",
          "",
          "",
          "",
          "",
          "",
          "",
          "",
          "",
          "",
          "",
          "",
          "",
          "",
          "",
          "",
          "",
          "",
          "",
          "",
          "",
          "",
          "",
          "",
          "",
          "",
          "",
          "",
          "",
          "",
          "",
          "",
          "",
          "",
          "",
          "",
          "",
          "",
          "",
          "",
          "",
          "",
          "",
          "",
          "",
          "",
          "",
          "",
          "",
          "",
          "",
          "",
          "",
          "",
          "",
          "",
          "",
          "",
          "",
          "",
          "",
          "",
          "",
          "",
          "",
          "",
          "",
          "",
          "",
          "",
          "",
          "",
          "",
          "",
          "",
          "",
          "",
          "",
          "",
          "",
          "",
          "",
          "",
          "",
          "",
          "",
          "",
          "",
          "",
          "",
          "",
          "",
          "",
          "",
          "",
          "",
          "",
          "",
          "",
          "",
          "",
          "",
          "",
          "",
          "",
          "",
          "",
          "",
          "",
          "",
          "",
          "",
          "",
          "",
          "",
          "",
          "",
          "",
          "",
          "",
          "",
          "",
          "",
          "",
          "",
          "",
          "",
          "",
          "",
          "",
          "",
          "",
          "",
          "",
          "",
          "",
          "",
          "",
          "",
          "",
          "",
          "",
          "",
          "",
          "",
          "",
          "",
          "",
          "",
          "",
          "",
          "",
          "",
          "",
          "",
          "",
          "",
          "",
          "",
          "",
          "",
          "",
          "",
          "",
          "",
          "",
          "",
          "",
          "",
          "",
          "",
          "",
          "",
          "",
          "",
          "",
          "",
          "",
          "",
          "",
          "",
          "",
          "",
          "",
          "",
          "",
          "",
          "",
          "",
          "",
          "",
          "",
          "",
          "",
          "",
          "",
          "",
          "",
          "",
          "",
          "",
          "",
          "",
          "",
          "",
          "",
          "",
          "",
          "",
          "",
          "",
          "",
          "",
          "",
          "",
          "",
          "",
          "",
          "",
          "",
          "",
          "",
          "",
          "",
          "",
          "",
          "",
          "",
          "",
          "",
          "",
          "",
          "",
          "",
          "",
          "",
          "",
          "",
          "",
          "",
          "",
          "",
          "",
          "",
          "",
          "",
          "",
          "",
          "",
          "",
          "",
          "",
          "",
          "",
          "",
          "",
          "",
          "",
          "",
          "",
          "",
          "",
          "",
          "",
          "",
          "",
          "",
          "",
          "",
          "",
          "",
          "",
          "",
          "",
          "",
          "",
          "",
          "",
          "",
          "",
          "",
          "",
          "",
          "",
          "",
          "",
          "",
          "",
          "",
          "",
          "",
          "",
          "",
          "",
          "",
          "",
          "",
          "",
          "",
          "",
          "",
          "",
          "",
          "",
          "",
          "",
          "",
          "",
          "",
          "",
          "",
          "",
          "",
          "",
          "",
          "",
          "",
          "",
          "",
          "",
          "",
          "",
          "",
          "",
          "",
          "",
          "",
          "",
          "",
          "",
          "",
          "",
          "",
          "",
          "",
          "",
          "",
          "",
          "",
          "",
          "",
          "",
          "",
          "",
          "",
          "",
          "",
          "",
          "",
          "",
          "",
          "",
          "",
          "",
          "",
          "",
          "",
          "",
          "",
          "",
          "",
          "",
          "",
          "",
          "",
          "",
          "",
          "",
          "",
          "",
          "",
          "",
          "",
          "",
          "",
          "",
          "",
          "",
          "",
          "",
          "",
          "",
          "",
          "",
          "",
          "",
          "",
          "",
          "",
          "",
          "",
          "",
          "",
          "",
          "",
          "",
          "",
          "",
          "",
          "",
          "",
          "",
          "",
          "",
          "",
          "",
          "",
          "",
          "",
          "",
          "",
          "",
          "",
          "",
          "",
          ""
         ],
         "textfont": {
          "color": "#FF9C12"
         },
         "textposition": "middle right",
         "type": "scatter",
         "x": {
          "bdata": "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",
          "dtype": "f8"
         },
         "y": {
          "bdata": "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",
          "dtype": "f8"
         },
         "yaxis": "y"
        },
        {
         "jitter": 0.6,
         "legendgroup": "a",
         "line": {
          "color": "#ab63fa"
         },
         "marker": {
          "color": "#ab63fa",
          "size": 5
         },
         "name": "trace 0 Rug",
         "opacity": 0.6,
         "orientation": "h",
         "points": "suspectedoutliers",
         "scalegroup": "added_rug",
         "showlegend": false,
         "side": "positive",
         "type": "violin",
         "width": 1,
         "x": {
          "bdata": "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",
          "dtype": "f8"
         },
         "xaxis": "x",
         "y": [
          1,
          1,
          1,
          1,
          1,
          1,
          1,
          1,
          1,
          1,
          1,
          1,
          1,
          1,
          1,
          1,
          1,
          1,
          1,
          1,
          1,
          1,
          1,
          1,
          1,
          1,
          1,
          1,
          1,
          1,
          1,
          1,
          1,
          1,
          1,
          1,
          1,
          1,
          1,
          1,
          1,
          1,
          1,
          1,
          1,
          1,
          1,
          1,
          1,
          1,
          1,
          1,
          1,
          1,
          1,
          1,
          1,
          1,
          1,
          1,
          1,
          1,
          1,
          1,
          1,
          1,
          1,
          1,
          1,
          1,
          1,
          1,
          1,
          1,
          1,
          1,
          1,
          1,
          1,
          1,
          1,
          1,
          1,
          1,
          1,
          1,
          1,
          1,
          1,
          1,
          1,
          1,
          1,
          1,
          1,
          1,
          1,
          1,
          1,
          1,
          1,
          1,
          1,
          1,
          1,
          1,
          1,
          1,
          1,
          1,
          1,
          1,
          1,
          1,
          1,
          1,
          1,
          1,
          1,
          1,
          1,
          1,
          1,
          1,
          1,
          1,
          1,
          1,
          1,
          1,
          1,
          1,
          1,
          1,
          1,
          1,
          1,
          1,
          1,
          1,
          1,
          1,
          1,
          1,
          1,
          1,
          1,
          1,
          1,
          1,
          1,
          1,
          1,
          1,
          1,
          1,
          1,
          1,
          1,
          1,
          1,
          1,
          1,
          1,
          1,
          1,
          1,
          1,
          1,
          1,
          1,
          1,
          1,
          1,
          1,
          1,
          1,
          1,
          1,
          1,
          1,
          1,
          1,
          1,
          1,
          1,
          1,
          1,
          1,
          1,
          1,
          1,
          1,
          1,
          1,
          1,
          1,
          1,
          1,
          1,
          1,
          1,
          1,
          1,
          1,
          1,
          1,
          1,
          1,
          1,
          1,
          1,
          1,
          1,
          1,
          1,
          1,
          1,
          1,
          1,
          1,
          1,
          1,
          1,
          1,
          1,
          1,
          1,
          1,
          1,
          1,
          1,
          1,
          1,
          1,
          1,
          1,
          1,
          1,
          1,
          1,
          1,
          1,
          1,
          1,
          1,
          1,
          1,
          1,
          1,
          1,
          1,
          1,
          1,
          1,
          1,
          1,
          1,
          1,
          1,
          1,
          1,
          1,
          1,
          1,
          1,
          1,
          1,
          1,
          1,
          1,
          1,
          1,
          1,
          1,
          1,
          1,
          1,
          1,
          1,
          1,
          1,
          1,
          1,
          1,
          1,
          1,
          1,
          1,
          1,
          1,
          1,
          1,
          1,
          1,
          1,
          1,
          1,
          1,
          1,
          1,
          1,
          1,
          1,
          1,
          1,
          1,
          1,
          1,
          1,
          1,
          1,
          1,
          1,
          1,
          1,
          1,
          1,
          1,
          1,
          1,
          1,
          1,
          1,
          1,
          1,
          1,
          1,
          1,
          1,
          1,
          1,
          1,
          1,
          1,
          1,
          1,
          1,
          1,
          1,
          1,
          1,
          1,
          1,
          1,
          1,
          1,
          1,
          1,
          1,
          1,
          1,
          1,
          1,
          1,
          1,
          1,
          1,
          1,
          1,
          1,
          1,
          1,
          1,
          1,
          1,
          1,
          1,
          1,
          1,
          1,
          1,
          1,
          1,
          1,
          1,
          1,
          1,
          1,
          1,
          1,
          1,
          1,
          1,
          1,
          1,
          1,
          1,
          1,
          1,
          1,
          1,
          1,
          1,
          1,
          1,
          1,
          1,
          1,
          1,
          1,
          1,
          1,
          1,
          1,
          1,
          1,
          1,
          1,
          1,
          1,
          1,
          1,
          1,
          1,
          1,
          1,
          1,
          1,
          1,
          1,
          1,
          1,
          1,
          1,
          1,
          1,
          1,
          1,
          1,
          1,
          1,
          1,
          1,
          1,
          1,
          1,
          1,
          1,
          1,
          1,
          1,
          1,
          1,
          1,
          1,
          1,
          1,
          1,
          1,
          1,
          1,
          1,
          1,
          1,
          1,
          1,
          1,
          1,
          1,
          1,
          1,
          1,
          1,
          1,
          1,
          1,
          1,
          1,
          1,
          1,
          1,
          1,
          1,
          1,
          1,
          1,
          1,
          1,
          1,
          1,
          1,
          1,
          1,
          1,
          1,
          1,
          1,
          1,
          1,
          1,
          1,
          1,
          1,
          1,
          1,
          1,
          1,
          1,
          1
         ],
         "yaxis": "y2"
        },
        {
         "jitter": 0.6,
         "legendgroup": "1",
         "line": {
          "color": "#30D5DB"
         },
         "marker": {
          "color": "#30D5DB",
          "size": 5
         },
         "name": "trace 1 Rug",
         "opacity": 0.6,
         "orientation": "h",
         "points": "suspectedoutliers",
         "scalegroup": "added_rug",
         "showlegend": false,
         "side": "positive",
         "type": "violin",
         "width": 1,
         "x": {
          "bdata": "FvbPcK9e/T/g8WkGUpX5P9VtbMpzb/A/Ip/3tG739z8YQWrL9UMDQBEArBmN6gFA6nVr5lvqAEBJM+t9NewAQB68FMGo1fs/7Dudpj254D/LW47KiAv6Px6mGkfHWAhAQj81KRM3CUCOtFkId2PsPyQN1v/AgOo/v+kUdQFh/j+UBYH0EzMCQFyrDx4GAw5AWdeP8zdBCECgAznc9Db4PwG5zDN46AFAQWWA1SFX/z9eF5ap15/oP53+h+xfpwFAzCwXbIzT5D8gZHD/6BkEQPrhd+H9dABAnE9FgaXu9j+qzW3lOX8BQJPiCoC5SQRAZK0b/MAVA0CzSxGeAWoBQFexPB4eIQNAXbcVs2/bA0CFPDkLaRT6P3mAhQhiV/M//swW+FhQEECi8ikIs5gEQBzqtNZsygRA5V7hIQCSBECtDg5CxdsDQNOTfWVPpgJAEpgZN+ga9T/sO8h/XEICQN6ssz2lygNA4yCfCBGHBUC+iK7/XskHQMJZ3YBw4QBAcGQYkRKB2T/8ggOO480DQKfEUHPdCv4//BknCvelCkAn3zpjDPkBQGmRF1qno/w/EuNpM2deBEBY88gvuKD7P3pYR5w7bO4/IJfR7wiT9D8xOUZochsCQKC+NqD5JQ1AaJy9QKR/CkDa4eZktE3jP+p7RU58VQZAZO0WR4qEBkCqC6JI5MP1P+DWuQSnJARAXOc4NWE3CUDEbjY3Qun3P8c59V1OUfI/yuotumAU9z8RlwR6shn+P5LiiB9GuvY/CAsHqMKV8z8m43KZZhLqPxqtLR+XYgdAkKkjoBwhBkAB/eS+2KYCQJaqY7FXTfU/7vgjoMNW+j+6DazsXhvlP1Nl3TxDFABAIDv0ZiIsub90yLRBt0sEQI6VSM7Ktus/YqRNUm2x8T9ka9BQk3sIQEgphTjnxPs/B6rKwWeABEB4o+QTRQIBQALrG9Fj1+w/kCqCYpML8j8Nhv/CwwMMQGeksnjkeP0/3qBw7yVrCUAHwj9ube4DQGqQuxJAXBFA2wIo+OZZ/D9tuKKP+2MDQIjWDMRBl/g/Ehdv10UdA0A=",
          "dtype": "f8"
         },
         "xaxis": "x",
         "y": [
          2,
          2,
          2,
          2,
          2,
          2,
          2,
          2,
          2,
          2,
          2,
          2,
          2,
          2,
          2,
          2,
          2,
          2,
          2,
          2,
          2,
          2,
          2,
          2,
          2,
          2,
          2,
          2,
          2,
          2,
          2,
          2,
          2,
          2,
          2,
          2,
          2,
          2,
          2,
          2,
          2,
          2,
          2,
          2,
          2,
          2,
          2,
          2,
          2,
          2,
          2,
          2,
          2,
          2,
          2,
          2,
          2,
          2,
          2,
          2,
          2,
          2,
          2,
          2,
          2,
          2,
          2,
          2,
          2,
          2,
          2,
          2,
          2,
          2,
          2,
          2,
          2,
          2,
          2,
          2,
          2,
          2,
          2,
          2,
          2,
          2,
          2,
          2,
          2,
          2,
          2,
          2,
          2,
          2,
          2,
          2,
          2,
          2,
          2,
          2
         ],
         "yaxis": "y2"
        },
        {
         "jitter": 0.6,
         "legendgroup": "2",
         "line": {
          "color": "#B6E880"
         },
         "marker": {
          "color": "#B6E880",
          "size": 5
         },
         "name": "trace 2 Rug",
         "opacity": 0.6,
         "orientation": "h",
         "points": "suspectedoutliers",
         "scalegroup": "added_rug",
         "showlegend": false,
         "side": "positive",
         "type": "violin",
         "width": 1,
         "x": {
          "bdata": "2GQhhYiCDEBn6o0HksUKQC51CcSBrhNAH4A8iQDtEECxluycV2ELQBZyLJuqwBFAu4NLQYlbD0D4KH8vxooMQBU7T/vFRQ9AKK5n7YhYDECJ4AkDy0kOQHKRoCElYw9A1rWmTQCXD0ANXA1XnIAKQL/E1VLdLA5AD4pZ+j3VD0Dok/V9leULQDNZW8/guhFAo2wNXSorDkBG72FFGIQOQCYY0ikVThFAzvfznQJjDkBwbBBPgaIOQIknGqreYApAls75iOGODkAo3BTaAgELQIIrtAkDWRFAdEVf7jBpD0AbiSRltwsQQEqyybmCvhBAxeTdvpWGD0CZK7wTTl8OQEXMOY9WZhFAD0c9Ash6E0A1kbgdvsEPQJmCJJUmIgxAYJzf38/iDUC3guAF7+YQQM4zh/0yVRJAdea9Fe7qEEBXHpwWiJMQQHdit63YFQ1AITXBFACGEEDb1ePPKgEPQHEnrN/WpQ1AZHqTZrZMDUDJTdXBvcoJQIC3gRUb1g5AHThZzQYQEkBKNsxugikTQAc1D0cIsQhATBduy9QqEkDYa7c7D8sJQOTy9k12GBNALMtYv2syEECm59fcMOARQGNvrsV9jglAYi+kzjPGDkD6vPcgPA8PQC7+YW9ZqAlA77wqOd4aDkDyODvGM5kQQMEp/n9mkRJAHgMUZF0PEECLuB3K7GcMQHCymWpSXQ9ASl4jy4B5DkDig6F6Yr0MQNWBXjiIdhBA5hmPAG4yCUCm7k+N9PERQJaXrN+rJw5A6iQ248J+D0BMrbIxSDYKQO1Ktwl5uRBAuOBc0MyRCkD1MD2iLPMPQEb+C7v0vw9A5BCCtcPGDUAfwtT/NnARQGCKk30vsAtAnEGtliUJEEBGevmq30EQQJHXUDWE+Q5ADHhiiBT0CkDc2+TrR9ISQFD+IPncEA1AQ68CZWP8EEDgqh7fFUsTQGIKGoqQHxFAHE+8oFeKEEAns/tTsTUPQNT8gJqSFQtAJPL1maa/EEDbyc1TDo8LQHLS5nAQZA9AEt4YBriJEUA2PFF7IWYQQKNgx7C1QQ5AThe6VzqsDkA=",
          "dtype": "f8"
         },
         "xaxis": "x",
         "y": [
          3,
          3,
          3,
          3,
          3,
          3,
          3,
          3,
          3,
          3,
          3,
          3,
          3,
          3,
          3,
          3,
          3,
          3,
          3,
          3,
          3,
          3,
          3,
          3,
          3,
          3,
          3,
          3,
          3,
          3,
          3,
          3,
          3,
          3,
          3,
          3,
          3,
          3,
          3,
          3,
          3,
          3,
          3,
          3,
          3,
          3,
          3,
          3,
          3,
          3,
          3,
          3,
          3,
          3,
          3,
          3,
          3,
          3,
          3,
          3,
          3,
          3,
          3,
          3,
          3,
          3,
          3,
          3,
          3,
          3,
          3,
          3,
          3,
          3,
          3,
          3,
          3,
          3,
          3,
          3,
          3,
          3,
          3,
          3,
          3,
          3,
          3,
          3,
          3,
          3,
          3,
          3,
          3,
          3,
          3,
          3,
          3,
          3,
          3,
          3
         ],
         "yaxis": "y2"
        },
        {
         "jitter": 0.6,
         "legendgroup": "3",
         "line": {
          "color": "#FF9C12"
         },
         "marker": {
          "color": "#FF9C12",
          "size": 5
         },
         "name": "trace 3 Rug",
         "opacity": 0.6,
         "orientation": "h",
         "points": "suspectedoutliers",
         "scalegroup": "added_rug",
         "showlegend": false,
         "side": "positive",
         "type": "violin",
         "width": 1,
         "x": {
          "bdata": "PcGzzr4BDkBzj26TriMOQN8a4kViSg9AV4sEyVILDkByO/q5KdsMQKAoiLGYfQ9AVhwIod+XEUA/vc3VO+oOQKipYkSiIw5ApojpL2ZwD0B1YFDp76URQN0AkXKmUxBAa5u+KrmWEEDxGVaiEwkQQD3nRwOaWxBA12SpGKWMEUCntxaE1P8NQCOd5WIDNRBAiZQEFc+PDkDg8ERiSToPQErnz+PAtxBAO1r0qXuXEEBKr3IvhRwQQE25obleWBBAEID4Tka/EED+rSlWHRMOQBd5J/goHg5ARUBqSgdSD0AEe4Z6FsMQQKfW8fIb0g5AXy4WP7XIDkCRAOoUDJIQQEQT+bQkWQ9AqYR2WO0OEUDPUhDK3WEQQAgKwnV01A1Au3f7b3a6DkAUnKMy6iwQQAXvFhM7YxFATFW0r5S6EEBRCqMHiBQQQJVCcZc+ug9AivYJTFmAEEC23lPIdL0NQJm430OY2Q5AtNQeiqdpDkDeTFsqlCAQQL0wbU7rPg9AOJIl1L+kEEDYGibFiIEQQA==",
          "dtype": "f8"
         },
         "xaxis": "x",
         "y": [
          4,
          4,
          4,
          4,
          4,
          4,
          4,
          4,
          4,
          4,
          4,
          4,
          4,
          4,
          4,
          4,
          4,
          4,
          4,
          4,
          4,
          4,
          4,
          4,
          4,
          4,
          4,
          4,
          4,
          4,
          4,
          4,
          4,
          4,
          4,
          4,
          4,
          4,
          4,
          4,
          4,
          4,
          4,
          4,
          4,
          4,
          4,
          4,
          4,
          4
         ],
         "yaxis": "y2"
        },
        {
         "legendgroup": "a",
         "line": {
          "color": "#ab63fa",
          "dash": "dash",
          "width": 0.8
         },
         "meta": "line",
         "mode": "lines",
         "name": "trace 0 Gaussian",
         "opacity": 0.9,
         "showlegend": false,
         "text": [
          "",
          "",
          "",
          "",
          "",
          "",
          "",
          "",
          "",
          "",
          "",
          "",
          "",
          "",
          "",
          "",
          "",
          "",
          "",
          "",
          "",
          "",
          "",
          "",
          "",
          "",
          "",
          "",
          "",
          "",
          "",
          "",
          "",
          "",
          "",
          "",
          "",
          "",
          "",
          "",
          "",
          "",
          "",
          "",
          "",
          "",
          "",
          "",
          "",
          "",
          "",
          "",
          "",
          "",
          "",
          "",
          "",
          "",
          "",
          "",
          "",
          "",
          "",
          "",
          "",
          "",
          "",
          "",
          "",
          "",
          "",
          "",
          "",
          "",
          "",
          "",
          "",
          "",
          "",
          "",
          "",
          "",
          "",
          "",
          "",
          "",
          "",
          "",
          "",
          "",
          "",
          "",
          "",
          "",
          "",
          "",
          "",
          "",
          "",
          "",
          "",
          "",
          "",
          "",
          "",
          "",
          "",
          "",
          "",
          "",
          "",
          "",
          "",
          "",
          "",
          "",
          "",
          "",
          "",
          "",
          "",
          "",
          "",
          "",
          "",
          "",
          "",
          "",
          "",
          "",
          "",
          "",
          "",
          "",
          "",
          "",
          "",
          "",
          "",
          "",
          "",
          "",
          "",
          "",
          "",
          "",
          "",
          "",
          "",
          "",
          "",
          "",
          "",
          "",
          "",
          "",
          "",
          "",
          "",
          "",
          "",
          "",
          "",
          "",
          "",
          "",
          "",
          "",
          "",
          "",
          "",
          "",
          "",
          "",
          "",
          "",
          "",
          "",
          "",
          "",
          "",
          "",
          "",
          "",
          "",
          "",
          "",
          "",
          "",
          "",
          "",
          "",
          "",
          "",
          "",
          "",
          "",
          "",
          "",
          "",
          "",
          "",
          "",
          "",
          "",
          "",
          "",
          "",
          "",
          "",
          "",
          "",
          "",
          "",
          "",
          "",
          "",
          "",
          "",
          "",
          "",
          "",
          "",
          "",
          "",
          "",
          "",
          "",
          "",
          "",
          "",
          "",
          "",
          "",
          "",
          "",
          "",
          "",
          "",
          "",
          "",
          "",
          "",
          "",
          "",
          "",
          "",
          "",
          "",
          "",
          "",
          "",
          "",
          "",
          "",
          "",
          "",
          "",
          "",
          "",
          "",
          "",
          "",
          "",
          "",
          "",
          "",
          "",
          "",
          "",
          "",
          "",
          "",
          "",
          "",
          "",
          "",
          "",
          "",
          "",
          "",
          "",
          "",
          "",
          "",
          "",
          "",
          "",
          "",
          "",
          "",
          "",
          "",
          "",
          "",
          "",
          "",
          "",
          "",
          "",
          "",
          "",
          "",
          "",
          "",
          "",
          "",
          "",
          "",
          "",
          "",
          "",
          "",
          "",
          "",
          "",
          "",
          "",
          "",
          "",
          "",
          "",
          "",
          "",
          "",
          "",
          "",
          "",
          "",
          "",
          "",
          "",
          "",
          "",
          "",
          "",
          "",
          "",
          "",
          "",
          "",
          "",
          "",
          "",
          "",
          "",
          "",
          "",
          "",
          "",
          "",
          "",
          "",
          "",
          "",
          "",
          "",
          "",
          "",
          "",
          "",
          "",
          "",
          "",
          "",
          "",
          "",
          "",
          "",
          "",
          "",
          "",
          "",
          "",
          "",
          "",
          "",
          "",
          "",
          "",
          "",
          "",
          "",
          "",
          "",
          "",
          "",
          "",
          "",
          "",
          "",
          "",
          "",
          "",
          "",
          "",
          "",
          "",
          "",
          "",
          "",
          "",
          "",
          "",
          "",
          "",
          "",
          "",
          "",
          "",
          "",
          "",
          "",
          "",
          "",
          "",
          "",
          "",
          "",
          "",
          "",
          "",
          "",
          "",
          "",
          "",
          "",
          "",
          "",
          "",
          "",
          "",
          "",
          "",
          "",
          "",
          "",
          "",
          "",
          "",
          "",
          "",
          "",
          "",
          "",
          "",
          "",
          "",
          "",
          "",
          "",
          "",
          "",
          "",
          "",
          "",
          "",
          "",
          "",
          "",
          "",
          "",
          "",
          "",
          "",
          "",
          "",
          "",
          "",
          "",
          "",
          "",
          "",
          "",
          "",
          "",
          "",
          "",
          "",
          "",
          "",
          "",
          "",
          "",
          "",
          "",
          "",
          "",
          "",
          "",
          "",
          "",
          "",
          "",
          "",
          "",
          "",
          "",
          "",
          ""
         ],
         "textposition": "middle right",
         "type": "scatter",
         "x": {
          "bdata": "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",
          "dtype": "f8"
         },
         "y": {
          "bdata": "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",
          "dtype": "f8"
         },
         "yaxis": "y"
        },
        {
         "legendgroup": "1",
         "line": {
          "color": "#30D5DB",
          "dash": "dash",
          "width": 0.8
         },
         "meta": "line",
         "mode": "lines",
         "name": "trace 1 Gaussian",
         "opacity": 0.9,
         "showlegend": false,
         "text": [
          "",
          "",
          "",
          "",
          "",
          "",
          "",
          "",
          "",
          "",
          "",
          "",
          "",
          "",
          "",
          "",
          "",
          "",
          "",
          "",
          "",
          "",
          "",
          "",
          "",
          "",
          "",
          "",
          "",
          "",
          "",
          "",
          "",
          "",
          "",
          "",
          "",
          "",
          "",
          "",
          "",
          "",
          "",
          "",
          "",
          "",
          "",
          "",
          "",
          "",
          "",
          "",
          "",
          "",
          "",
          "",
          "",
          "",
          "",
          "",
          "",
          "",
          "",
          "",
          "",
          "",
          "",
          "",
          "",
          "",
          "",
          "",
          "",
          "",
          "",
          "",
          "",
          "",
          "",
          "",
          "",
          "",
          "",
          "",
          "",
          "",
          "",
          "",
          "",
          "",
          "",
          "",
          "",
          "",
          "",
          "",
          "",
          "",
          "",
          "",
          "",
          "",
          "",
          "",
          "",
          "",
          "",
          "",
          "",
          "",
          "",
          "",
          "",
          "",
          "",
          "",
          "",
          "",
          "",
          "",
          "",
          "",
          "",
          "",
          "",
          "",
          "",
          "",
          "",
          "",
          "",
          "",
          "",
          "",
          "",
          "",
          "",
          "",
          "",
          "",
          "",
          "",
          "",
          "",
          "",
          "",
          "",
          "",
          "",
          "",
          "",
          "",
          "",
          "",
          "",
          "",
          "",
          "",
          "",
          "",
          "",
          "",
          "",
          "",
          "",
          "",
          "",
          "",
          "",
          "",
          "",
          "",
          "",
          "",
          "",
          "",
          "",
          "",
          "",
          "",
          "",
          "",
          "",
          "",
          "",
          "",
          "",
          "",
          "",
          "",
          "",
          "",
          "",
          "",
          "",
          "",
          "",
          "",
          "",
          "",
          "",
          "",
          "",
          "",
          "",
          "",
          "",
          "",
          "",
          "",
          "",
          "",
          "",
          "",
          "",
          "",
          "",
          "",
          "",
          "",
          "",
          "",
          "",
          "",
          "",
          "",
          "",
          "",
          "",
          "",
          "",
          "",
          "",
          "",
          "",
          "",
          "",
          "",
          "",
          "",
          "",
          "",
          "",
          "",
          "",
          "",
          "",
          "",
          "",
          "",
          "",
          "",
          "",
          "",
          "",
          "",
          "",
          "",
          "",
          "",
          "",
          "",
          "",
          "",
          "",
          "",
          "",
          "",
          "",
          "",
          "",
          "",
          "",
          "",
          "",
          "",
          "",
          "",
          "",
          "",
          "",
          "",
          "",
          "",
          "",
          "",
          "",
          "",
          "",
          "",
          "",
          "",
          "",
          "",
          "",
          "",
          "",
          "",
          "",
          "",
          "",
          "",
          "",
          "",
          "",
          "",
          "",
          "",
          "",
          "",
          "",
          "",
          "",
          "",
          "",
          "",
          "",
          "",
          "",
          "",
          "",
          "",
          "",
          "",
          "",
          "",
          "",
          "",
          "",
          "",
          "",
          "",
          "",
          "",
          "",
          "",
          "",
          "",
          "",
          "",
          "",
          "",
          "",
          "",
          "",
          "",
          "",
          "",
          "",
          "",
          "",
          "",
          "",
          "",
          "",
          "",
          "",
          "",
          "",
          "",
          "",
          "",
          "",
          "",
          "",
          "",
          "",
          "",
          "",
          "",
          "",
          "",
          "",
          "",
          "",
          "",
          "",
          "",
          "",
          "",
          "",
          "",
          "",
          "",
          "",
          "",
          "",
          "",
          "",
          "",
          "",
          "",
          "",
          "",
          "",
          "",
          "",
          "",
          "",
          "",
          "",
          "",
          "",
          "",
          "",
          "",
          "",
          "",
          "",
          "",
          "",
          "",
          "",
          "",
          "",
          "",
          "",
          "",
          "",
          "",
          "",
          "",
          "",
          "",
          "",
          "",
          "",
          "",
          "",
          "",
          "",
          "",
          "",
          "",
          "",
          "",
          "",
          "",
          "",
          "",
          "",
          "",
          "",
          "",
          "",
          "",
          "",
          "",
          "",
          "",
          "",
          "",
          "",
          "",
          "",
          "",
          "",
          "",
          "",
          "",
          "",
          "",
          "",
          "",
          "",
          "",
          "",
          "",
          "",
          "",
          "",
          "",
          "",
          "",
          "",
          "",
          "",
          "",
          "",
          "",
          "",
          "",
          "",
          "",
          "",
          "",
          "",
          "",
          "",
          "",
          "",
          "",
          "",
          "",
          "",
          "",
          "",
          "",
          "",
          ""
         ],
         "textposition": "middle right",
         "type": "scatter",
         "x": {
          "bdata": "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",
          "dtype": "f8"
         },
         "y": {
          "bdata": "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",
          "dtype": "f8"
         },
         "yaxis": "y"
        },
        {
         "legendgroup": "2",
         "line": {
          "color": "#B6E880",
          "dash": "dash",
          "width": 0.8
         },
         "meta": "line",
         "mode": "lines",
         "name": "trace 2 Gaussian",
         "opacity": 0.9,
         "showlegend": false,
         "text": [
          "",
          "",
          "",
          "",
          "",
          "",
          "",
          "",
          "",
          "",
          "",
          "",
          "",
          "",
          "",
          "",
          "",
          "",
          "",
          "",
          "",
          "",
          "",
          "",
          "",
          "",
          "",
          "",
          "",
          "",
          "",
          "",
          "",
          "",
          "",
          "",
          "",
          "",
          "",
          "",
          "",
          "",
          "",
          "",
          "",
          "",
          "",
          "",
          "",
          "",
          "",
          "",
          "",
          "",
          "",
          "",
          "",
          "",
          "",
          "",
          "",
          "",
          "",
          "",
          "",
          "",
          "",
          "",
          "",
          "",
          "",
          "",
          "",
          "",
          "",
          "",
          "",
          "",
          "",
          "",
          "",
          "",
          "",
          "",
          "",
          "",
          "",
          "",
          "",
          "",
          "",
          "",
          "",
          "",
          "",
          "",
          "",
          "",
          "",
          "",
          "",
          "",
          "",
          "",
          "",
          "",
          "",
          "",
          "",
          "",
          "",
          "",
          "",
          "",
          "",
          "",
          "",
          "",
          "",
          "",
          "",
          "",
          "",
          "",
          "",
          "",
          "",
          "",
          "",
          "",
          "",
          "",
          "",
          "",
          "",
          "",
          "",
          "",
          "",
          "",
          "",
          "",
          "",
          "",
          "",
          "",
          "",
          "",
          "",
          "",
          "",
          "",
          "",
          "",
          "",
          "",
          "",
          "",
          "",
          "",
          "",
          "",
          "",
          "",
          "",
          "",
          "",
          "",
          "",
          "",
          "",
          "",
          "",
          "",
          "",
          "",
          "",
          "",
          "",
          "",
          "",
          "",
          "",
          "",
          "",
          "",
          "",
          "",
          "",
          "",
          "",
          "",
          "",
          "",
          "",
          "",
          "",
          "",
          "",
          "",
          "",
          "",
          "",
          "",
          "",
          "",
          "",
          "",
          "",
          "",
          "",
          "",
          "",
          "",
          "",
          "",
          "",
          "",
          "",
          "",
          "",
          "",
          "",
          "",
          "",
          "",
          "",
          "",
          "",
          "",
          "",
          "",
          "",
          "",
          "",
          "",
          "",
          "",
          "",
          "",
          "",
          "",
          "",
          "",
          "",
          "",
          "",
          "",
          "",
          "",
          "",
          "",
          "",
          "",
          "",
          "",
          "",
          "",
          "",
          "",
          "",
          "",
          "",
          "",
          "",
          "",
          "",
          "",
          "",
          "",
          "",
          "",
          "",
          "",
          "",
          "",
          "",
          "",
          "",
          "",
          "",
          "",
          "",
          "",
          "",
          "",
          "",
          "",
          "",
          "",
          "",
          "",
          "",
          "",
          "",
          "",
          "",
          "",
          "",
          "",
          "",
          "",
          "",
          "",
          "",
          "",
          "",
          "",
          "",
          "",
          "",
          "",
          "",
          "",
          "",
          "",
          "",
          "",
          "",
          "",
          "",
          "",
          "",
          "",
          "",
          "",
          "",
          "",
          "",
          "",
          "",
          "",
          "",
          "",
          "",
          "",
          "",
          "",
          "",
          "",
          "",
          "",
          "",
          "",
          "",
          "",
          "",
          "",
          "",
          "",
          "",
          "",
          "",
          "",
          "",
          "",
          "",
          "",
          "",
          "",
          "",
          "",
          "",
          "",
          "",
          "",
          "",
          "",
          "",
          "",
          "",
          "",
          "",
          "",
          "",
          "",
          "",
          "",
          "",
          "",
          "",
          "",
          "",
          "",
          "",
          "",
          "",
          "",
          "",
          "",
          "",
          "",
          "",
          "",
          "",
          "",
          "",
          "",
          "",
          "",
          "",
          "",
          "",
          "",
          "",
          "",
          "",
          "",
          "",
          "",
          "",
          "",
          "",
          "",
          "",
          "",
          "",
          "",
          "",
          "",
          "",
          "",
          "",
          "",
          "",
          "",
          "",
          "",
          "",
          "",
          "",
          "",
          "",
          "",
          "",
          "",
          "",
          "",
          "",
          "",
          "",
          "",
          "",
          "",
          "",
          "",
          "",
          "",
          "",
          "",
          "",
          "",
          "",
          "",
          "",
          "",
          "",
          "",
          "",
          "",
          "",
          "",
          "",
          "",
          "",
          "",
          "",
          "",
          "",
          "",
          "",
          "",
          "",
          "",
          "",
          "",
          "",
          "",
          "",
          "",
          "",
          "",
          "",
          "",
          "",
          "",
          "",
          "",
          "",
          "",
          "",
          "",
          "",
          "",
          "",
          "",
          "",
          "",
          "",
          ""
         ],
         "textposition": "middle right",
         "type": "scatter",
         "x": {
          "bdata": "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",
          "dtype": "f8"
         },
         "y": {
          "bdata": "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",
          "dtype": "f8"
         },
         "yaxis": "y"
        },
        {
         "legendgroup": "3",
         "line": {
          "color": "#FF9C12",
          "dash": "dash",
          "width": 0.8
         },
         "meta": "line",
         "mode": "lines",
         "name": "trace 3 Gaussian",
         "opacity": 0.9,
         "showlegend": false,
         "text": [
          "",
          "",
          "",
          "",
          "",
          "",
          "",
          "",
          "",
          "",
          "",
          "",
          "",
          "",
          "",
          "",
          "",
          "",
          "",
          "",
          "",
          "",
          "",
          "",
          "",
          "",
          "",
          "",
          "",
          "",
          "",
          "",
          "",
          "",
          "",
          "",
          "",
          "",
          "",
          "",
          "",
          "",
          "",
          "",
          "",
          "",
          "",
          "",
          "",
          "",
          "",
          "",
          "",
          "",
          "",
          "",
          "",
          "",
          "",
          "",
          "",
          "",
          "",
          "",
          "",
          "",
          "",
          "",
          "",
          "",
          "",
          "",
          "",
          "",
          "",
          "",
          "",
          "",
          "",
          "",
          "",
          "",
          "",
          "",
          "",
          "",
          "",
          "",
          "",
          "",
          "",
          "",
          "",
          "",
          "",
          "",
          "",
          "",
          "",
          "",
          "",
          "",
          "",
          "",
          "",
          "",
          "",
          "",
          "",
          "",
          "",
          "",
          "",
          "",
          "",
          "",
          "",
          "",
          "",
          "",
          "",
          "",
          "",
          "",
          "",
          "",
          "",
          "",
          "",
          "",
          "",
          "",
          "",
          "",
          "",
          "",
          "",
          "",
          "",
          "",
          "",
          "",
          "",
          "",
          "",
          "",
          "",
          "",
          "",
          "",
          "",
          "",
          "",
          "",
          "",
          "",
          "",
          "",
          "",
          "",
          "",
          "",
          "",
          "",
          "",
          "",
          "",
          "",
          "",
          "",
          "",
          "",
          "",
          "",
          "",
          "",
          "",
          "",
          "",
          "",
          "",
          "",
          "",
          "",
          "",
          "",
          "",
          "",
          "",
          "",
          "",
          "",
          "",
          "",
          "",
          "",
          "",
          "",
          "",
          "",
          "",
          "",
          "",
          "",
          "",
          "",
          "",
          "",
          "",
          "",
          "",
          "",
          "",
          "",
          "",
          "",
          "",
          "",
          "",
          "",
          "",
          "",
          "",
          "",
          "",
          "",
          "",
          "",
          "",
          "",
          "",
          "",
          "",
          "",
          "",
          "",
          "",
          "",
          "",
          "",
          "",
          "",
          "",
          "",
          "",
          "",
          "",
          "",
          "",
          "",
          "",
          "",
          "",
          "",
          "",
          "",
          "",
          "",
          "",
          "",
          "",
          "",
          "",
          "",
          "",
          "",
          "",
          "",
          "",
          "",
          "",
          "",
          "",
          "",
          "",
          "",
          "",
          "",
          "",
          "",
          "",
          "",
          "",
          "",
          "",
          "",
          "",
          "",
          "",
          "",
          "",
          "",
          "",
          "",
          "",
          "",
          "",
          "",
          "",
          "",
          "",
          "",
          "",
          "",
          "",
          "",
          "",
          "",
          "",
          "",
          "",
          "",
          "",
          "",
          "",
          "",
          "",
          "",
          "",
          "",
          "",
          "",
          "",
          "",
          "",
          "",
          "",
          "",
          "",
          "",
          "",
          "",
          "",
          "",
          "",
          "",
          "",
          "",
          "",
          "",
          "",
          "",
          "",
          "",
          "",
          "",
          "",
          "",
          "",
          "",
          "",
          "",
          "",
          "",
          "",
          "",
          "",
          "",
          "",
          "",
          "",
          "",
          "",
          "",
          "",
          "",
          "",
          "",
          "",
          "",
          "",
          "",
          "",
          "",
          "",
          "",
          "",
          "",
          "",
          "",
          "",
          "",
          "",
          "",
          "",
          "",
          "",
          "",
          "",
          "",
          "",
          "",
          "",
          "",
          "",
          "",
          "",
          "",
          "",
          "",
          "",
          "",
          "",
          "",
          "",
          "",
          "",
          "",
          "",
          "",
          "",
          "",
          "",
          "",
          "",
          "",
          "",
          "",
          "",
          "",
          "",
          "",
          "",
          "",
          "",
          "",
          "",
          "",
          "",
          "",
          "",
          "",
          "",
          "",
          "",
          "",
          "",
          "",
          "",
          "",
          "",
          "",
          "",
          "",
          "",
          "",
          "",
          "",
          "",
          "",
          "",
          "",
          "",
          "",
          "",
          "",
          "",
          "",
          "",
          "",
          "",
          "",
          "",
          "",
          "",
          "",
          "",
          "",
          "",
          "",
          "",
          "",
          "",
          "",
          "",
          "",
          "",
          "",
          "",
          "",
          "",
          "",
          "",
          "",
          "",
          "",
          "",
          "",
          "",
          "",
          "",
          "",
          "",
          "",
          "",
          "",
          "",
          "",
          "",
          ""
         ],
         "textposition": "middle right",
         "type": "scatter",
         "x": {
          "bdata": "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",
          "dtype": "f8"
         },
         "y": {
          "bdata": "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",
          "dtype": "f8"
         },
         "yaxis": "y"
        }
       ],
       "layout": {
        "coloraxis99": {
         "colorbar": {
          "title": {
           "text": "Density"
          }
         },
         "colorscale": [
          [
           0,
           "rgba(255, 0, 0, 0.0)"
          ],
          [
           0.1,
           "rgba(255, 0, 0, 0.1)"
          ],
          [
           0.2,
           "rgba(255, 0, 0, 0.2)"
          ],
          [
           0.5,
           "rgba(255, 0, 0, 0.5)"
          ],
          [
           1,
           "rgba(255, 0, 0, 1.0)"
          ]
         ]
        },
        "template": {
         "data": {
          "bar": [
           {
            "error_x": {
             "color": "#f2f5fa"
            },
            "error_y": {
             "color": "#f2f5fa"
            },
            "marker": {
             "line": {
              "color": "rgba(0,0,0,0)",
              "width": 0.5
             },
             "pattern": {
              "fillmode": "overlay",
              "size": 10,
              "solidity": 0.2
             }
            },
            "type": "bar"
           }
          ],
          "barpolar": [
           {
            "marker": {
             "line": {
              "color": "rgba(0,0,0,0)",
              "width": 0.5
             },
             "pattern": {
              "fillmode": "overlay",
              "size": 10,
              "solidity": 0.2
             }
            },
            "type": "barpolar"
           }
          ],
          "carpet": [
           {
            "aaxis": {
             "endlinecolor": "#A2B1C6",
             "gridcolor": "#506784",
             "linecolor": "#506784",
             "minorgridcolor": "#506784",
             "startlinecolor": "#A2B1C6"
            },
            "baxis": {
             "endlinecolor": "#A2B1C6",
             "gridcolor": "#506784",
             "linecolor": "#506784",
             "minorgridcolor": "#506784",
             "startlinecolor": "#A2B1C6"
            },
            "type": "carpet"
           }
          ],
          "choropleth": [
           {
            "colorbar": {
             "outlinewidth": 0,
             "ticks": ""
            },
            "type": "choropleth"
           }
          ],
          "contour": [
           {
            "colorbar": {
             "outlinewidth": 0,
             "ticks": ""
            },
            "colorscale": [
             [
              0,
              "#0d0887"
             ],
             [
              0.1111111111111111,
              "#46039f"
             ],
             [
              0.2222222222222222,
              "#7201a8"
             ],
             [
              0.3333333333333333,
              "#9c179e"
             ],
             [
              0.4444444444444444,
              "#bd3786"
             ],
             [
              0.5555555555555556,
              "#d8576b"
             ],
             [
              0.6666666666666666,
              "#ed7953"
             ],
             [
              0.7777777777777778,
              "#fb9f3a"
             ],
             [
              0.8888888888888888,
              "#fdca26"
             ],
             [
              1,
              "#f0f921"
             ]
            ],
            "type": "contour"
           }
          ],
          "contourcarpet": [
           {
            "colorbar": {
             "outlinewidth": 0,
             "ticks": ""
            },
            "type": "contourcarpet"
           }
          ],
          "heatmap": [
           {
            "colorbar": {
             "outlinewidth": 0,
             "ticks": ""
            },
            "colorscale": [
             [
              0,
              "#0d0887"
             ],
             [
              0.1111111111111111,
              "#46039f"
             ],
             [
              0.2222222222222222,
              "#7201a8"
             ],
             [
              0.3333333333333333,
              "#9c179e"
             ],
             [
              0.4444444444444444,
              "#bd3786"
             ],
             [
              0.5555555555555556,
              "#d8576b"
             ],
             [
              0.6666666666666666,
              "#ed7953"
             ],
             [
              0.7777777777777778,
              "#fb9f3a"
             ],
             [
              0.8888888888888888,
              "#fdca26"
             ],
             [
              1,
              "#f0f921"
             ]
            ],
            "hoverongaps": false,
            "texttemplate": "%{z}",
            "type": "heatmap"
           }
          ],
          "histogram": [
           {
            "histnorm": "probability density",
            "marker": {
             "line": {
              "width": 1
             },
             "opacity": 0.4,
             "pattern": {
              "fillmode": "overlay",
              "size": 10,
              "solidity": 0.2
             }
            },
            "type": "histogram"
           }
          ],
          "histogram2d": [
           {
            "colorbar": {
             "outlinewidth": 0,
             "ticks": ""
            },
            "colorscale": [
             [
              0,
              "#0d0887"
             ],
             [
              0.1111111111111111,
              "#46039f"
             ],
             [
              0.2222222222222222,
              "#7201a8"
             ],
             [
              0.3333333333333333,
              "#9c179e"
             ],
             [
              0.4444444444444444,
              "#bd3786"
             ],
             [
              0.5555555555555556,
              "#d8576b"
             ],
             [
              0.6666666666666666,
              "#ed7953"
             ],
             [
              0.7777777777777778,
              "#fb9f3a"
             ],
             [
              0.8888888888888888,
              "#fdca26"
             ],
             [
              1,
              "#f0f921"
             ]
            ],
            "type": "histogram2d"
           }
          ],
          "histogram2dcontour": [
           {
            "colorbar": {
             "outlinewidth": 0,
             "ticks": ""
            },
            "colorscale": [
             [
              0,
              "#0d0887"
             ],
             [
              0.1111111111111111,
              "#46039f"
             ],
             [
              0.2222222222222222,
              "#7201a8"
             ],
             [
              0.3333333333333333,
              "#9c179e"
             ],
             [
              0.4444444444444444,
              "#bd3786"
             ],
             [
              0.5555555555555556,
              "#d8576b"
             ],
             [
              0.6666666666666666,
              "#ed7953"
             ],
             [
              0.7777777777777778,
              "#fb9f3a"
             ],
             [
              0.8888888888888888,
              "#fdca26"
             ],
             [
              1,
              "#f0f921"
             ]
            ],
            "type": "histogram2dcontour"
           }
          ],
          "mesh3d": [
           {
            "colorbar": {
             "outlinewidth": 0,
             "ticks": ""
            },
            "type": "mesh3d"
           }
          ],
          "parcoords": [
           {
            "line": {
             "colorbar": {
              "outlinewidth": 0,
              "ticks": ""
             }
            },
            "type": "parcoords"
           }
          ],
          "pie": [
           {
            "automargin": true,
            "type": "pie"
           }
          ],
          "scatter": [
           {
            "hovertemplate": "<b>%{fullData.name}</b><br>x: %{x}<br>y: %{y}<extra></extra>",
            "marker": {
             "line": {
              "color": "#283442"
             },
             "size": 4
            },
            "type": "scatter"
           }
          ],
          "scatter3d": [
           {
            "line": {
             "colorbar": {
              "outlinewidth": 0,
              "ticks": ""
             }
            },
            "marker": {
             "colorbar": {
              "outlinewidth": 0,
              "ticks": ""
             }
            },
            "type": "scatter3d"
           }
          ],
          "scattercarpet": [
           {
            "marker": {
             "colorbar": {
              "outlinewidth": 0,
              "ticks": ""
             }
            },
            "type": "scattercarpet"
           }
          ],
          "scattergeo": [
           {
            "marker": {
             "colorbar": {
              "outlinewidth": 0,
              "ticks": ""
             }
            },
            "type": "scattergeo"
           }
          ],
          "scattergl": [
           {
            "marker": {
             "line": {
              "color": "#283442"
             }
            },
            "type": "scattergl"
           }
          ],
          "scattermapbox": [
           {
            "marker": {
             "colorbar": {
              "outlinewidth": 0,
              "ticks": ""
             }
            },
            "type": "scattermapbox"
           }
          ],
          "scatterpolar": [
           {
            "marker": {
             "colorbar": {
              "outlinewidth": 0,
              "ticks": ""
             }
            },
            "type": "scatterpolar"
           }
          ],
          "scatterpolargl": [
           {
            "marker": {
             "colorbar": {
              "outlinewidth": 0,
              "ticks": ""
             }
            },
            "type": "scatterpolargl"
           }
          ],
          "scatterternary": [
           {
            "marker": {
             "colorbar": {
              "outlinewidth": 0,
              "ticks": ""
             }
            },
            "type": "scatterternary"
           }
          ],
          "surface": [
           {
            "colorbar": {
             "outlinewidth": 0,
             "ticks": ""
            },
            "colorscale": [
             [
              0,
              "#0d0887"
             ],
             [
              0.1111111111111111,
              "#46039f"
             ],
             [
              0.2222222222222222,
              "#7201a8"
             ],
             [
              0.3333333333333333,
              "#9c179e"
             ],
             [
              0.4444444444444444,
              "#bd3786"
             ],
             [
              0.5555555555555556,
              "#d8576b"
             ],
             [
              0.6666666666666666,
              "#ed7953"
             ],
             [
              0.7777777777777778,
              "#fb9f3a"
             ],
             [
              0.8888888888888888,
              "#fdca26"
             ],
             [
              1,
              "#f0f921"
             ]
            ],
            "type": "surface"
           }
          ],
          "table": [
           {
            "cells": {
             "fill": {
              "color": "#506784"
             },
             "line": {
              "color": "rgba(0,0,0,0)"
             }
            },
            "header": {
             "fill": {
              "color": "#2a3f5f"
             },
             "line": {
              "color": "rgba(0,0,0,0)"
             }
            },
            "type": "table"
           }
          ]
         },
         "layout": {
          "annotationdefaults": {
           "arrowcolor": "#f2f5fa",
           "arrowhead": 0,
           "arrowwidth": 0.5,
           "font": {
            "size": 10
           }
          },
          "autotypenumbers": "strict",
          "barmode": "overlay",
          "boxmode": "group",
          "coloraxis": {
           "colorbar": {
            "outlinewidth": 0,
            "ticks": ""
           }
          },
          "colorscale": {
           "diverging": [
            [
             0,
             "#8e0152"
            ],
            [
             0.1,
             "#c51b7d"
            ],
            [
             0.2,
             "#de77ae"
            ],
            [
             0.3,
             "#f1b6da"
            ],
            [
             0.4,
             "#fde0ef"
            ],
            [
             0.5,
             "#f7f7f7"
            ],
            [
             0.6,
             "#e6f5d0"
            ],
            [
             0.7,
             "#b8e186"
            ],
            [
             0.8,
             "#7fbc41"
            ],
            [
             0.9,
             "#4d9221"
            ],
            [
             1,
             "#276419"
            ]
           ],
           "sequential": [
            [
             0,
             "#0d0887"
            ],
            [
             0.1111111111111111,
             "#46039f"
            ],
            [
             0.2222222222222222,
             "#7201a8"
            ],
            [
             0.3333333333333333,
             "#9c179e"
            ],
            [
             0.4444444444444444,
             "#bd3786"
            ],
            [
             0.5555555555555556,
             "#d8576b"
            ],
            [
             0.6666666666666666,
             "#ed7953"
            ],
            [
             0.7777777777777778,
             "#fb9f3a"
            ],
            [
             0.8888888888888888,
             "#fdca26"
            ],
            [
             1,
             "#f0f921"
            ]
           ],
           "sequentialminus": [
            [
             0,
             "#0d0887"
            ],
            [
             0.1111111111111111,
             "#46039f"
            ],
            [
             0.2222222222222222,
             "#7201a8"
            ],
            [
             0.3333333333333333,
             "#9c179e"
            ],
            [
             0.4444444444444444,
             "#bd3786"
            ],
            [
             0.5555555555555556,
             "#d8576b"
            ],
            [
             0.6666666666666666,
             "#ed7953"
            ],
            [
             0.7777777777777778,
             "#fb9f3a"
            ],
            [
             0.8888888888888888,
             "#fdca26"
            ],
            [
             1,
             "#f0f921"
            ]
           ]
          },
          "colorway": [
           "#ab63fa",
           "#30D5DB",
           "#B6E880",
           "#FF9C12",
           "#FF6692",
           "#9299FD",
           "#73DBB6",
           "#FFE989",
           "#FFA15A",
           "#FF85FF",
           "#DEBFFF",
           "#636efa",
           "#00cc96",
           "#FECB52",
           "#CF4915",
           "#FF97FF",
           "#C592FD",
           "#19d3f3",
           "#3BDB5F",
           "#FFBD8E",
           "#EF553B",
           "#FFCCFF"
          ],
          "font": {
           "color": "#f2f5fa",
           "family": "\"SF Pro Rounded\", \"Mona Sans\", \"CMU Serif\", \"Monaspace Neon\", \"Open Sans\", verdana, arial, sans-serif",
           "weight": 200
          },
          "geo": {
           "bgcolor": "rgba(0,0,0,0)",
           "lakecolor": "rgba(0,0,0,0)",
           "landcolor": "rgba(0,0,0,0)",
           "showlakes": true,
           "showland": true,
           "subunitcolor": "#506784"
          },
          "hoverlabel": {
           "align": "left"
          },
          "hovermode": "closest",
          "legend": {
           "bgcolor": "rgba(0,0,0,0)",
           "font": {
            "size": 10
           },
           "grouptitlefont": {
            "size": 12,
            "weight": 200
           },
           "itemsizing": "trace",
           "itemwidth": 30,
           "orientation": "h",
           "y": 1,
           "yanchor": "bottom",
           "yref": "paper"
          },
          "mapbox": {
           "style": "dark"
          },
          "margin": {
           "b": 50,
           "l": 50,
           "r": 10,
           "t": 75
          },
          "modebar": {
           "add": [],
           "bgcolor": "rgba(0,0,0,0)",
           "remove": [
            "zoomin",
            "zoomout",
            "lasso",
            "autoscale",
            "select"
           ]
          },
          "paper_bgcolor": "rgba(0,0,0,0)",
          "plot_bgcolor": "rgba(0,0,0,0)",
          "polar": {
           "angularaxis": {
            "gridcolor": "#506784",
            "linecolor": "#506784",
            "ticks": ""
           },
           "bgcolor": "rgba(0,0,0,0)",
           "radialaxis": {
            "gridcolor": "#506784",
            "linecolor": "#506784",
            "ticks": ""
           }
          },
          "scene": {
           "aspectmode": "auto",
           "bgcolor": "rgba(0,0,0,0)",
           "xaxis": {
            "backgroundcolor": "rgba(0,0,0,0)",
            "gridcolor": "#506784",
            "gridwidth": 2,
            "linecolor": "#506784",
            "mirror": true,
            "showbackground": true,
            "showline": true,
            "showspikes": false,
            "ticks": "",
            "zeroline": true,
            "zerolinecolor": "#C8D4E3"
           },
           "yaxis": {
            "backgroundcolor": "rgba(0,0,0,0)",
            "gridcolor": "#506784",
            "gridwidth": 2,
            "linecolor": "#506784",
            "mirror": true,
            "showbackground": true,
            "showline": true,
            "showspikes": false,
            "ticks": "",
            "zeroline": true,
            "zerolinecolor": "#C8D4E3"
           },
           "zaxis": {
            "backgroundcolor": "rgba(0,0,0,0)",
            "gridcolor": "#506784",
            "gridwidth": 2,
            "linecolor": "#506784",
            "mirror": true,
            "showbackground": true,
            "showline": true,
            "ticks": "",
            "zeroline": true,
            "zerolinecolor": "#C8D4E3"
           }
          },
          "shapedefaults": {
           "line": {
            "color": "#f2f5fa"
           }
          },
          "showlegend": true,
          "sliderdefaults": {
           "bgcolor": "#C8D4E3",
           "bordercolor": "rgba(0,0,0,0)",
           "borderwidth": 1,
           "tickwidth": 0
          },
          "ternary": {
           "aaxis": {
            "gridcolor": "#506784",
            "linecolor": "#506784",
            "ticks": ""
           },
           "baxis": {
            "gridcolor": "#506784",
            "linecolor": "#506784",
            "ticks": ""
           },
           "bgcolor": "rgba(0,0,0,0)",
           "caxis": {
            "gridcolor": "#506784",
            "linecolor": "#506784",
            "ticks": ""
           }
          },
          "title": {
           "font": {
            "size": 28
           },
           "pad": {
            "b": 40
           },
           "x": 0.5,
           "y": 1,
           "yanchor": "bottom",
           "yref": "paper"
          },
          "updatemenudefaults": {
           "bgcolor": "rgba(33, 67, 96, 0.4)",
           "bordercolor": "rgba(0,0,0,0)",
           "borderwidth": 0,
           "buttons": [
            {
             "args": [
              "type",
              "mesh3d"
             ],
             "label": "3D Bar",
             "method": "restyle",
             "name": "bar3d"
            }
           ],
           "direction": "left",
           "font": {
            "size": 11,
            "weight": 200
           },
           "showactive": true,
           "type": "buttons",
           "x": 1,
           "xanchor": "right",
           "yanchor": "bottom"
          },
          "xaxis": {
           "gridcolor": "#283442",
           "gridwidth": 2,
           "linecolor": "#506784",
           "minor": {
            "gridcolor": "rgba(40, 52, 66, 0.4)",
            "showgrid": true
           },
           "mirror": true,
           "showgrid": true,
           "showline": true,
           "tickfont": {
            "size": 12
           },
           "ticklabelmode": "period",
           "title": {
            "font": {
             "size": 16
            },
            "standoff": 10
           },
           "zeroline": true,
           "zerolinecolor": "#283442",
           "zerolinewidth": 2
          },
          "yaxis": {
           "gridcolor": "#283442",
           "gridwidth": 2,
           "linecolor": "#506784",
           "minor": {
            "gridcolor": "rgba(40, 52, 66, 0.4)",
            "showgrid": true
           },
           "mirror": true,
           "showgrid": true,
           "showline": true,
           "tickfont": {
            "size": 12
           },
           "ticklabelmode": "period",
           "title": {
            "font": {
             "size": 16
            },
            "standoff": 10
           },
           "zeroline": true,
           "zerolinecolor": "#283442",
           "zerolinewidth": 2
          }
         }
        },
        "updatemenus": [
         {
          "buttons": [
           {}
          ]
         }
        ],
        "yaxis": {
         "domain": [
          0.4,
          1
         ]
        },
        "yaxis2": {
         "anchor": "x",
         "domain": [
          0,
          0.3
         ],
         "dtick": 1,
         "fixedrange": true,
         "minor": {
          "showgrid": false
         },
         "showgrid": false,
         "showline": true,
         "showticklabels": false
        }
       }
      }
     },
     "metadata": {},
     "output_type": "display_data"
    }
   ],
   "source": [
    "Plot.from_traces(\n",
    "    go.Histogram(\n",
    "        x=np.random.normal(size=500),\n",
    "        nbinsx=100,\n",
    "        bingroup=1,\n",
    "        legendgroup=\"a\",\n",
    "        # marker=dict(color=\"blue\"),\n",
    "        # marker=dict(line_color='currentColor'),\n",
    "    ),\n",
    "    go.Histogram(\n",
    "        x=np.random.normal(loc=2, size=100),\n",
    "        bingroup=1,\n",
    "        # legendgroup=\"b\",\n",
    "    ),\n",
    "    go.Histogram(\n",
    "        x=np.random.normal(loc=4, scale=0.4, size=100),\n",
    "        bingroup=1,\n",
    "        # legendgroup=\"b\",\n",
    "    ),\n",
    "    go.Histogram(\n",
    "        x=np.random.normal(loc=4, scale=0.2, size=50),\n",
    "        bingroup=1,\n",
    "        # legendgroup=\"b\",\n",
    "    ),\n",
    "    description=\"\",\n",
    ").add_defaults().add_rug(rug_type=\"violin\").add_histogram_gaussians()\n"
   ]
  }
 ],
 "metadata": {
  "kernelspec": {
   "display_name": ".venv",
   "language": "python",
   "name": "python3"
  },
  "language_info": {
   "codemirror_mode": {
    "name": "ipython",
    "version": 3
   },
   "file_extension": ".py",
   "mimetype": "text/x-python",
   "name": "python",
   "nbconvert_exporter": "python",
   "pygments_lexer": "ipython3",
   "version": "3.13.7"
  }
 },
 "nbformat": 4,
 "nbformat_minor": 5
}
